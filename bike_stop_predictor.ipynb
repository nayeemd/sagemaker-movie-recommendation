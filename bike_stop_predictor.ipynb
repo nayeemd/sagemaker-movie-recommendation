{
 "cells": [
  {
   "cell_type": "markdown",
   "metadata": {},
   "source": [
    "# Building Ride Share Predictions"
   ]
  },
  {
   "cell_type": "markdown",
   "metadata": {},
   "source": [
    "<p>This notebook provides the steps our team took to determine if it is ipossible to predict with a certain accuracy the destination of a ride share rental.</p>\n",
    "<p>To start using Sagemaker go here: <a href=\"https://aws.amazon.com/sagemaker/\">Sagemaker</a></p>\n",
    "<p>The data we used we obtained from here: https://console.cloud.google.com/marketplace/details/city-of-new-york/nyc-citi-bike <p> "
   ]
  },
  {
   "cell_type": "markdown",
   "metadata": {},
   "source": [
    "## Read the whole data from S3"
   ]
  },
  {
   "cell_type": "code",
   "execution_count": 121,
   "metadata": {},
   "outputs": [],
   "source": [
    "import pandas as pd\n",
    "import os"
   ]
  },
  {
   "cell_type": "code",
   "execution_count": 122,
   "metadata": {},
   "outputs": [],
   "source": [
    "bucket = 'data-ml-training'\n",
    "path = 'data/train/'\n",
    "training_filename= 'Training_data_original.csv'\n",
    "training_filename_no_headers = 'Training_data_cleaned_only_numeric_no_headers.csv'\n",
    "validation_filename = 'validation_data_cleaned_only_numeric_no_headers.csv'\n",
    "testing_filename = 'test_data_set_with_stop_First.csv'\n",
    "testing_filename_no_stop = 'test_data_set_with_removed_stop-station.csv'\n",
    "s3_test_file_path = os.path.join('s3://', bucket, path, testing_filename)\n",
    "s3_path = os.path.join('s3://', bucket, path, training_filename)\n",
    "\n",
    "df_all = pd.read_csv(s3_path)"
   ]
  },
  {
   "cell_type": "markdown",
   "metadata": {},
   "source": [
    "## Start Exploring the data "
   ]
  },
  {
   "cell_type": "code",
   "execution_count": 123,
   "metadata": {},
   "outputs": [],
   "source": [
    "import numpy as np\n",
    "import matplotlib.pyplot as plt\n",
    "import seaborn as sns\n",
    "\n",
    "plt.style.use('seaborn-whitegrid')\n",
    "%matplotlib inline"
   ]
  },
  {
   "cell_type": "markdown",
   "metadata": {},
   "source": [
    "<p>We found data on both the citi bike stations and rides from the stations. \n",
    "     We selected the top 10 stations that had the most number of rides. For each of those stations, we exported the top 16,000 rows (sorted by date desc) (16,000 was the limit for exporting).  We kept the most recent 2,000 rides from each station to use as the testing set, and the remaining 14,000 for each as the training set. </p>\n",
    "We removed the the start time, and end time columns as we were concerned about time and didn't want to convert them to be numeric. We also removed the latitude/longitude of the stop station as it identifes the stop station.\n",
    "We converted other data columns to their numeric representations. \n",
    "    User Type: Subscriber (0) and Customer(1), \n",
    "    Gender: female(0), make(1), unknown(2)\n",
    "        </p>\n",
    "    \n"
   ]
  },
  {
   "cell_type": "code",
   "execution_count": 120,
   "metadata": {},
   "outputs": [
    {
     "data": {
      "text/html": [
       "<div>\n",
       "<style scoped>\n",
       "    .dataframe tbody tr th:only-of-type {\n",
       "        vertical-align: middle;\n",
       "    }\n",
       "\n",
       "    .dataframe tbody tr th {\n",
       "        vertical-align: top;\n",
       "    }\n",
       "\n",
       "    .dataframe thead th {\n",
       "        text-align: right;\n",
       "    }\n",
       "</style>\n",
       "<table border=\"1\" class=\"dataframe\">\n",
       "  <thead>\n",
       "    <tr style=\"text-align: right;\">\n",
       "      <th></th>\n",
       "      <th>tripduration</th>\n",
       "      <th>start_station_id</th>\n",
       "      <th>start_station_latitude</th>\n",
       "      <th>start_station_longitude</th>\n",
       "      <th>end_station_id</th>\n",
       "      <th>end_station_latitude</th>\n",
       "      <th>end_station_longitude</th>\n",
       "      <th>bikeid</th>\n",
       "      <th>birth_year</th>\n",
       "    </tr>\n",
       "  </thead>\n",
       "  <tbody>\n",
       "    <tr>\n",
       "      <th>count</th>\n",
       "      <td>1.400000e+05</td>\n",
       "      <td>140000.000000</td>\n",
       "      <td>140000.000000</td>\n",
       "      <td>140000.000000</td>\n",
       "      <td>140000.000000</td>\n",
       "      <td>140000.000000</td>\n",
       "      <td>140000.000000</td>\n",
       "      <td>140000.000000</td>\n",
       "      <td>137940.000000</td>\n",
       "    </tr>\n",
       "    <tr>\n",
       "      <th>mean</th>\n",
       "      <td>7.753823e+02</td>\n",
       "      <td>672.400000</td>\n",
       "      <td>40.739491</td>\n",
       "      <td>-73.991215</td>\n",
       "      <td>994.320443</td>\n",
       "      <td>40.739509</td>\n",
       "      <td>-73.990958</td>\n",
       "      <td>26056.889229</td>\n",
       "      <td>1977.561657</td>\n",
       "    </tr>\n",
       "    <tr>\n",
       "      <th>std</th>\n",
       "      <td>1.383369e+04</td>\n",
       "      <td>837.542268</td>\n",
       "      <td>0.017287</td>\n",
       "      <td>0.010361</td>\n",
       "      <td>1178.275217</td>\n",
       "      <td>0.019682</td>\n",
       "      <td>0.012630</td>\n",
       "      <td>5990.204541</td>\n",
       "      <td>12.741348</td>\n",
       "    </tr>\n",
       "    <tr>\n",
       "      <th>min</th>\n",
       "      <td>6.100000e+01</td>\n",
       "      <td>146.000000</td>\n",
       "      <td>40.713126</td>\n",
       "      <td>-74.009106</td>\n",
       "      <td>72.000000</td>\n",
       "      <td>40.657089</td>\n",
       "      <td>-74.017134</td>\n",
       "      <td>14529.000000</td>\n",
       "      <td>1895.000000</td>\n",
       "    </tr>\n",
       "    <tr>\n",
       "      <th>25%</th>\n",
       "      <td>3.180000e+02</td>\n",
       "      <td>291.000000</td>\n",
       "      <td>40.729039</td>\n",
       "      <td>-74.000040</td>\n",
       "      <td>335.000000</td>\n",
       "      <td>40.725256</td>\n",
       "      <td>-73.999733</td>\n",
       "      <td>19999.000000</td>\n",
       "      <td>1968.000000</td>\n",
       "    </tr>\n",
       "    <tr>\n",
       "      <th>50%</th>\n",
       "      <td>5.320000e+02</td>\n",
       "      <td>478.500000</td>\n",
       "      <td>40.738387</td>\n",
       "      <td>-73.992516</td>\n",
       "      <td>458.000000</td>\n",
       "      <td>40.739355</td>\n",
       "      <td>-73.991026</td>\n",
       "      <td>27875.000000</td>\n",
       "      <td>1979.000000</td>\n",
       "    </tr>\n",
       "    <tr>\n",
       "      <th>75%</th>\n",
       "      <td>8.692500e+02</td>\n",
       "      <td>519.000000</td>\n",
       "      <td>40.751873</td>\n",
       "      <td>-73.982614</td>\n",
       "      <td>529.000000</td>\n",
       "      <td>40.751726</td>\n",
       "      <td>-73.982681</td>\n",
       "      <td>31205.000000</td>\n",
       "      <td>1988.000000</td>\n",
       "    </tr>\n",
       "    <tr>\n",
       "      <th>max</th>\n",
       "      <td>4.845321e+06</td>\n",
       "      <td>3158.000000</td>\n",
       "      <td>40.771639</td>\n",
       "      <td>-73.975739</td>\n",
       "      <td>3686.000000</td>\n",
       "      <td>40.814394</td>\n",
       "      <td>-73.912555</td>\n",
       "      <td>33689.000000</td>\n",
       "      <td>2002.000000</td>\n",
       "    </tr>\n",
       "  </tbody>\n",
       "</table>\n",
       "</div>"
      ],
      "text/plain": [
       "       tripduration  start_station_id  start_station_latitude  \\\n",
       "count  1.400000e+05     140000.000000           140000.000000   \n",
       "mean   7.753823e+02        672.400000               40.739491   \n",
       "std    1.383369e+04        837.542268                0.017287   \n",
       "min    6.100000e+01        146.000000               40.713126   \n",
       "25%    3.180000e+02        291.000000               40.729039   \n",
       "50%    5.320000e+02        478.500000               40.738387   \n",
       "75%    8.692500e+02        519.000000               40.751873   \n",
       "max    4.845321e+06       3158.000000               40.771639   \n",
       "\n",
       "       start_station_longitude  end_station_id  end_station_latitude  \\\n",
       "count            140000.000000   140000.000000         140000.000000   \n",
       "mean                -73.991215      994.320443             40.739509   \n",
       "std                   0.010361     1178.275217              0.019682   \n",
       "min                 -74.009106       72.000000             40.657089   \n",
       "25%                 -74.000040      335.000000             40.725256   \n",
       "50%                 -73.992516      458.000000             40.739355   \n",
       "75%                 -73.982614      529.000000             40.751726   \n",
       "max                 -73.975739     3686.000000             40.814394   \n",
       "\n",
       "       end_station_longitude         bikeid     birth_year  \n",
       "count          140000.000000  140000.000000  137940.000000  \n",
       "mean              -73.990958   26056.889229    1977.561657  \n",
       "std                 0.012630    5990.204541      12.741348  \n",
       "min               -74.017134   14529.000000    1895.000000  \n",
       "25%               -73.999733   19999.000000    1968.000000  \n",
       "50%               -73.991026   27875.000000    1979.000000  \n",
       "75%               -73.982681   31205.000000    1988.000000  \n",
       "max               -73.912555   33689.000000    2002.000000  "
      ]
     },
     "execution_count": 120,
     "metadata": {},
     "output_type": "execute_result"
    }
   ],
   "source": [
    "df_all.describe()"
   ]
  },
  {
   "cell_type": "markdown",
   "metadata": {},
   "source": [
    "### Geographic "
   ]
  },
  {
   "cell_type": "code",
   "execution_count": 92,
   "metadata": {},
   "outputs": [],
   "source": [
    "nyc_box = (-74.1, -73.7, 40.6, 40.9)"
   ]
  },
  {
   "cell_type": "code",
   "execution_count": 93,
   "metadata": {},
   "outputs": [],
   "source": [
    "def filter_coordinates(df, box):\n",
    "    return (df.start_station_longitude >= box[0]) & (df.start_station_longitude <= box[1]) & \\\n",
    "           (df.start_station_latitude >= box[2]) & (df.start_station_latitude <=box[3]) & \\\n",
    "           (df.end_station_longitude >= box[0]) & (df.end_station_longitude <= box[1]) & \\\n",
    "           (df.end_station_latitude >= box[2]) & (df.end_station_latitude <= box[3])"
   ]
  },
  {
   "cell_type": "code",
   "execution_count": 94,
   "metadata": {},
   "outputs": [],
   "source": [
    "def plot_hires(df, box, figsize=(12, 12), ax=None, c=sns.color_palette(\"husl\", 2)):\n",
    "    if ax == None:\n",
    "        fig, ax = plt.subplots(1, 1, figsize=figsize)\n",
    "\n",
    "    idx = filter_coordinates(df, box)\n",
    "    ax.scatter(df[idx].start_station_longitude, df[idx].start_station_latitude, c=c[0], s=0.1, lw=0.1, alpha=0.5)\n",
    "    ax.scatter(df[idx].end_station_longitude, df[idx].end_station_latitude, c=c[1], s=0.1, lw=0.1, alpha=0.5)"
   ]
  },
  {
   "cell_type": "code",
   "execution_count": 95,
   "metadata": {},
   "outputs": [
    {
     "name": "stderr",
     "output_type": "stream",
     "text": [
      "'c' argument looks like a single numeric RGB or RGBA sequence, which should be avoided as value-mapping will have precedence in case its length matches with 'x' & 'y'.  Please use a 2-D array with a single row if you really want to specify the same RGB or RGBA value for all points.\n",
      "'c' argument looks like a single numeric RGB or RGBA sequence, which should be avoided as value-mapping will have precedence in case its length matches with 'x' & 'y'.  Please use a 2-D array with a single row if you really want to specify the same RGB or RGBA value for all points.\n"
     ]
    },
    {
     "data": {
      "image/png": "[encoded data removed]",
      "text/plain": [
       "<Figure size 864x864 with 1 Axes>"
      ]
     },
     "metadata": {},
     "output_type": "display_data"
    }
   ],
   "source": [
    "plot_hires(df_all, nyc_box)"
   ]
  },
  {
   "cell_type": "markdown",
   "metadata": {},
   "source": [
    "<p>In the scatter plot above, it seems that there is a lot of variation in the destinations of the 10 stations that are are looking at.</p>"
   ]
  },
  {
   "cell_type": "markdown",
   "metadata": {},
   "source": [
    "## Train model "
   ]
  },
  {
   "cell_type": "code",
   "execution_count": 36,
   "metadata": {},
   "outputs": [],
   "source": [
    "from sagemaker.amazon.amazon_estimator import get_image_uri\n",
    "import sagemaker\n",
    "from sagemaker import get_execution_role\n",
    "import boto3\n",
    "from datetime import datetime"
   ]
  },
  {
   "cell_type": "code",
   "execution_count": 37,
   "metadata": {},
   "outputs": [
    {
     "name": "stdout",
     "output_type": "stream",
     "text": [
      "data/train/Training_data_cleaned_only_numeric_no_headers.csv\n",
      "data/train/testing_data_cleaned_only_numeric_no_headers.csv\n"
     ]
    }
   ],
   "source": [
    "path_train = os.path.join(path, training_filename_no_headers)\n",
    "print(path_train)\n",
    "path_validation = os.path.join(path, validation_filename)\n",
    "print(path_test)"
   ]
  },
  {
   "cell_type": "code",
   "execution_count": 38,
   "metadata": {},
   "outputs": [],
   "source": [
    "container = get_image_uri(boto3.Session().region_name, 'xgboost')"
   ]
  },
  {
   "cell_type": "code",
   "execution_count": 39,
   "metadata": {},
   "outputs": [
    {
     "name": "stdout",
     "output_type": "stream",
     "text": [
      "<sagemaker.session.s3_input object at 0x7f0046800ba8>\n",
      "<sagemaker.session.s3_input object at 0x7f0046800be0>\n"
     ]
    }
   ],
   "source": [
    "train_channel = sagemaker.session.s3_input('s3://{}/{}'.format(bucket, path_train), content_type='text/csv')\n",
    "print(train_channel)\n",
    "validation_channel = sagemaker.session.s3_input(s3_data='s3://{}/{}'.format(bucket, path_test), content_type='text/csv')\n",
    "print(validation_channel)\n",
    "data_channels = {'train': train_channel, 'validation': validation_channel}\n"
   ]
  },
  {
   "cell_type": "code",
   "execution_count": 40,
   "metadata": {},
   "outputs": [
    {
     "name": "stdout",
     "output_type": "stream",
     "text": [
      "<sagemaker.session.Session object at 0x7f0046800588>\n",
      "arn:aws:iam::023375022819:role/service-role/AmazonSageMaker-ExecutionRole-20190520T113312\n"
     ]
    }
   ],
   "source": [
    "sess = sagemaker.Session()\n",
    "print(sess)\n",
    "role = get_execution_role()\n",
    "print(role)"
   ]
  },
  {
   "cell_type": "code",
   "execution_count": 26,
   "metadata": {},
   "outputs": [
    {
     "name": "stdout",
     "output_type": "stream",
     "text": [
      "training_jobs/2019-06-20-13-48-05\n"
     ]
    }
   ],
   "source": [
    "training_job_path = os.path.join('training_jobs', datetime.now().strftime('%Y-%m-%d-%H-%M-%S'))\n",
    "print(training_job_path)"
   ]
  },
  {
   "cell_type": "code",
   "execution_count": 124,
   "metadata": {},
   "outputs": [],
   "source": [
    "\n",
    "xgb = sagemaker.estimator.Estimator(container,\n",
    "                                    role, \n",
    "                                    train_instance_count=4, \n",
    "                                    train_instance_type='ml.m4.16xlarge',\n",
    "                                    output_path='s3://{}/{}/output'.format(bucket,training_job_path),\n",
    "                                    sagemaker_session=sess)"
   ]
  },
  {
   "cell_type": "code",
   "execution_count": 125,
   "metadata": {},
   "outputs": [
    {
     "name": "stdout",
     "output_type": "stream",
     "text": [
      "s3://data-ml-training/training_jobs/2019-06-20-13-48-05/output\n"
     ]
    }
   ],
   "source": [
    "'s3://{}/{}/output'.format(bucket,training_job_path)\n",
    "print('s3://{}/{}/output'.format(bucket,training_job_path))"
   ]
  },
  {
   "cell_type": "code",
   "execution_count": 126,
   "metadata": {},
   "outputs": [],
   "source": [
    "#we want to use classifier model\n",
    "xgb.set_hyperparameters(max_depth=9,\n",
    "                        eta=0.2,\n",
    "                        gamma=4,\n",
    "                        min_child_weight=300,\n",
    "                        subsample=0.8,\n",
    "                        silent=0,\n",
    "                        objective='multi:softmax',\n",
    "                        early_stopping_rounds=10,\n",
    "                        num_round=10000,\n",
    "                        eval_metric='error',\n",
    "                        num_class=3686  #THIS IS THE NUMBER IS CURRENTLY THE HIGHTEST STATION NUMBER. In order for this to work, we need to find all the station numbers (there are 856) and assign them a value so that they are sequential \n",
    "                       )\n"
   ]
  },
  {
   "cell_type": "code",
   "execution_count": null,
   "metadata": {
    "scrolled": false
   },
   "outputs": [
    {
     "name": "stdout",
     "output_type": "stream",
     "text": [
      "2019-06-20 17:20:45 Starting - Starting the training job...\n",
      "2019-06-20 17:21:13 Starting - Launching requested ML instances....."
     ]
    }
   ],
   "source": [
    "xgb.fit(inputs=data_channels,logs=True)"
   ]
  },
  {
   "cell_type": "markdown",
   "metadata": {},
   "source": [
    "## Deploy the model "
   ]
  },
  {
   "cell_type": "markdown",
   "metadata": {},
   "source": [
    "To deploy the model we move to the Amazon Sagemaker console and perform the following steps: <br>\n",
    "1) Create model <br>\n",
    "2) Create an endpoint configuration <br>\n",
    "3) create and endpoint <br>"
   ]
  },
  {
   "cell_type": "code",
   "execution_count": null,
   "metadata": {},
   "outputs": [],
   "source": [
    "training_job_name='stop-estimator'\n",
    "xgb_predictor = xgb.deploy(initial_instance_count=1, instance_type='ml.m4.16xlarge', endpoint_name='stop-estimator')\n",
    "print(xgb_predictor)"
   ]
  },
  {
   "cell_type": "markdown",
   "metadata": {},
   "source": [
    "## Evaluate results "
   ]
  },
  {
   "cell_type": "markdown",
   "metadata": {},
   "source": [
    "Parts taken from here:<br>\n",
    "https://aws.amazon.com/blogs/machine-learning/simplify-machine-learning-with-xgboost-and-amazon-sagemaker/"
   ]
  },
  {
   "cell_type": "code",
   "execution_count": 50,
   "metadata": {},
   "outputs": [],
   "source": [
    "from sagemaker.predictor import csv_serializer"
   ]
  },
  {
   "cell_type": "code",
   "execution_count": 58,
   "metadata": {},
   "outputs": [],
   "source": [
    "s3_validation_file_path = os.path.join('s3://', bucket, path, validation_filename)\n",
    "df_test = pd.read_csv(s3_test_file_path, header=None)\n",
    "#print(df_test)"
   ]
  },
  {
   "cell_type": "code",
   "execution_count": 105,
   "metadata": {},
   "outputs": [
    {
     "data": {
      "text/html": [
       "<div>\n",
       "<style scoped>\n",
       "    .dataframe tbody tr th:only-of-type {\n",
       "        vertical-align: middle;\n",
       "    }\n",
       "\n",
       "    .dataframe tbody tr th {\n",
       "        vertical-align: top;\n",
       "    }\n",
       "\n",
       "    .dataframe thead th {\n",
       "        text-align: right;\n",
       "    }\n",
       "</style>\n",
       "<table border=\"1\" class=\"dataframe\">\n",
       "  <thead>\n",
       "    <tr style=\"text-align: right;\">\n",
       "      <th></th>\n",
       "      <th>0</th>\n",
       "      <th>1</th>\n",
       "      <th>2</th>\n",
       "      <th>3</th>\n",
       "      <th>4</th>\n",
       "      <th>5</th>\n",
       "      <th>6</th>\n",
       "      <th>7</th>\n",
       "      <th>8</th>\n",
       "    </tr>\n",
       "  </thead>\n",
       "  <tbody>\n",
       "    <tr>\n",
       "      <th>0</th>\n",
       "      <td>238</td>\n",
       "      <td>867</td>\n",
       "      <td>146</td>\n",
       "      <td>40.71625</td>\n",
       "      <td>-74.009106</td>\n",
       "      <td>20224</td>\n",
       "      <td>0</td>\n",
       "      <td>1963</td>\n",
       "      <td>1</td>\n",
       "    </tr>\n",
       "    <tr>\n",
       "      <th>1</th>\n",
       "      <td>280</td>\n",
       "      <td>942</td>\n",
       "      <td>146</td>\n",
       "      <td>40.71625</td>\n",
       "      <td>-74.009106</td>\n",
       "      <td>30224</td>\n",
       "      <td>0</td>\n",
       "      <td>1988</td>\n",
       "      <td>1</td>\n",
       "    </tr>\n",
       "    <tr>\n",
       "      <th>2</th>\n",
       "      <td>327</td>\n",
       "      <td>176</td>\n",
       "      <td>146</td>\n",
       "      <td>40.71625</td>\n",
       "      <td>-74.009106</td>\n",
       "      <td>21675</td>\n",
       "      <td>0</td>\n",
       "      <td>1980</td>\n",
       "      <td>1</td>\n",
       "    </tr>\n",
       "    <tr>\n",
       "      <th>3</th>\n",
       "      <td>257</td>\n",
       "      <td>1075</td>\n",
       "      <td>146</td>\n",
       "      <td>40.71625</td>\n",
       "      <td>-74.009106</td>\n",
       "      <td>19464</td>\n",
       "      <td>1</td>\n",
       "      <td>1994</td>\n",
       "      <td>1</td>\n",
       "    </tr>\n",
       "    <tr>\n",
       "      <th>4</th>\n",
       "      <td>257</td>\n",
       "      <td>275</td>\n",
       "      <td>146</td>\n",
       "      <td>40.71625</td>\n",
       "      <td>-74.009106</td>\n",
       "      <td>15015</td>\n",
       "      <td>0</td>\n",
       "      <td>1967</td>\n",
       "      <td>0</td>\n",
       "    </tr>\n",
       "  </tbody>\n",
       "</table>\n",
       "</div>"
      ],
      "text/plain": [
       "     0     1    2         3          4      5  6     7  8\n",
       "0  238   867  146  40.71625 -74.009106  20224  0  1963  1\n",
       "1  280   942  146  40.71625 -74.009106  30224  0  1988  1\n",
       "2  327   176  146  40.71625 -74.009106  21675  0  1980  1\n",
       "3  257  1075  146  40.71625 -74.009106  19464  1  1994  1\n",
       "4  257   275  146  40.71625 -74.009106  15015  0  1967  0"
      ]
     },
     "execution_count": 105,
     "metadata": {},
     "output_type": "execute_result"
    }
   ],
   "source": [
    "df_test.head()"
   ]
  },
  {
   "cell_type": "code",
   "execution_count": 92,
   "metadata": {},
   "outputs": [
    {
     "name": "stdout",
     "output_type": "stream",
     "text": [
      "989.685913086\n"
     ]
    }
   ],
   "source": [
    "from sagemaker.predictor import csv_serializer"
   ]
  },
  {
   "cell_type": "code",
   "execution_count": null,
   "metadata": {},
   "outputs": [],
   "source": [
    "df_test = pd.read_csv('./df_val.csv', header=None)"
   ]
  },
  {
   "cell_type": "code",
   "execution_count": null,
   "metadata": {},
   "outputs": [],
   "source": [
    "xgb_predictor.content_type = 'text/csv'\n",
    "xgb_predictor.serializer = csv_serializer\n",
    "xgb_predictor.deserializer = None\n",
    "\n",
    "data_row = '867,146,40.71625008,-74.0091059,20224,0,1963,1' #stop station should be 238\n",
    "prediction = xgb_predictor.predict(data_row).decode('utf-8')\n",
    "printf(prediction)\n"
   ]
  },
  {
   "cell_type": "code",
   "execution_count": null,
   "metadata": {},
   "outputs": [],
   "source": [
    "#df_val = pd.DataFrame()\n",
    "#df_val['prediction'] = predictions\n",
    "#df_val['target'] = df_test[0]"
   ]
  },
  {
   "cell_type": "code",
   "execution_count": null,
   "metadata": {},
   "outputs": [],
   "source": [
    "#plt.figure(figsize=(15,6))\n",
    "#sns.regplot(x=df_val[\"target\"], y=df_val[\"prediction\"])\n",
    "#plt.show()"
   ]
  },
  {
   "cell_type": "code",
   "execution_count": null,
   "metadata": {},
   "outputs": [],
   "source": [
    "#df_val['err'] = (df_val[\"target\"] - df_val[\"prediction\"])"
   ]
  },
  {
   "cell_type": "code",
   "execution_count": null,
   "metadata": {},
   "outputs": [],
   "source": [
    "#df_val['err'].plot(kind='hist', bins=100, range=(-6,10), alpha=0.8, figsize=(15,6))\n",
    "#plt.show()"
   ]
  },
  {
   "cell_type": "code",
   "execution_count": null,
   "metadata": {},
   "outputs": [],
   "source": [
    "#df_val.describe()"
   ]
  },
  {
   "cell_type": "markdown",
   "metadata": {},
   "source": [
    "## Make online predictions"
   ]
  },
  {
   "cell_type": "code",
   "execution_count": 129,
   "metadata": {},
   "outputs": [],
   "source": [
    "#import ast"
   ]
  },
  {
   "cell_type": "code",
   "execution_count": 93,
   "metadata": {},
   "outputs": [],
   "source": [
    "#s3_test_file_path = os.path.join('s3://', bucket, path, testing_filename)\n",
    "#df = pd.read_csv(s3_test_file_path, header=None)\n",
    "\n",
    "#n = 100\n",
    "#features = df.iloc[0:n,1:].values\n",
    "#values  = df.iloc[0:n,0].values"
   ]
  },
  {
   "cell_type": "code",
   "execution_count": 94,
   "metadata": {},
   "outputs": [],
   "source": [
    "#endpoint_name = 'stop-estimator'\n",
    "#content_type = 'text/csv'\n",
    "#data = \"\\n\".join([\"\\n\".join([\",\".join(str(x) for x in sample)]) for sample in features])\n",
    "\n",
    "#runtime = boto3.Session().client('sagemaker-runtime')\n",
    "#response = runtime.invoke_endpoint(EndpointName=endpoint_name,\\\n",
    "                                   ContentType='text/csv',\\\n",
    "                                   Body=data) "
   ]
  },
  {
   "cell_type": "code",
   "execution_count": 95,
   "metadata": {},
   "outputs": [
    {
     "name": "stdout",
     "output_type": "stream",
     "text": [
      "[819.569824219, 809.488769531, 937.75793457, 683.728393555, 506.584106445, 760.766418457, 1012.57000732, 694.06237793, 795.413818359, 960.243896484, 1025.74645996, 1213.28271484, 672.603637695, 659.989868164, 876.671264648, 846.451660156, 299.80670166, 627.646911621, 639.306518555, 1493.19274902, 618.689086914, 958.653808594, 816.840942383, 1740.96325684, 1017.63519287, 189.477386475, 683.831359863, 681.40435791, 1044.14074707, 1379.19543457, 743.624145508, 912.439758301, 1079.5769043, 720.27935791, 838.542358398, 876.488586426, 994.151245117, 606.531677246, 2105.13549805, 695.045654297, 894.431945801, 827.769836426, 1047.74255371, 694.997802734, 668.020812988, 1127.84179688, 791.560058594, 386.061157227, 846.602233887, 857.422302246, 898.054138184, 1069.08825684, 572.028015137, 729.142089844, 792.346557617, 850.423828125, 901.610107422, 1100.79296875, 1145.59423828, 703.697753906, 738.699584961, 888.224243164, 1324.30761719, 535.263000488, 802.512145996, 868.434020996, 920.234863281, 931.834777832, 1127.09851074, 867.700073242, 830.088134766, 761.131469727, 674.301696777, 1100.37390137, 908.202697754, 717.103027344, 993.785644531, 816.440917969, 579.619445801, 1019.98510742, 382.143768311, 820.461914062, 1121.68652344, 874.754455566, 802.716125488, 1187.43139648, 909.593994141, 894.047241211, 855.383178711, 1066.30944824, 848.765380859, 1123.2980957, 446.021057129, 724.645385742, 888.773864746, 832.524597168, 900.547302246, 1019.01391602, 745.001098633, 379.623748779]\n"
     ]
    }
   ],
   "source": [
    "#result = list(ast.literal_eval(response['Body'].read().decode()))\n",
    "#print(result)"
   ]
  },
  {
   "cell_type": "code",
   "execution_count": null,
   "metadata": {},
   "outputs": [],
   "source": []
  }
 ],
 "metadata": {
  "kernelspec": {
   "display_name": "conda_amazonei_mxnet_p36",
   "language": "python",
   "name": "conda_amazonei_mxnet_p36"
  },
  "language_info": {
   "codemirror_mode": {
    "name": "ipython",
    "version": 3
   },
   "file_extension": ".py",
   "mimetype": "text/x-python",
   "name": "python",
   "nbconvert_exporter": "python",
   "pygments_lexer": "ipython3",
   "version": "3.6.5"
  }
 },
 "nbformat": 4,
 "nbformat_minor": 2
}
