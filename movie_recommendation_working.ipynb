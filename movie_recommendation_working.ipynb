{
 "cells": [
  {
   "cell_type": "markdown",
   "metadata": {},
   "source": [
    "# An Introduction to SageMaker ObjectToVec model for MovieLens recommendation\n",
    "\n",
    "\n",
    "1. [Background](#Background)\n",
    "1. [Data exploration and preparation](#Data-exploration-and-preparation)\n",
    "1. [Rating prediction task](#Rating-prediction-task)\n",
    "1. [Recommendation task](#Recommendation-task)\n",
    "1. [Movie retrieval in the embedding space](#Movie-retrieval-in-the-embedding-space)"
   ]
  },
  {
   "cell_type": "markdown",
   "metadata": {},
   "source": [
    "# Background\n",
    "\n",
    "### ObjectToVec\n",
    "*Object2Vec* is a highly customizable multi-purpose algorithm that can learn embeddings of pairs of objects. The embeddings are learned such that it preserves their pairwise **similarities** in the original space.\n",
    "- **Similarity** is user-defined: users need to provide the algorithm with pairs of objects that they define as similar (1) or dissimilar (0); alternatively, the users can define similarity in a continuous sense (provide a real-valued similarity score)\n",
    "- The learned embeddings can be used to efficiently compute nearest neighbors of objects, as well as to visualize natural clusters of related objects in the embedding space. In addition, the embeddings can also be used as features of the corresponding objects in downstream supervised tasks such as classification or regression"
   ]
  },
  {
   "cell_type": "markdown",
   "metadata": {},
   "source": [
    "## In this notebook example:\n",
    "We demonstrate how Object2Vec can be used to solve problems arising in recommendation systems. Specifically,\n",
    "\n",
    "- We provide the algorithm with (UserID, MovieID) pairs; for each such pair, we also provide a \"label\" that tells the algorithm whether the user and movie are similar or not\n",
    "\n",
    "     * When the labels are real-valued, we use the algorithm to predict the exact ratings of a movie given a user\n",
    "     * When the labels are binary, we use the algorithm to recommendation movies to users\n",
    "\n",
    "- The diagram below shows the customization of our model to the problem of predicting movie ratings, using a dataset that provides `(UserID, ItemID, Rating)` samples. Here, ratings are real-valued"
   ]
  },
  {
   "cell_type": "markdown",
   "metadata": {},
   "source": [
    "<img style=\"float:middle\" src=\"image_ml_rating.png\" width=\"480\">"
   ]
  },
  {
   "cell_type": "markdown",
   "metadata": {},
   "source": [
    "### Dataset\n",
    "- We use the MovieLens 100k dataset: https://grouplens.org/datasets/movielens/100k/"
   ]
  },
  {
   "cell_type": "markdown",
   "metadata": {},
   "source": [
    "### Use cases\n",
    "\n",
    "- Task 1: Rating prediction (regression)\n",
    "- Task 2: Movie recommendation (classification)\n",
    "- Task 3: Nearest-neighbor movie retrieval in the learned embedding space"
   ]
  },
  {
   "cell_type": "markdown",
   "metadata": {},
   "source": [
    "### Before running the notebook\n",
    "- Please use a Python 3 kernel for the notebook\n",
    "- Please make sure you have `jsonlines` package installed (if not, you can run the command below to install it)"
   ]
  },
  {
   "cell_type": "code",
   "execution_count": 1,
   "metadata": {
    "scrolled": true
   },
   "outputs": [
    {
     "name": "stdout",
     "output_type": "stream",
     "text": [
      "Requirement already satisfied: jsonlines in /home/ec2-user/anaconda3/envs/amazonei_mxnet_p27/lib/python2.7/site-packages (1.2.0)\n",
      "Requirement already satisfied: six in /home/ec2-user/anaconda3/envs/amazonei_mxnet_p27/lib/python2.7/site-packages (from jsonlines) (1.11.0)\n",
      "\u001b[33mYou are using pip version 10.0.1, however version 19.1.1 is available.\n",
      "You should consider upgrading via the 'pip install --upgrade pip' command.\u001b[0m\n"
     ]
    }
   ],
   "source": [
    "!pip install jsonlines"
   ]
  },
  {
   "cell_type": "code",
   "execution_count": 84,
   "metadata": {},
   "outputs": [],
   "source": [
    "import os\n",
    "import sys\n",
    "import csv, jsonlines\n",
    "import numpy as np\n",
    "import copy\n",
    "import io\n",
    "import random"
   ]
  },
  {
   "cell_type": "code",
   "execution_count": 3,
   "metadata": {},
   "outputs": [],
   "source": [
    "%matplotlib inline\n",
    "import matplotlib.pyplot as plt"
   ]
  },
  {
   "cell_type": "markdown",
   "metadata": {},
   "source": [
    "# Data exploration and preparation"
   ]
  },
  {
   "cell_type": "markdown",
   "metadata": {},
   "source": [
    "### License\n",
    "Please be aware of the following requirements about ackonwledgment, copyright and availability, cited from the [data set description page](http://files.grouplens.org/datasets/movielens/ml-100k-README.txt).\n",
    ">The data set may be used for any research\n",
    "purposes under the following conditions:\n",
    "     * The user may not state or imply any endorsement from the\n",
    "       University of Minnesota or the GroupLens Research Group.\n",
    "     * The user must acknowledge the use of the data set in\n",
    "       publications resulting from the use of the data set\n",
    "       (see below for citation information).\n",
    "     * The user may not redistribute the data without separate\n",
    "       permission.\n",
    "     * The user may not use this information for any commercial or\n",
    "       revenue-bearing purposes without first obtaining permission\n",
    "       from a faculty member of the GroupLens Research Project at the\n",
    "       University of Minnesota.\n",
    "If you have any further questions or comments, please contact GroupLens \\<grouplens-info@cs.umn.edu\\>. "
   ]
  },
  {
   "cell_type": "code",
   "execution_count": 4,
   "metadata": {},
   "outputs": [
    {
     "name": "stdout",
     "output_type": "stream",
     "text": [
      "Archive:  ml-100k.zip\n"
     ]
    },
    {
     "name": "stderr",
     "output_type": "stream",
     "text": [
      "  % Total    % Received % Xferd  Average Speed   Time    Time     Time  Current\n",
      "                                 Dload  Upload   Total   Spent    Left  Speed\n",
      "\r",
      "  0     0    0     0    0     0      0      0 --:--:-- --:--:-- --:--:--     0\r",
      "  0     0    0     0    0     0      0      0 --:--:-- --:--:-- --:--:--     0\r",
      "100 4808k  100 4808k    0     0  5378k      0 --:--:-- --:--:-- --:--:-- 5372k\n",
      "replace ml-100k/allbut.pl? [y]es, [n]o, [A]ll, [N]one, [r]ename: new name: replace k.zip? [y]es, [n]o, [A]ll, [N]one, [r]ename:  NULL\n",
      "(EOF or read error, treating as \"[N]one\" ...)\n"
     ]
    }
   ],
   "source": [
    "%%bash\n",
    "\n",
    "curl -o ml-100k.zip http://files.grouplens.org/datasets/movielens/ml-100k.zip\n",
    "unzip ml-100k.zip\n",
    "rm ml-100k.zip"
   ]
  },
  {
   "cell_type": "markdown",
   "metadata": {},
   "source": [
    "Let's first create some utility functions for data exploration and preprocessing"
   ]
  },
  {
   "cell_type": "code",
   "execution_count": 26,
   "metadata": {},
   "outputs": [],
   "source": [
    "## some utility functions\n",
    "\n",
    "def load_csv_data(filename, delimiter, verbose=True):\n",
    "    \"\"\"\n",
    "    input: a file readable as csv and separated by a delimiter\n",
    "    and has format users - movies - ratings - etc\n",
    "    output: a list, where each row of the list is of the form\n",
    "    {'in0':userID, 'in1':movieID, 'label':rating}\n",
    "    \"\"\"\n",
    "    to_data_list = list()\n",
    "    users = list()\n",
    "    movies = list()\n",
    "    ratings = list()\n",
    "    unique_users = set()\n",
    "    unique_movies = set()\n",
    "    with open(filename, 'r') as csvfile:\n",
    "        reader = csv.reader(csvfile, delimiter=delimiter)\n",
    "        for count, row in enumerate(reader):\n",
    "            #if count!=0:\n",
    "            to_data_list.append({'in0':[int(row[0])], 'in1':[int(row[1])], 'label':float(row[2])})\n",
    "            users.append(row[0])\n",
    "            movies.append(row[1])\n",
    "            ratings.append(float(row[2]))\n",
    "            unique_users.add(row[0])\n",
    "            unique_movies.add(row[1])\n",
    "    if verbose:\n",
    "        print(\"In file {}, there are {} ratings\".format(filename, len(ratings)))\n",
    "        print(\"The ratings have mean: {}, median: {}, and variance: {}\".format(\n",
    "                                            round(np.mean(ratings), 2), \n",
    "                                            round(np.median(ratings), 2), \n",
    "                                            round(np.var(ratings), 2)))\n",
    "        print(\"There are {} unique users and {} unique movies\".format(len(unique_users), len(unique_movies)))\n",
    "    return to_data_list\n",
    "\n",
    "\n",
    "def csv_to_augmented_data_dict(filename, delimiter):\n",
    "    \"\"\"\n",
    "    Input: a file that must be readable as csv and separated by delimiter (to make columns)\n",
    "    has format users - movies - ratings - etc\n",
    "    Output:\n",
    "      Users dictionary: keys as user ID's; each key corresponds to a list of movie ratings by that user\n",
    "      Movies dictionary: keys as movie ID's; each key corresponds a list of ratings of that movie by different users\n",
    "    \"\"\"\n",
    "    to_users_dict = dict() \n",
    "    to_movies_dict = dict()\n",
    "    with open(filename, 'r') as csvfile:\n",
    "        reader = csv.reader(csvfile, delimiter=delimiter)\n",
    "        for count, row in enumerate(reader):\n",
    "            #if count!=0:\n",
    "            if row[0] not in to_users_dict:\n",
    "                to_users_dict[row[0]] = [(row[1], row[2])]\n",
    "            else:\n",
    "                to_users_dict[row[0]].append((row[1], row[2]))\n",
    "            if row[1] not in to_movies_dict:\n",
    "                to_movies_dict[row[1]] = list(row[0])\n",
    "            else:\n",
    "                to_movies_dict[row[1]].append(row[0])\n",
    "    return to_users_dict, to_movies_dict\n",
    "\n",
    "\n",
    "def user_dict_to_data_list(user_dict):\n",
    "    # turn user_dict format to data list format (acceptable to the algorithm)\n",
    "    data_list = list()\n",
    "    for user, movie_rating_list in user_dict.items():\n",
    "        for movie, rating in movie_rating_list:\n",
    "            data_list.append({'in0':[int(user)], 'in1':[int(movie)], 'label':float(rating)})\n",
    "    return data_list\n",
    "\n",
    "def divide_user_dicts(user_dict, sp_ratio_dict):\n",
    "    \"\"\"\n",
    "    Input: A user dictionary, a ration dictionary\n",
    "         - format of sp_ratio_dict = {'train':0.4, \"test\":0.2}\n",
    "    Output: \n",
    "        A dictionary of dictionaries, with key corresponding to key provided by sp_ratio_dict\n",
    "        and each key corresponds to a subdivded user dictionary\n",
    "    \"\"\"\n",
    "    ratios = [val for _, val in sp_ratio_dict.items()]\n",
    "    assert np.sum(ratios) == 1, \"the sampling ratios must sum to 1!\"\n",
    "    divided_dict = {}\n",
    "    for user, movie_rating_list in user_dict.items():\n",
    "        sub_movies_ptr = 0\n",
    "        sub_movies_list = []\n",
    "        #movie_list, _ = zip(*movie_rating_list)\n",
    "        #print(movie_list)\n",
    "        for i, ratio in enumerate(ratios):\n",
    "            if i < len(ratios)-1:\n",
    "                sub_movies_ptr_end = sub_movies_ptr + int(len(movie_rating_list)*ratio)\n",
    "                sub_movies_list.append(movie_rating_list[sub_movies_ptr:sub_movies_ptr_end])\n",
    "                sub_movies_ptr = sub_movies_ptr_end\n",
    "            else:\n",
    "                sub_movies_list.append(movie_rating_list[sub_movies_ptr:])\n",
    "        for subset_name in sp_ratio_dict.keys():\n",
    "            if subset_name not in divided_dict:\n",
    "                divided_dict[subset_name] = {user: sub_movies_list.pop(0)}\n",
    "            else:\n",
    "                #access sub-dictionary\n",
    "                divided_dict[subset_name][user] = sub_movies_list.pop(0)\n",
    "    \n",
    "    return divided_dict\n",
    "\n",
    "def write_csv_to_jsonl(jsonl_fname, csv_fname, csv_delimiter):\n",
    "    \"\"\"\n",
    "    Input: a file readable as csv and separated by delimiter (to make columns)\n",
    "        - has format users - movies - ratings - etc\n",
    "    Output: a jsonline file converted from the csv file\n",
    "    \"\"\"\n",
    "    with jsonlines.open(jsonl_fname, mode='w') as writer:\n",
    "        with open(csv_fname, 'r') as csvfile:\n",
    "            reader = csv.reader(csvfile, delimiter=csv_delimiter)\n",
    "            for count, row in enumerate(reader):\n",
    "                #print(row)\n",
    "                #if count!=0:\n",
    "                writer.write({'in0':[int(row[0])], 'in1':[int(row[1])], 'label':float(row[2])})\n",
    "        print('Created {} jsonline file'.format(jsonl_fname))\n",
    "                    \n",
    "    \n",
    "def write_data_list_to_jsonl(data_list, to_fname):\n",
    "    \"\"\"\n",
    "    Input: a data list, where each row of the list is a Python dictionary taking form\n",
    "    {'in0':userID, 'in1':movieID, 'label':rating}\n",
    "    Output: save the list as a jsonline file\n",
    "    \"\"\"\n",
    "    with jsonlines.open(to_fname, mode='w') as writer:\n",
    "        for row in data_list:\n",
    "            #print(row)\n",
    "            writer.write({'in0':row['in0'], 'in1':row['in1'], 'label':row['label']})\n",
    "    print(\"Created {} jsonline file\".format(to_fname))\n",
    "\n",
    "def data_list_to_inference_format(data_list, binarize=True, label_thres=3):\n",
    "    \"\"\"\n",
    "    Input: a data list\n",
    "    Output: test data and label, acceptable by SageMaker for inference\n",
    "    \"\"\"\n",
    "    data_ = [({\"in0\":row['in0'], 'in1':row['in1']}, row['label']) for row in data_list]\n",
    "    data, label = zip(*data_)\n",
    "    infer_data = {\"instances\":data}\n",
    "    if binarize:\n",
    "        label = get_binarized_label(list(label), label_thres)\n",
    "    return infer_data, label\n",
    "\n",
    "\n",
    "def get_binarized_label(data_list, thres):\n",
    "    \"\"\"\n",
    "    Input: data list\n",
    "    Output: a binarized data list for recommendation task\n",
    "    \"\"\"\n",
    "    for i, row in enumerate(data_list):\n",
    "        if type(row) is dict:\n",
    "            #if i < 10:\n",
    "                #print(row['label'])\n",
    "            if row['label'] > thres:\n",
    "                #print(row)\n",
    "                data_list[i]['label'] = 1\n",
    "            else:\n",
    "                data_list[i]['label'] = 0\n",
    "        else:\n",
    "            if row > thres:\n",
    "                data_list[i] = 1\n",
    "            else:\n",
    "                data_list[i] = 0\n",
    "    return data_list\n"
   ]
  },
  {
   "cell_type": "code",
   "execution_count": 27,
   "metadata": {},
   "outputs": [
    {
     "name": "stdout",
     "output_type": "stream",
     "text": [
      "In file ml-100k/ua.base, there are 90570 ratings\n",
      "The ratings have mean: 3.52, median: 4.0, and variance: 1.27\n",
      "There are 943 unique users and 1680 unique movies\n",
      "In file ml-100k/ua.test, there are 9430 ratings\n",
      "The ratings have mean: 3.59, median: 4.0, and variance: 1.25\n",
      "There are 943 unique users and 1129 unique movies\n"
     ]
    }
   ],
   "source": [
    "## Load data and shuffle\n",
    "prefix = 'ml-100k'\n",
    "train_path = os.path.join(prefix, 'ua.base')\n",
    "valid_path = os.path.join(prefix, 'ua.test')\n",
    "test_path = os.path.join(prefix, 'ub.test')\n",
    "\n",
    "train_data_list = load_csv_data(train_path, '\\t')\n",
    "random.shuffle(train_data_list)\n",
    "validation_data_list = load_csv_data(valid_path, '\\t')\n",
    "random.shuffle(validation_data_list)"
   ]
  },
  {
   "cell_type": "code",
   "execution_count": 28,
   "metadata": {},
   "outputs": [],
   "source": [
    "to_users_dict, to_movies_dict = csv_to_augmented_data_dict(train_path, '\\t')"
   ]
  },
  {
   "cell_type": "markdown",
   "metadata": {},
   "source": [
    "### We perform some data exploration"
   ]
  },
  {
   "cell_type": "code",
   "execution_count": 29,
   "metadata": {},
   "outputs": [
    {
     "name": "stdout",
     "output_type": "stream",
     "text": [
      "The min, max, and median 'movies per user' is 10, 727, and 55.0\n",
      "The min, max, and median 'users per movie' is 1, 495, and 25.0\n",
      "In the training set\n",
      "There are 213 users with no more than 20 movies\n",
      "There are 12 movies with no more than 2 user\n"
     ]
    },
    {
     "data": {
      "text/plain": [
       "Text(0.5,1,'Users per movie')"
      ]
     },
     "execution_count": 29,
     "metadata": {},
     "output_type": "execute_result"
    },
    {
     "data": {
      "image/png": "[encoded data removed]",
      "text/plain": [
       "<Figure size 432x288 with 1 Axes>"
      ]
     },
     "metadata": {},
     "output_type": "display_data"
    },
    {
     "data": {
      "image/png": "[encoded data removed]",
      "text/plain": [
       "<Figure size 432x288 with 1 Axes>"
      ]
     },
     "metadata": {},
     "output_type": "display_data"
    }
   ],
   "source": [
    "## Calculate min, max, median of number of movies per user\n",
    "movies_per_user = [len(val) for key, val in to_users_dict.items()]\n",
    "\n",
    "print(\"The min, max, and median 'movies per user' is {}, {}, and {}\".format(np.amin(movies_per_user),\n",
    "                                                                         np.amax(movies_per_user),\n",
    "                                                                         np.median(movies_per_user)))\n",
    "users_per_movie = [len(val) for key, val in to_movies_dict.items()]\n",
    "print(\"The min, max, and median 'users per movie' is {}, {}, and {}\".format(np.amin(users_per_movie),\n",
    "                                                                         np.amax(users_per_movie),\n",
    "                                                                          np.median(users_per_movie)))\n",
    "\n",
    "\n",
    "count = 0\n",
    "n_movies_lower_bound = 20\n",
    "for n_movies in movies_per_user:\n",
    "    if n_movies <= n_movies_lower_bound:\n",
    "        count += 1\n",
    "print(\"In the training set\")\n",
    "print('There are {} users with no more than {} movies'.format(count, n_movies_lower_bound))\n",
    "#\n",
    "count = 0\n",
    "n_users_lower_bound = 2\n",
    "for n_users in users_per_movie:\n",
    "    if n_users <= n_users_lower_bound:\n",
    "        count += 1\n",
    "print('There are {} movies with no more than {} user'.format(count, n_users_lower_bound))\n",
    "\n",
    "\n",
    "## figures\n",
    "\n",
    "f = plt.figure(1)\n",
    "plt.hist(movies_per_user)\n",
    "plt.title(\"Movies per user\")\n",
    "##\n",
    "g = plt.figure(2)\n",
    "plt.hist(users_per_movie)\n",
    "plt.title(\"Users per movie\")"
   ]
  },
  {
   "cell_type": "markdown",
   "metadata": {},
   "source": [
    "Since the number of movies with an extremely small number of users (<3) is negligible compared to the total number of movies, we will not remove movies from the data set (same applies for users) "
   ]
  },
  {
   "cell_type": "code",
   "execution_count": 30,
   "metadata": {},
   "outputs": [
    {
     "name": "stdout",
     "output_type": "stream",
     "text": [
      "Created train_r.jsonl jsonline file\n",
      "Created validation_r.jsonl jsonline file\n"
     ]
    }
   ],
   "source": [
    "## Save training and validation data locally for rating-prediction (regression) task\n",
    "\n",
    "write_data_list_to_jsonl(copy.deepcopy(train_data_list), 'train_r.jsonl')\n",
    "write_data_list_to_jsonl(copy.deepcopy(validation_data_list), 'validation_r.jsonl')"
   ]
  },
  {
   "cell_type": "code",
   "execution_count": 31,
   "metadata": {},
   "outputs": [
    {
     "name": "stdout",
     "output_type": "stream",
     "text": [
      "Created train_c.jsonl jsonline file\n",
      "Created validation_c.jsonl jsonline file\n"
     ]
    }
   ],
   "source": [
    "## Save training and validation data locally for recommendation (classification) task\n",
    "\n",
    "### binarize the data \n",
    "\n",
    "train_c = get_binarized_label(copy.deepcopy(train_data_list), 3.0)\n",
    "valid_c = get_binarized_label(copy.deepcopy(validation_data_list), 3.0)\n",
    "\n",
    "write_data_list_to_jsonl(train_c, 'train_c.jsonl')\n",
    "write_data_list_to_jsonl(valid_c, 'validation_c.jsonl')"
   ]
  },
  {
   "cell_type": "markdown",
   "metadata": {},
   "source": [
    "**We check whether the two classes are balanced after binarization**"
   ]
  },
  {
   "cell_type": "code",
   "execution_count": 32,
   "metadata": {},
   "outputs": [
    {
     "name": "stdout",
     "output_type": "stream",
     "text": [
      "There are 0 fraction of positive ratings in train_c.jsonl\n",
      "There are 0 fraction of positive ratings in validation_c.jsonl\n"
     ]
    }
   ],
   "source": [
    "train_c_label = [row['label'] for row in train_c]\n",
    "valid_c_label = [row['label'] for row in valid_c]\n",
    "\n",
    "print(\"There are {} fraction of positive ratings in train_c.jsonl\".format(\n",
    "                                np.count_nonzero(train_c_label)/len(train_c_label)))\n",
    "print(\"There are {} fraction of positive ratings in validation_c.jsonl\".format(\n",
    "                                np.sum(valid_c_label)/len(valid_c_label)))"
   ]
  },
  {
   "cell_type": "markdown",
   "metadata": {},
   "source": [
    "# Rating prediction task "
   ]
  },
  {
   "cell_type": "code",
   "execution_count": 33,
   "metadata": {},
   "outputs": [],
   "source": [
    "def get_mse_loss(res, labels):\n",
    "    if type(res) is dict:\n",
    "        res = res['predictions']\n",
    "    assert len(res)==len(labels), 'result and label length mismatch!'\n",
    "    loss = 0\n",
    "    for row, label in zip(res, labels):\n",
    "        if type(row)is dict:\n",
    "            loss += (row['scores'][0]-label)**2\n",
    "        else:\n",
    "            loss += (row-label)**2\n",
    "    return round(loss/float(len(labels)), 2)"
   ]
  },
  {
   "cell_type": "code",
   "execution_count": 34,
   "metadata": {},
   "outputs": [],
   "source": [
    "valid_r_data, valid_r_label = data_list_to_inference_format(copy.deepcopy(validation_data_list), binarize=False)"
   ]
  },
  {
   "cell_type": "markdown",
   "metadata": {},
   "source": [
    "#### We first test the problem on two baseline algorithms"
   ]
  },
  {
   "cell_type": "markdown",
   "metadata": {},
   "source": [
    "## Baseline 1\n",
    "\n",
    "A naive approach to predict movie ratings on unseen data is to use the global average of the user predictions in the training data"
   ]
  },
  {
   "cell_type": "code",
   "execution_count": 35,
   "metadata": {},
   "outputs": [
    {
     "name": "stdout",
     "output_type": "stream",
     "text": [
      "The Baseline 1 (global rating average) prediction is 3.52\n",
      "The validation mse loss of the Baseline 1 is 1.26\n"
     ]
    }
   ],
   "source": [
    "train_r_label = [row['label'] for row in copy.deepcopy(train_data_list)]\n",
    "\n",
    "bs1_prediction = round(np.mean(train_r_label), 2)\n",
    "print('The Baseline 1 (global rating average) prediction is {}'.format(bs1_prediction))\n",
    "print(\"The validation mse loss of the Baseline 1 is {}\".format(\n",
    "                                     get_mse_loss(len(valid_r_label)*[bs1_prediction], valid_r_label)))"
   ]
  },
  {
   "cell_type": "markdown",
   "metadata": {},
   "source": [
    "## Baseline 2"
   ]
  },
  {
   "cell_type": "markdown",
   "metadata": {},
   "source": [
    "Now we use a better baseline, which is to perform prediction on unseen data based on the user-averaged ratings of movies on training data"
   ]
  },
  {
   "cell_type": "code",
   "execution_count": 36,
   "metadata": {},
   "outputs": [],
   "source": [
    "def bs2_predictor(test_data, user_dict, is_classification=False, thres=3):\n",
    "    test_data = copy.deepcopy(test_data['instances'])\n",
    "    predictions = list()\n",
    "    for row in test_data:\n",
    "        userID = str(row[\"in0\"][0])\n",
    "        # predict movie ID based on local average of user's prediction\n",
    "        local_movies, local_ratings = zip(*user_dict[userID])\n",
    "        local_ratings = [float(score) for score in local_ratings]\n",
    "        predictions.append(np.mean(local_ratings))\n",
    "        if is_classification:\n",
    "            predictions[-1] = int(predictions[-1] > 3)\n",
    "    return predictions"
   ]
  },
  {
   "cell_type": "code",
   "execution_count": 37,
   "metadata": {},
   "outputs": [
    {
     "name": "stdout",
     "output_type": "stream",
     "text": [
      "The validation loss of the Baseline 2 (user-based rating average) is 1.09\n"
     ]
    }
   ],
   "source": [
    "bs2_prediction = bs2_predictor(valid_r_data, to_users_dict, is_classification=False)\n",
    "print(\"The validation loss of the Baseline 2 (user-based rating average) is {}\".format(\n",
    "                                     get_mse_loss(bs2_prediction, valid_r_label)))"
   ]
  },
  {
   "cell_type": "markdown",
   "metadata": {},
   "source": [
    "Next, we will use *Object2Vec* to predict the movie ratings"
   ]
  },
  {
   "cell_type": "markdown",
   "metadata": {},
   "source": [
    "## Model training and inference"
   ]
  },
  {
   "cell_type": "markdown",
   "metadata": {},
   "source": [
    "#### Define S3 bucket that hosts data and model, and upload data to S3"
   ]
  },
  {
   "cell_type": "code",
   "execution_count": 38,
   "metadata": {},
   "outputs": [],
   "source": [
    "import boto3 \n",
    "import os\n",
    " \n",
    "bucket = 'sa-24-ml' # Customize your own bucket name\n",
    "input_prefix = 'object2vec/movielens/input'\n",
    "output_prefix = 'object2vec/movielens/output'"
   ]
  },
  {
   "cell_type": "markdown",
   "metadata": {},
   "source": [
    "#### Upload data to S3 and make data paths"
   ]
  },
  {
   "cell_type": "code",
   "execution_count": 46,
   "metadata": {},
   "outputs": [
    {
     "name": "stdout",
     "output_type": "stream",
     "text": [
      "Uploaded train data to s3://sa-24-ml/object2vec/movielens/input/rating/train/train_r.jsonl and defined input path\n",
      "Uploaded validation data to s3://sa-24-ml/object2vec/movielens/input/rating/validation/validation_r.jsonl and defined input path\n",
      "('Trained model will be saved at', 's3://sa-24-ml/object2vec/movielens/output')\n"
     ]
    }
   ],
   "source": [
    "from sagemaker.session import s3_input\n",
    "\n",
    "s3_client = boto3.client('s3')\n",
    "input_paths = {}\n",
    "output_path = os.path.join('s3://', bucket, output_prefix)\n",
    "\n",
    "for data_name in ['train', 'validation']:\n",
    "    pre_key = os.path.join(input_prefix, 'rating', data_name)\n",
    "    fname = '{}_r.jsonl'.format(data_name)\n",
    "    data_path = os.path.join('s3://', bucket, pre_key, fname)\n",
    "    s3_client.upload_file(fname, bucket, os.path.join(pre_key, fname))\n",
    "    input_paths[data_name] = s3_input(data_path, distribution='ShardedByS3Key', content_type='application/jsonlines')\n",
    "    print('Uploaded {} data to {} and defined input path'.format(data_name, data_path))\n",
    "\n",
    "print('Trained model will be saved at', output_path)"
   ]
  },
  {
   "cell_type": "markdown",
   "metadata": {},
   "source": [
    "### Get ObjectToVec algorithm image"
   ]
  },
  {
   "cell_type": "code",
   "execution_count": 47,
   "metadata": {},
   "outputs": [
    {
     "name": "stdout",
     "output_type": "stream",
     "text": [
      "arn:aws:iam::023375022819:role/service-role/AmazonSageMaker-ExecutionRole-20190520T113312\n"
     ]
    }
   ],
   "source": [
    "import sagemaker\n",
    "from sagemaker import get_execution_role\n",
    "\n",
    "sess = sagemaker.Session()\n",
    "\n",
    "role = get_execution_role()\n",
    "print(role)\n",
    "\n",
    "## Get docker image of ObjectToVec algorithm\n",
    "from sagemaker.amazon.amazon_estimator import get_image_uri\n",
    "container = get_image_uri(boto3.Session().region_name, 'object2vec')"
   ]
  },
  {
   "cell_type": "markdown",
   "metadata": {},
   "source": [
    "### Training"
   ]
  },
  {
   "cell_type": "markdown",
   "metadata": {},
   "source": [
    "#### We first define training hyperparameters"
   ]
  },
  {
   "cell_type": "code",
   "execution_count": 48,
   "metadata": {},
   "outputs": [],
   "source": [
    "hyperparameters = {\n",
    "    \"_kvstore\": \"device\",\n",
    "    \"_num_gpus\": \"auto\",\n",
    "    \"_num_kv_servers\": \"auto\",\n",
    "    \"bucket_width\": 0,\n",
    "    \"early_stopping_patience\": 3,\n",
    "    \"early_stopping_tolerance\": 0.01,\n",
    "    \"enc0_cnn_filter_width\": 3,\n",
    "    \"enc0_layers\": \"auto\",\n",
    "    \"enc0_max_seq_len\": 1,\n",
    "    \"enc0_network\": \"pooled_embedding\",\n",
    "    \"enc0_token_embedding_dim\": 300,\n",
    "    \"enc0_vocab_size\": 944,\n",
    "    \"enc1_layers\": \"auto\",\n",
    "    \"enc1_max_seq_len\": 1,\n",
    "    \"enc1_network\": \"pooled_embedding\",\n",
    "    \"enc1_token_embedding_dim\": 300,\n",
    "    \"enc1_vocab_size\": 1684,\n",
    "    \"enc_dim\": 1024,\n",
    "    \"epochs\": 20,\n",
    "    \"learning_rate\": 0.001,\n",
    "    \"mini_batch_size\": 64,\n",
    "    \"mlp_activation\": \"tanh\",\n",
    "    \"mlp_dim\": 256,\n",
    "    \"mlp_layers\": 1,\n",
    "    \"num_classes\": 2,\n",
    "    \"optimizer\": \"adam\",\n",
    "    \"output_layer\": \"mean_squared_error\"\n",
    "}"
   ]
  },
  {
   "cell_type": "code",
   "execution_count": 49,
   "metadata": {},
   "outputs": [
    {
     "name": "stdout",
     "output_type": "stream",
     "text": [
      "2019-06-18 18:12:59 Starting - Starting the training job...\n",
      "2019-06-18 18:13:01 Starting - Launching requested ML instances......\n",
      "2019-06-18 18:14:06 Starting - Preparing the instances for training...\n",
      "2019-06-18 18:14:58 Downloading - Downloading input data...\n",
      "2019-06-18 18:15:12 Training - Downloading the training image.....\n",
      "\u001b[31mDocker entrypoint called with argument(s): train\u001b[0m\n",
      "\u001b[31m[06/18/2019 18:16:08 INFO 140316596369216] Reading default configuration from /opt/amazon/lib/python2.7/site-packages/algorithm/default-input.json: {u'comparator_list': u'hadamard, concat, abs_diff', u'enc0_vocab_file': u'', u'output_layer': u'softmax', u'enc0_cnn_filter_width': 3, u'epochs': 30, u'mlp_dim': 512, u'enc0_freeze_pretrained_embedding': u'true', u'mlp_layers': 2, u'_num_kv_servers': u'auto', u'weight_decay': 0, u'enc0_pretrained_embedding_file': u'', u'token_embedding_storage_type': u'dense', u'enc0_token_embedding_dim': 300, u'tied_token_embedding_weight': u'false', u'learning_rate': 0.0004, u'enc1_cnn_filter_width': 3, u'negative_sampling_rate': 0, u'enc0_network': u'hcnn', u'enc1_layers': u'auto', u'early_stopping_patience': 3, u'optimizer': u'adam', u'_tuning_objective_metric': u'', u'early_stopping_tolerance': 0.01, u'dropout': 0, u'bucket_width': 0, u'enc_dim': 4096, u'enc1_vocab_file': u'', u'enc1_freeze_pretrained_embedding': u'true', u'enc0_layers': u'auto', u'mini_batch_size': 32, u'enc1_pretrained_embedding_file': u'', u'num_classes': 2, u'_num_gpus': u'auto', u'enc1_token_embedding_dim': 300, u'mlp_activation': u'linear', u'enc1_network': u'enc0', u'_kvstore': u'auto_gpu'}\u001b[0m\n",
      "\u001b[31m[06/18/2019 18:16:08 INFO 140316596369216] Reading provided configuration from /opt/ml/input/config/hyperparameters.json: {u'output_layer': u'mean_squared_error', u'enc0_cnn_filter_width': u'3', u'epochs': u'20', u'mlp_dim': u'256', u'mlp_layers': u'1', u'_num_kv_servers': u'auto', u'mini_batch_size': u'64', u'enc0_token_embedding_dim': u'300', u'enc1_network': u'pooled_embedding', u'enc0_network': u'pooled_embedding', u'enc1_layers': u'auto', u'early_stopping_patience': u'3', u'optimizer': u'adam', u'enc1_max_seq_len': u'1', u'early_stopping_tolerance': u'0.01', u'learning_rate': u'0.001', u'bucket_width': u'0', u'enc_dim': u'1024', u'enc0_layers': u'auto', u'enc0_max_seq_len': u'1', u'num_classes': u'2', u'_num_gpus': u'auto', u'mlp_activation': u'tanh', u'enc1_token_embedding_dim': u'300', u'_kvstore': u'device', u'enc1_vocab_size': u'1684', u'enc0_vocab_size': u'944'}\u001b[0m\n",
      "\u001b[31m[06/18/2019 18:16:08 INFO 140316596369216] Final configuration: {u'comparator_list': u'hadamard, concat, abs_diff', u'enc0_vocab_file': u'', u'output_layer': u'mean_squared_error', u'enc0_cnn_filter_width': u'3', u'epochs': u'20', u'mlp_dim': u'256', u'enc0_freeze_pretrained_embedding': u'true', u'mlp_layers': u'1', u'_num_kv_servers': u'auto', u'weight_decay': 0, u'enc0_pretrained_embedding_file': u'', u'enc0_max_seq_len': u'1', u'token_embedding_storage_type': u'dense', u'enc0_token_embedding_dim': u'300', u'tied_token_embedding_weight': u'false', u'learning_rate': u'0.001', u'enc1_cnn_filter_width': 3, u'negative_sampling_rate': 0, u'enc0_network': u'pooled_embedding', u'enc1_layers': u'auto', u'early_stopping_patience': u'3', u'optimizer': u'adam', u'enc1_max_seq_len': u'1', u'_tuning_objective_metric': u'', u'early_stopping_tolerance': u'0.01', u'dropout': 0, u'bucket_width': u'0', u'enc_dim': u'1024', u'enc1_vocab_file': u'', u'enc1_freeze_pretrained_embedding': u'true', u'enc0_layers': u'auto', u'mini_batch_size': u'64', u'enc1_pretrained_embedding_file': u'', u'num_classes': u'2', u'_num_gpus': u'auto', u'enc1_token_embedding_dim': u'300', u'mlp_activation': u'tanh', u'enc1_network': u'pooled_embedding', u'_kvstore': u'device', u'enc1_vocab_size': u'1684', u'enc0_vocab_size': u'944'}\u001b[0m\n",
      "\u001b[31mProcess 1 is a worker.\u001b[0m\n",
      "\u001b[31m[06/18/2019 18:16:08 INFO 140316596369216] Using default worker.\u001b[0m\n",
      "\u001b[31m[06/18/2019 18:16:08 INFO 140316596369216] Loaded iterator creator application/jsonlines for content type ('application/jsonlines', '1.0')\u001b[0m\n",
      "\u001b[31m[06/18/2019 18:16:08 INFO 140316596369216] create_iter params {u'comparator_list': u'hadamard, concat, abs_diff', u'enc0_vocab_file': u'', u'output_layer': u'mean_squared_error', u'enc0_cnn_filter_width': u'3', u'epochs': u'20', u'mlp_dim': u'256', u'enc0_freeze_pretrained_embedding': u'true', u'mlp_layers': u'1', u'_num_kv_servers': u'auto', u'weight_decay': 0, u'enc0_pretrained_embedding_file': u'', u'enc0_max_seq_len': u'1', u'token_embedding_storage_type': u'dense', u'enc0_token_embedding_dim': u'300', u'tied_token_embedding_weight': u'false', u'learning_rate': u'0.001', u'enc1_cnn_filter_width': 3, u'negative_sampling_rate': 0, u'enc0_network': u'pooled_embedding', u'enc1_layers': u'auto', u'early_stopping_patience': u'3', u'optimizer': u'adam', u'enc1_max_seq_len': u'1', u'_tuning_objective_metric': u'', u'early_stopping_tolerance': u'0.01', u'dropout': 0, u'bucket_width': u'0', u'enc_dim': u'1024', u'enc1_vocab_file': u'', u'enc1_freeze_pretrained_embedding': u'true', u'enc0_layers': u'auto', u'mini_batch_size': u'64', u'enc1_pretrained_embedding_file': u'', u'num_classes': u'2', u'_num_gpus': u'auto', u'enc1_token_embedding_dim': u'300', u'mlp_activation': u'tanh', u'enc1_network': u'pooled_embedding', u'_kvstore': u'device', u'enc1_vocab_size': u'1684', u'enc0_vocab_size': u'944'}\u001b[0m\n",
      "\u001b[31m[06/18/2019 18:16:08 INFO 140316596369216] create_iter content_params {}\u001b[0m\n",
      "\u001b[31m[06/18/2019 18:16:08 INFO 140316596369216] Parameters of encoders: [{u'layers': u'auto', u'vocab_size': u'944', u'network': u'pooled_embedding', u'vocab_file': u'', u'cnn_filter_width': u'3', u'token_embedding_dim': u'300', u'max_seq_len': u'1', u'freeze_pretrained_embedding': u'true', u'pretrained_embedding_file': u''}, {u'layers': u'auto', u'vocab_size': u'1684', u'network': u'pooled_embedding', u'vocab_file': u'', u'cnn_filter_width': 3, u'token_embedding_dim': u'300', u'max_seq_len': u'1', u'freeze_pretrained_embedding': u'true', u'pretrained_embedding_file': u''}]\u001b[0m\n",
      "\u001b[31m[06/18/2019 18:16:08 INFO 140316596369216] output_layer is set to mean_squared_error. Ignoring the hyperparameter 'num_classes'.\u001b[0m\n",
      "\u001b[31m[06/18/2019 18:16:08 INFO 140316596369216] Inconsistent enc_dim and token_embedding_dim found for token-embedding-encoder: 1024 vs 300. Setting token embedding dim to be 1024\u001b[0m\n",
      "\u001b[31m[06/18/2019 18:16:08 INFO 140316596369216] Inconsistent enc_dim and token_embedding_dim found for token-embedding-encoder: 1024 vs 300. Setting token embedding dim to be 1024\u001b[0m\n",
      "\u001b[31m[06/18/2019 18:16:08 INFO 140316596369216] Encoder configs: [{'vocab_size': 944, 'enc_index': 0, 'pretrained_embedding_file_path': None, 'vocab_dict': None, 'token_embedding_dim': 1024, 'vocab_file': '', 'freeze_pretrained_embedding': True, 'num_layers': 1, 'is_train': True, 'dropout': 0.0, 'pretrained_embedding_file': ''}, {'vocab_size': 1684, 'enc_index': 1, 'pretrained_embedding_file_path': None, 'vocab_dict': None, 'token_embedding_dim': 1024, 'vocab_file': '', 'freeze_pretrained_embedding': True, 'num_layers': 1, 'is_train': True, 'dropout': 0.0, 'pretrained_embedding_file': ''}]\u001b[0m\n",
      "\u001b[31m[06/18/2019 18:16:08 INFO 140316596369216] Config: {'comparator_list': ['hadamard', 'concat', 'abs_diff'], 'epochs': 20, 'mini_batch_size': 64, 'optimizer': 'adam', 'output_layer': 'mean_squared_error', 'token_embedding_storage_type': 'dense', 'mlp_dim': 256, 'early_stopping_tolerance': 0.01, 'dropout': 0.0, 'bucket_width': 0, 'enc_dim': 1024, 'negative_sampling_rate': 0, 'early_stopping_patience': 3, 'learning_rate': 0.001, 'max_seq_lens': [1, 1], 'tied_token_embedding_weight': False, 'enc_configs': [{'vocab_size': 944, 'enc_index': 0, 'pretrained_embedding_file_path': None, 'vocab_dict': None, 'token_embedding_dim': 1024, 'vocab_file': '', 'freeze_pretrained_embedding': True, 'num_layers': 1, 'is_train': True, 'dropout': 0.0, 'pretrained_embedding_file': ''}, {'vocab_size': 1684, 'enc_index': 1, 'pretrained_embedding_file_path': None, 'vocab_dict': None, 'token_embedding_dim': 1024, 'vocab_file': '', 'freeze_pretrained_embedding': True, 'num_layers': 1, 'is_train': True, 'dropout': 0.0, 'pretrained_embedding_file': ''}], 'mlp_layers': 1, 'weight_decay': 0.0, 'mlp_activation': 'tanh', 'num_classes': None}\u001b[0m\n",
      "\u001b[31m[06/18/2019 18:16:08 INFO 140316596369216] use bucketing: False\u001b[0m\n",
      "\u001b[31m[06/18/2019 18:16:08 INFO 140316596369216] Creating data iterator for /opt/ml/input/data/train\u001b[0m\n",
      "\u001b[31m[06/18/2019 18:16:10 INFO 140316596369216] Source words: 90570\u001b[0m\n",
      "\u001b[31m[06/18/2019 18:16:10 INFO 140316596369216] Target words: 90570\u001b[0m\n",
      "\u001b[31m[06/18/2019 18:16:10 INFO 140316596369216] Total: 90570 samples in 1 buckets\u001b[0m\n",
      "\u001b[31m[06/18/2019 18:16:10 INFO 140316596369216] Bucket of (1, 1) : 90570 samples in 1415 batches of 64, approx 64.0 words/batch\u001b[0m\n",
      "\u001b[31m[06/18/2019 18:16:10 INFO 140316596369216] 0 sentence pairs discarded\u001b[0m\n",
      "\u001b[31m[06/18/2019 18:16:10 INFO 140316596369216] fill up mode: replicate\u001b[0m\n",
      "\u001b[31m[06/18/2019 18:16:10 INFO 140316596369216] \u001b[0m\n",
      "\u001b[31m[06/18/2019 18:16:10 INFO 140316596369216] Negative sampling not used\u001b[0m\n",
      "\u001b[31m[06/18/2019 18:16:10 INFO 140316596369216] Replicating 54 random sentences from bucket (1, 1) to size it to multiple of 64\u001b[0m\n",
      "\u001b[31m[06/18/2019 18:16:10 INFO 140316596369216] Bucket batch sizes: [BucketBatchSize(batch_size=64, average_words_per_batch=64)]\u001b[0m\n",
      "\u001b[31m[06/18/2019 18:16:10 INFO 140316596369216] create_iter params {u'comparator_list': u'hadamard, concat, abs_diff', u'enc0_vocab_file': u'', u'output_layer': u'mean_squared_error', u'enc0_cnn_filter_width': u'3', u'epochs': u'20', u'mlp_dim': u'256', u'enc0_freeze_pretrained_embedding': u'true', u'mlp_layers': u'1', u'_num_kv_servers': u'auto', u'weight_decay': 0, u'enc0_pretrained_embedding_file': u'', u'enc0_max_seq_len': u'1', u'token_embedding_storage_type': u'dense', u'enc0_token_embedding_dim': u'300', u'tied_token_embedding_weight': u'false', u'learning_rate': u'0.001', u'enc1_cnn_filter_width': 3, u'negative_sampling_rate': 0, u'enc0_network': u'pooled_embedding', u'enc1_layers': u'auto', u'early_stopping_patience': u'3', u'optimizer': u'adam', u'enc1_max_seq_len': u'1', u'_tuning_objective_metric': u'', u'early_stopping_tolerance': u'0.01', u'dropout': 0, u'bucket_width': u'0', u'enc_dim': u'1024', u'enc1_vocab_file': u'', u'enc1_freeze_pretrained_embedding': u'true', u'enc0_layers': u'auto', u'mini_batch_size': u'64', u'enc1_pretrained_embedding_file': u'', u'num_classes': u'2', u'_num_gpus': u'auto', u'enc1_token_embedding_dim': u'300', u'mlp_activation': u'tanh', u'enc1_network': u'pooled_embedding', u'_kvstore': u'device', u'enc1_vocab_size': u'1684', u'enc0_vocab_size': u'944'}\u001b[0m\n",
      "\u001b[31m[06/18/2019 18:16:10 INFO 140316596369216] create_iter content_params {}\u001b[0m\n",
      "\u001b[31m[06/18/2019 18:16:10 INFO 140316596369216] Parameters of encoders: [{u'layers': u'auto', u'vocab_size': u'944', u'network': u'pooled_embedding', u'vocab_file': u'', u'cnn_filter_width': u'3', u'token_embedding_dim': u'300', u'max_seq_len': u'1', u'freeze_pretrained_embedding': u'true', u'pretrained_embedding_file': u''}, {u'layers': u'auto', u'vocab_size': u'1684', u'network': u'pooled_embedding', u'vocab_file': u'', u'cnn_filter_width': 3, u'token_embedding_dim': u'300', u'max_seq_len': u'1', u'freeze_pretrained_embedding': u'true', u'pretrained_embedding_file': u''}]\u001b[0m\n",
      "\u001b[31m[06/18/2019 18:16:10 INFO 140316596369216] output_layer is set to mean_squared_error. Ignoring the hyperparameter 'num_classes'.\u001b[0m\n",
      "\u001b[31m[06/18/2019 18:16:10 INFO 140316596369216] Inconsistent enc_dim and token_embedding_dim found for token-embedding-encoder: 1024 vs 300. Setting token embedding dim to be 1024\u001b[0m\n",
      "\u001b[31m[06/18/2019 18:16:10 INFO 140316596369216] Inconsistent enc_dim and token_embedding_dim found for token-embedding-encoder: 1024 vs 300. Setting token embedding dim to be 1024\u001b[0m\n",
      "\u001b[31m[06/18/2019 18:16:10 INFO 140316596369216] Encoder configs: [{'vocab_size': 944, 'enc_index': 0, 'pretrained_embedding_file_path': None, 'vocab_dict': None, 'token_embedding_dim': 1024, 'vocab_file': '', 'freeze_pretrained_embedding': True, 'num_layers': 1, 'is_train': True, 'dropout': 0.0, 'pretrained_embedding_file': ''}, {'vocab_size': 1684, 'enc_index': 1, 'pretrained_embedding_file_path': None, 'vocab_dict': None, 'token_embedding_dim': 1024, 'vocab_file': '', 'freeze_pretrained_embedding': True, 'num_layers': 1, 'is_train': True, 'dropout': 0.0, 'pretrained_embedding_file': ''}]\u001b[0m\n",
      "\u001b[31m[06/18/2019 18:16:10 INFO 140316596369216] Config: {'comparator_list': ['hadamard', 'concat', 'abs_diff'], 'epochs': 20, 'mini_batch_size': 64, 'optimizer': 'adam', 'output_layer': 'mean_squared_error', 'token_embedding_storage_type': 'dense', 'mlp_dim': 256, 'early_stopping_tolerance': 0.01, 'dropout': 0.0, 'bucket_width': 0, 'enc_dim': 1024, 'negative_sampling_rate': 0, 'early_stopping_patience': 3, 'learning_rate': 0.001, 'max_seq_lens': [1, 1], 'tied_token_embedding_weight': False, 'enc_configs': [{'vocab_size': 944, 'enc_index': 0, 'pretrained_embedding_file_path': None, 'vocab_dict': None, 'token_embedding_dim': 1024, 'vocab_file': '', 'freeze_pretrained_embedding': True, 'num_layers': 1, 'is_train': True, 'dropout': 0.0, 'pretrained_embedding_file': ''}, {'vocab_size': 1684, 'enc_index': 1, 'pretrained_embedding_file_path': None, 'vocab_dict': None, 'token_embedding_dim': 1024, 'vocab_file': '', 'freeze_pretrained_embedding': True, 'num_layers': 1, 'is_train': True, 'dropout': 0.0, 'pretrained_embedding_file': ''}], 'mlp_layers': 1, 'weight_decay': 0.0, 'mlp_activation': 'tanh', 'num_classes': None}\u001b[0m\n",
      "\u001b[31m[06/18/2019 18:16:10 INFO 140316596369216] use bucketing: False\u001b[0m\n",
      "\u001b[31m[06/18/2019 18:16:10 INFO 140316596369216] Creating data iterator for /opt/ml/input/data/validation\u001b[0m\n",
      "\u001b[31m[06/18/2019 18:16:11 INFO 140316596369216] Source words: 9430\u001b[0m\n",
      "\u001b[31m[06/18/2019 18:16:11 INFO 140316596369216] Target words: 9430\u001b[0m\n",
      "\u001b[31m[06/18/2019 18:16:11 INFO 140316596369216] Total: 9430 samples in 1 buckets\u001b[0m\n",
      "\u001b[31m[06/18/2019 18:16:11 INFO 140316596369216] Bucket of (1, 1) : 9430 samples in 147 batches of 64, approx 64.0 words/batch\u001b[0m\n",
      "\u001b[31m[06/18/2019 18:16:11 INFO 140316596369216] 0 sentence pairs discarded\u001b[0m\n",
      "\u001b[31m[06/18/2019 18:16:11 INFO 140316596369216] fill up mode: replicate\u001b[0m\n",
      "\u001b[31m[06/18/2019 18:16:11 INFO 140316596369216] \u001b[0m\n",
      "\u001b[31m[06/18/2019 18:16:11 INFO 140316596369216] Negative sampling not used\u001b[0m\n",
      "\u001b[31m[06/18/2019 18:16:11 INFO 140316596369216] Replicating 42 random sentences from bucket (1, 1) to size it to multiple of 64\u001b[0m\n",
      "\u001b[31m[06/18/2019 18:16:11 INFO 140316596369216] Parameters of encoders: [{u'layers': u'auto', u'vocab_size': u'944', u'network': u'pooled_embedding', u'vocab_file': u'', u'cnn_filter_width': u'3', u'token_embedding_dim': u'300', u'max_seq_len': u'1', u'freeze_pretrained_embedding': u'true', u'pretrained_embedding_file': u''}, {u'layers': u'auto', u'vocab_size': u'1684', u'network': u'pooled_embedding', u'vocab_file': u'', u'cnn_filter_width': 3, u'token_embedding_dim': u'300', u'max_seq_len': u'1', u'freeze_pretrained_embedding': u'true', u'pretrained_embedding_file': u''}]\u001b[0m\n",
      "\u001b[31m[06/18/2019 18:16:11 INFO 140316596369216] output_layer is set to mean_squared_error. Ignoring the hyperparameter 'num_classes'.\u001b[0m\n",
      "\u001b[31m[06/18/2019 18:16:11 INFO 140316596369216] Inconsistent enc_dim and token_embedding_dim found for token-embedding-encoder: 1024 vs 300. Setting token embedding dim to be 1024\u001b[0m\n",
      "\u001b[31m[06/18/2019 18:16:11 INFO 140316596369216] Inconsistent enc_dim and token_embedding_dim found for token-embedding-encoder: 1024 vs 300. Setting token embedding dim to be 1024\u001b[0m\n",
      "\u001b[31m[06/18/2019 18:16:11 INFO 140316596369216] Encoder configs: [{'vocab_size': 944, 'enc_index': 0, 'pretrained_embedding_file_path': None, 'vocab_dict': None, 'token_embedding_dim': 1024, 'vocab_file': '', 'freeze_pretrained_embedding': True, 'num_layers': 1, 'is_train': True, 'dropout': 0.0, 'pretrained_embedding_file': ''}, {'vocab_size': 1684, 'enc_index': 1, 'pretrained_embedding_file_path': None, 'vocab_dict': None, 'token_embedding_dim': 1024, 'vocab_file': '', 'freeze_pretrained_embedding': True, 'num_layers': 1, 'is_train': True, 'dropout': 0.0, 'pretrained_embedding_file': ''}]\u001b[0m\n",
      "\u001b[31m[06/18/2019 18:16:11 INFO 140316596369216] Config: {'comparator_list': ['hadamard', 'concat', 'abs_diff'], 'epochs': 20, 'mini_batch_size': 64, 'optimizer': 'adam', 'output_layer': 'mean_squared_error', 'token_embedding_storage_type': 'dense', 'mlp_dim': 256, 'early_stopping_tolerance': 0.01, 'dropout': 0.0, 'bucket_width': 0, 'enc_dim': 1024, 'negative_sampling_rate': 0, 'early_stopping_patience': 3, 'learning_rate': 0.001, 'max_seq_lens': [1, 1], 'tied_token_embedding_weight': False, 'enc_configs': [{'vocab_size': 944, 'enc_index': 0, 'pretrained_embedding_file_path': None, 'vocab_dict': None, 'token_embedding_dim': 1024, 'vocab_file': '', 'freeze_pretrained_embedding': True, 'num_layers': 1, 'is_train': True, 'dropout': 0.0, 'pretrained_embedding_file': ''}, {'vocab_size': 1684, 'enc_index': 1, 'pretrained_embedding_file_path': None, 'vocab_dict': None, 'token_embedding_dim': 1024, 'vocab_file': '', 'freeze_pretrained_embedding': True, 'num_layers': 1, 'is_train': True, 'dropout': 0.0, 'pretrained_embedding_file': ''}], 'mlp_layers': 1, 'weight_decay': 0.0, 'mlp_activation': 'tanh', 'num_classes': None}\u001b[0m\n",
      "\u001b[31m[06/18/2019 18:16:11 INFO 140316596369216] Creating new state\u001b[0m\n",
      "\u001b[31m[06/18/2019 18:16:11 INFO 140316596369216] params {u'comparator_list': u'hadamard, concat, abs_diff', u'enc0_vocab_file': u'', u'output_layer': u'mean_squared_error', u'enc0_cnn_filter_width': u'3', u'epochs': u'20', u'mlp_dim': u'256', u'enc0_freeze_pretrained_embedding': u'true', u'mlp_layers': u'1', u'_num_kv_servers': u'auto', u'weight_decay': 0, u'enc0_pretrained_embedding_file': u'', u'enc0_max_seq_len': u'1', u'token_embedding_storage_type': u'dense', u'enc0_token_embedding_dim': u'300', u'tied_token_embedding_weight': u'false', u'learning_rate': u'0.001', u'enc1_cnn_filter_width': 3, u'negative_sampling_rate': 0, u'enc0_network': u'pooled_embedding', u'enc1_layers': u'auto', u'early_stopping_patience': u'3', u'optimizer': u'adam', u'enc1_max_seq_len': u'1', u'_tuning_objective_metric': u'', u'early_stopping_tolerance': u'0.01', u'dropout': 0, u'bucket_width': u'0', u'enc_dim': u'1024', 'default_bucket_key': (1, 1), u'enc1_vocab_file': u'', u'enc1_freeze_pretrained_embedding': u'true', u'enc0_layers': u'auto', u'mini_batch_size': u'64', u'enc1_pretrained_embedding_file': u'', u'num_classes': u'2', u'_num_gpus': u'auto', u'enc1_token_embedding_dim': u'300', u'mlp_activation': u'tanh', u'enc1_network': u'pooled_embedding', u'_kvstore': u'device', u'enc1_vocab_size': u'1684', u'enc0_vocab_size': u'944'}\u001b[0m\n",
      "\u001b[31m[06/18/2019 18:16:11 INFO 140316596369216] default_bucket_key (1, 1)\u001b[0m\n",
      "\u001b[31m[06/18/2019 18:16:11 INFO 140316596369216] nvidia-smi took: 0.0251910686493 secs to identify 1 gpus\u001b[0m\n",
      "\u001b[31m[06/18/2019 18:16:11 INFO 140316596369216] Number of GPUs being used: 1\u001b[0m\n",
      "\u001b[31m[06/18/2019 18:16:11 INFO 140316596369216] context [gpu(0)]\u001b[0m\n",
      "\u001b[31m[06/18/2019 18:16:11 INFO 140316596369216] Create Store: device\u001b[0m\n",
      "\u001b[31m[06/18/2019 18:16:11 INFO 140316596369216] Number of GPUs being used: 1\u001b[0m\n",
      "\u001b[31m[06/18/2019 18:16:11 WARNING 140316596369216] dense token embedding is used in a multi-gpu setting...consider changing 'token_embedding_storage_type' to 'row_sparse'\u001b[0m\n",
      "\u001b[31m[06/18/2019 18:16:11 INFO 140316596369216] data_names: ['source', 'target']\u001b[0m\n",
      "\u001b[31m[06/18/2019 18:16:11 INFO 140316596369216] label_names: ['out_layer_label']\u001b[0m\n",
      "\u001b[31m________________________________________________________________________________________________________________________\u001b[0m\n",
      "\u001b[31mLayer (type)                                        Output Shape            Param #     Previous Layer                  \u001b[0m\n",
      "\u001b[31m========================================================================================================================\u001b[0m\n",
      "\u001b[31msource(null)                                        1                       0                                           \u001b[0m\n",
      "\u001b[31m________________________________________________________________________________________________________________________\u001b[0m\n",
      "\u001b[31membed_0(Embedding)                                  1x1024                  0           source                          \u001b[0m\n",
      "\u001b[31m________________________________________________________________________________________________________________________\u001b[0m\n",
      "\u001b[31m_not_equal_scalar0(_not_equal_scalar)               1                       0           source                          \u001b[0m\n",
      "\u001b[31m________________________________________________________________________________________________________________________\u001b[0m\n",
      "\u001b[31mreshape0(Reshape)                                   1x1                     0           _not_equal_scalar0              \u001b[0m\n",
      "\u001b[31m________________________________________________________________________________________________________________________\u001b[0m\n",
      "\u001b[31mbroadcast_mul0(broadcast_mul)                       1x1024                  0           embed_0                         \n",
      "                                                                                        reshape0                        \u001b[0m\n",
      "\u001b[31m________________________________________________________________________________________________________________________\u001b[0m\n",
      "\u001b[31msum0(sum)                                           1024                    0           broadcast_mul0                  \u001b[0m\n",
      "\u001b[31m________________________________________________________________________________________________________________________\u001b[0m\n",
      "\u001b[31msum1(sum)                                           1                       0           reshape0                        \u001b[0m\n",
      "\u001b[31m________________________________________________________________________________________________________________________\u001b[0m\n",
      "\u001b[31mzeros_like0(zeros_like)                             1                       0           sum1                            \u001b[0m\n",
      "\u001b[31m________________________________________________________________________________________________________________________\u001b[0m\n",
      "\u001b[31m_equal0(_equal)                                     1                       0           sum1                            \n",
      "                                                                                        zeros_like0                     \u001b[0m\n",
      "\u001b[31m________________________________________________________________________________________________________________________\u001b[0m\n",
      "\u001b[31m_plus0(elemwise_add)                                1                       0           sum1                            \n",
      "                                                                                        _equal0                         \u001b[0m\n",
      "\u001b[31m________________________________________________________________________________________________________________________\u001b[0m\n",
      "\u001b[31mbroadcast_div0(broadcast_div)                       1024                    0           sum0                            \n",
      "                                                                                        _plus0                          \u001b[0m\n",
      "\u001b[31m________________________________________________________________________________________________________________________\u001b[0m\n",
      "\u001b[31mdropout0(Dropout)                                   1024                    0           broadcast_div0                  \u001b[0m\n",
      "\u001b[31m________________________________________________________________________________________________________________________\u001b[0m\n",
      "\u001b[31membed_1(Embedding)                                  1x1024                  0                                           \u001b[0m\n",
      "\u001b[31m________________________________________________________________________________________________________________________\u001b[0m\n",
      "\u001b[31m_not_equal_scalar1(_not_equal_scalar)               1                       0                                           \u001b[0m\n",
      "\u001b[31m________________________________________________________________________________________________________________________\u001b[0m\n",
      "\u001b[31mreshape1(Reshape)                                   1x1                     0           _not_equal_scalar1              \u001b[0m\n",
      "\u001b[31m________________________________________________________________________________________________________________________\u001b[0m\n",
      "\u001b[31mbroadcast_mul1(broadcast_mul)                       1x1024                  0           embed_1                         \n",
      "                                                                                        reshape1                        \u001b[0m\n",
      "\u001b[31m________________________________________________________________________________________________________________________\u001b[0m\n",
      "\u001b[31msum2(sum)                                           1024                    0           broadcast_mul1                  \u001b[0m\n",
      "\u001b[31m________________________________________________________________________________________________________________________\u001b[0m\n",
      "\u001b[31msum3(sum)                                           1                       0           reshape1                        \u001b[0m\n",
      "\u001b[31m________________________________________________________________________________________________________________________\u001b[0m\n",
      "\u001b[31mzeros_like1(zeros_like)                             1                       0           sum3                            \u001b[0m\n",
      "\u001b[31m________________________________________________________________________________________________________________________\u001b[0m\n",
      "\u001b[31m_equal1(_equal)                                     1                       0           sum3                            \n",
      "                                                                                        zeros_like1                     \u001b[0m\n",
      "\u001b[31m________________________________________________________________________________________________________________________\u001b[0m\n",
      "\u001b[31m_plus1(elemwise_add)                                1                       0           sum3                            \n",
      "                                                                                        _equal1                         \u001b[0m\n",
      "\u001b[31m________________________________________________________________________________________________________________________\u001b[0m\n",
      "\u001b[31mbroadcast_div1(broadcast_div)                       1024                    0           sum2                            \n",
      "                                                                                        _plus1                          \u001b[0m\n",
      "\u001b[31m________________________________________________________________________________________________________________________\u001b[0m\n",
      "\u001b[31mdropout1(Dropout)                                   1024                    0           broadcast_div1                  \u001b[0m\n",
      "\u001b[31m________________________________________________________________________________________________________________________\u001b[0m\n",
      "\u001b[31m_mul0(elemwise_mul)                                 1024                    0           dropout0                        \n",
      "                                                                                        dropout1                        \u001b[0m\n",
      "\u001b[31m________________________________________________________________________________________________________________________\u001b[0m\n",
      "\u001b[31m_minus0(elemwise_sub)                               1024                    0           dropout0                        \n",
      "                                                                                        dropout1                        \u001b[0m\n",
      "\u001b[31m________________________________________________________________________________________________________________________\u001b[0m\n",
      "\u001b[31mabs0(abs)                                           1024                    0           _minus0                         \u001b[0m\n",
      "\u001b[31m________________________________________________________________________________________________________________________\u001b[0m\n",
      "\u001b[31mconcat0(Concat)                                     4096                    0           _mul0                           \n",
      "                                                                                        dropout0                        \n",
      "                                                                                        dropout1                        \n",
      "                                                                                        abs0                            \u001b[0m\n",
      "\u001b[31m________________________________________________________________________________________________________________________\u001b[0m\n",
      "\u001b[31mmlp_fc0(FullyConnected)                             256                     1048832     concat0                         \u001b[0m\n",
      "\u001b[31m________________________________________________________________________________________________________________________\u001b[0m\n",
      "\u001b[31mactivation0(Activation)                             256                     0           mlp_fc0                         \u001b[0m\n",
      "\u001b[31m________________________________________________________________________________________________________________________\u001b[0m\n",
      "\u001b[31mdropout2(Dropout)                                   256                     0           activation0                     \u001b[0m\n",
      "\u001b[31m________________________________________________________________________________________________________________________\u001b[0m\n",
      "\u001b[31moutput_layer(FullyConnected)                        1                       257         dropout2                        \u001b[0m\n",
      "\u001b[31m________________________________________________________________________________________________________________________\u001b[0m\n",
      "\u001b[31mout_layer(LinearRegressionOutput)                   1                       0           output_layer                    \u001b[0m\n",
      "\u001b[31m========================================================================================================================\u001b[0m\n",
      "\u001b[31mTotal params: 1049089\u001b[0m\n",
      "\u001b[31m________________________________________________________________________________________________________________________\u001b[0m\n",
      "\u001b[31m[06/18/2019 18:16:11 INFO 140316596369216] data_shapes [DataDesc[source,(64, 1),<type 'numpy.float32'>,NTC], DataDesc[target,(64, 1),<type 'numpy.float32'>,NTC]]\u001b[0m\n",
      "\u001b[31m[06/18/2019 18:16:11 INFO 140316596369216] label_shapes [DataDesc[out_layer_label,(64,),<type 'numpy.float32'>,NTC]]\u001b[0m\n",
      "\u001b[31m[06/18/2019 18:16:11 INFO 140316596369216] fixed_param_names: []\u001b[0m\n",
      "\u001b[31m[06/18/2019 18:16:11 INFO 140316596369216] Initialized BucketingPlus Module\u001b[0m\n",
      "\u001b[31m[06/18/2019 18:16:14 INFO 140316596369216] arg_params keys for module initialization: []\u001b[0m\n",
      "\u001b[31m[06/18/2019 18:16:14 INFO 140316596369216] all params:['output_layer_weight', 'mlp_fc0_weight', 'mlp_fc0_bias', 'output_layer_bias', 'embed_1_weight', 'embed_0_weight']\u001b[0m\n",
      "\u001b[31m#metrics {\"Metrics\": {\"initialize.time\": {\"count\": 1, \"max\": 3327.874183654785, \"sum\": 3327.874183654785, \"min\": 3327.874183654785}}, \"EndTime\": 1560881774.540287, \"Dimensions\": {\"Host\": \"algo-1\", \"Operation\": \"training\", \"Algorithm\": \"ObjectToVec\"}, \"StartTime\": 1560881768.125683}\n",
      "\u001b[0m\n",
      "\u001b[31m#metrics {\"Metrics\": {\"Max Batches Seen Between Resets\": {\"count\": 1, \"max\": 0, \"sum\": 0.0, \"min\": 0}, \"Number of Batches Since Last Reset\": {\"count\": 1, \"max\": 0, \"sum\": 0.0, \"min\": 0}, \"Number of Records Since Last Reset\": {\"count\": 1, \"max\": 0, \"sum\": 0.0, \"min\": 0}, \"Total Batches Seen\": {\"count\": 1, \"max\": 0, \"sum\": 0.0, \"min\": 0}, \"Total Records Seen\": {\"count\": 1, \"max\": 0, \"sum\": 0.0, \"min\": 0}, \"Max Records Seen Between Resets\": {\"count\": 1, \"max\": 0, \"sum\": 0.0, \"min\": 0}, \"Reset Count\": {\"count\": 1, \"max\": 0, \"sum\": 0.0, \"min\": 0}}, \"EndTime\": 1560881774.540472, \"Dimensions\": {\"Host\": \"algo-1\", \"Meta\": \"init_train_data_iter\", \"Operation\": \"training\", \"Algorithm\": \"ObjectToVec\"}, \"StartTime\": 1560881774.540408}\n",
      "\u001b[0m\n",
      "\u001b[31m[06/18/2019 18:16:15 INFO 140316596369216] Epoch: 0, batches: 100, num_examples: 6400, 14870.4 samples/sec, epoch time so far: 0:00:00.430384\u001b[0m\n",
      "\u001b[31m[06/18/2019 18:16:15 INFO 140316596369216] #011Training metrics: mean_squared_error: 1.635 mean_absolute_error: 0.999 \u001b[0m\n"
     ]
    },
    {
     "name": "stdout",
     "output_type": "stream",
     "text": [
      "\n",
      "2019-06-18 18:16:04 Training - Training image download completed. Training in progress.\u001b[31m[06/18/2019 18:16:15 INFO 140316596369216] Epoch: 0, batches: 200, num_examples: 12800, 15348.0 samples/sec, epoch time so far: 0:00:00.833983\u001b[0m\n",
      "\u001b[31m[06/18/2019 18:16:15 INFO 140316596369216] #011Training metrics: mean_squared_error: 1.362 mean_absolute_error: 0.919 \u001b[0m\n",
      "\u001b[31m[06/18/2019 18:16:15 INFO 140316596369216] Epoch: 0, batches: 300, num_examples: 19200, 15532.7 samples/sec, epoch time so far: 0:00:01.236102\u001b[0m\n",
      "\u001b[31m[06/18/2019 18:16:15 INFO 140316596369216] #011Training metrics: mean_squared_error: 1.265 mean_absolute_error: 0.888 \u001b[0m\n",
      "\u001b[31m[06/18/2019 18:16:16 INFO 140316596369216] Epoch: 0, batches: 400, num_examples: 25600, 15319.4 samples/sec, epoch time so far: 0:00:01.671088\u001b[0m\n",
      "\u001b[31m[06/18/2019 18:16:16 INFO 140316596369216] #011Training metrics: mean_squared_error: 1.197 mean_absolute_error: 0.863 \u001b[0m\n",
      "\u001b[31m[06/18/2019 18:16:16 INFO 140316596369216] Epoch: 0, batches: 500, num_examples: 32000, 15422.5 samples/sec, epoch time so far: 0:00:02.074894\u001b[0m\n",
      "\u001b[31m[06/18/2019 18:16:16 INFO 140316596369216] #011Training metrics: mean_squared_error: 1.157 mean_absolute_error: 0.849 \u001b[0m\n",
      "\u001b[31m[06/18/2019 18:16:17 INFO 140316596369216] Epoch: 0, batches: 600, num_examples: 38400, 15495.5 samples/sec, epoch time so far: 0:00:02.478135\u001b[0m\n",
      "\u001b[31m[06/18/2019 18:16:17 INFO 140316596369216] #011Training metrics: mean_squared_error: 1.131 mean_absolute_error: 0.840 \u001b[0m\n",
      "\u001b[31m[06/18/2019 18:16:17 INFO 140316596369216] Epoch: 0, batches: 700, num_examples: 44800, 15541.3 samples/sec, epoch time so far: 0:00:02.882637\u001b[0m\n",
      "\u001b[31m[06/18/2019 18:16:17 INFO 140316596369216] #011Training metrics: mean_squared_error: 1.109 mean_absolute_error: 0.833 \u001b[0m\n",
      "\u001b[31m[06/18/2019 18:16:17 INFO 140316596369216] Epoch: 0, batches: 800, num_examples: 51200, 15592.0 samples/sec, epoch time so far: 0:00:03.283729\u001b[0m\n",
      "\u001b[31m[06/18/2019 18:16:17 INFO 140316596369216] #011Training metrics: mean_squared_error: 1.086 mean_absolute_error: 0.825 \u001b[0m\n",
      "\u001b[31m[06/18/2019 18:16:18 INFO 140316596369216] Epoch: 0, batches: 900, num_examples: 57600, 15572.5 samples/sec, epoch time so far: 0:00:03.698825\u001b[0m\n",
      "\u001b[31m[06/18/2019 18:16:18 INFO 140316596369216] #011Training metrics: mean_squared_error: 1.073 mean_absolute_error: 0.820 \u001b[0m\n",
      "\u001b[31m[06/18/2019 18:16:18 INFO 140316596369216] Epoch: 0, batches: 1000, num_examples: 64000, 15604.1 samples/sec, epoch time so far: 0:00:04.101474\u001b[0m\n",
      "\u001b[31m[06/18/2019 18:16:18 INFO 140316596369216] #011Training metrics: mean_squared_error: 1.057 mean_absolute_error: 0.814 \u001b[0m\n",
      "\u001b[31m[06/18/2019 18:16:19 INFO 140316596369216] Epoch: 0, batches: 1100, num_examples: 70400, 15547.8 samples/sec, epoch time so far: 0:00:04.527985\u001b[0m\n",
      "\u001b[31m[06/18/2019 18:16:19 INFO 140316596369216] #011Training metrics: mean_squared_error: 1.044 mean_absolute_error: 0.810 \u001b[0m\n",
      "\u001b[31m[06/18/2019 18:16:19 INFO 140316596369216] Epoch: 0, batches: 1200, num_examples: 76800, 15572.2 samples/sec, epoch time so far: 0:00:04.931856\u001b[0m\n",
      "\u001b[31m[06/18/2019 18:16:19 INFO 140316596369216] #011Training metrics: mean_squared_error: 1.034 mean_absolute_error: 0.805 \u001b[0m\n",
      "\u001b[31m[06/18/2019 18:16:19 INFO 140316596369216] Epoch: 0, batches: 1300, num_examples: 83200, 15588.7 samples/sec, epoch time so far: 0:00:05.337214\u001b[0m\n",
      "\u001b[31m[06/18/2019 18:16:19 INFO 140316596369216] #011Training metrics: mean_squared_error: 1.025 mean_absolute_error: 0.802 \u001b[0m\n",
      "\u001b[31m[06/18/2019 18:16:20 INFO 140316596369216] Epoch: 0, batches: 1400, num_examples: 89600, 15587.9 samples/sec, epoch time so far: 0:00:05.748050\u001b[0m\n",
      "\u001b[31m[06/18/2019 18:16:20 INFO 140316596369216] #011Training metrics: mean_squared_error: 1.018 mean_absolute_error: 0.799 \u001b[0m\n",
      "\u001b[31m[06/18/2019 18:16:20 INFO 140316596369216] **************\u001b[0m\n",
      "\u001b[31m[06/18/2019 18:16:20 INFO 140316596369216] Completed Epoch: 0, time taken: 0:00:05.812794\u001b[0m\n",
      "\u001b[31m[06/18/2019 18:16:20 INFO 140316596369216] Epoch 0 Training metrics:   mean_squared_error: 1.017 mean_absolute_error: 0.798 \u001b[0m\n",
      "\u001b[31m[06/18/2019 18:16:20 INFO 140316596369216] #quality_metric: host=algo-1, epoch=0, train mean_squared_error <loss>=1.01690207594\u001b[0m\n",
      "\u001b[31m[06/18/2019 18:16:20 INFO 140316596369216] Epoch 0 Validation metrics: mean_squared_error: 0.955 mean_absolute_error: 0.771 \u001b[0m\n",
      "\u001b[31m[06/18/2019 18:16:20 INFO 140316596369216] #quality_metric: host=algo-1, epoch=0, validation mean_squared_error <loss>=0.954835562287\u001b[0m\n",
      "\u001b[31m[06/18/2019 18:16:20 INFO 140316596369216] **************\u001b[0m\n",
      "\u001b[31m#metrics {\"Metrics\": {\"epochs\": {\"count\": 1, \"max\": 20, \"sum\": 20.0, \"min\": 20}, \"early_stop.time\": {\"count\": 1, \"max\": 0.3108978271484375, \"sum\": 0.3108978271484375, \"min\": 0.3108978271484375}, \"update.time\": {\"count\": 1, \"max\": 6005.059003829956, \"sum\": 6005.059003829956, \"min\": 6005.059003829956}}, \"EndTime\": 1560881780.602113, \"Dimensions\": {\"Host\": \"algo-1\", \"Operation\": \"training\", \"Algorithm\": \"ObjectToVec\"}, \"StartTime\": 1560881774.54036}\n",
      "\u001b[0m\n",
      "\u001b[31m[06/18/2019 18:16:20 INFO 140316596369216] #progress_metric: host=algo-1, completed 5 % of epochs\u001b[0m\n",
      "\u001b[31m#metrics {\"Metrics\": {\"Max Batches Seen Between Resets\": {\"count\": 1, \"max\": 1416, \"sum\": 1416.0, \"min\": 1416}, \"Number of Batches Since Last Reset\": {\"count\": 1, \"max\": 1416, \"sum\": 1416.0, \"min\": 1416}, \"Number of Records Since Last Reset\": {\"count\": 1, \"max\": 90624, \"sum\": 90624.0, \"min\": 90624}, \"Total Batches Seen\": {\"count\": 1, \"max\": 1416, \"sum\": 1416.0, \"min\": 1416}, \"Total Records Seen\": {\"count\": 1, \"max\": 90624, \"sum\": 90624.0, \"min\": 90624}, \"Max Records Seen Between Resets\": {\"count\": 1, \"max\": 90624, \"sum\": 90624.0, \"min\": 90624}, \"Reset Count\": {\"count\": 1, \"max\": 1, \"sum\": 1.0, \"min\": 1}}, \"EndTime\": 1560881780.602395, \"Dimensions\": {\"Host\": \"algo-1\", \"Meta\": \"training_data_iter\", \"Operation\": \"training\", \"Algorithm\": \"ObjectToVec\", \"epoch\": 0}, \"StartTime\": 1560881774.597032}\n",
      "\u001b[0m\n",
      "\u001b[31m[06/18/2019 18:16:20 INFO 140316596369216] #throughput_metric: host=algo-1, train throughput=15090.1425879 records/second\u001b[0m\n",
      "\u001b[31m[06/18/2019 18:16:21 INFO 140316596369216] Epoch: 1, batches: 100, num_examples: 6400, 15307.5 samples/sec, epoch time so far: 0:00:00.418095\u001b[0m\n",
      "\u001b[31m[06/18/2019 18:16:21 INFO 140316596369216] #011Training metrics: mean_squared_error: 0.733 mean_absolute_error: 0.666 \u001b[0m\n",
      "\u001b[31m[06/18/2019 18:16:21 INFO 140316596369216] Epoch: 1, batches: 200, num_examples: 12800, 15550.2 samples/sec, epoch time so far: 0:00:00.823138\u001b[0m\n",
      "\u001b[31m[06/18/2019 18:16:21 INFO 140316596369216] #011Training metrics: mean_squared_error: 0.712 mean_absolute_error: 0.660 \u001b[0m\n",
      "\u001b[31m[06/18/2019 18:16:21 INFO 140316596369216] Epoch: 1, batches: 300, num_examples: 19200, 15668.4 samples/sec, epoch time so far: 0:00:01.225399\u001b[0m\n",
      "\u001b[31m[06/18/2019 18:16:21 INFO 140316596369216] #011Training metrics: mean_squared_error: 0.700 mean_absolute_error: 0.654 \u001b[0m\n",
      "\u001b[31m[06/18/2019 18:16:22 INFO 140316596369216] Epoch: 1, batches: 400, num_examples: 25600, 15686.9 samples/sec, epoch time so far: 0:00:01.631930\u001b[0m\n",
      "\u001b[31m[06/18/2019 18:16:22 INFO 140316596369216] #011Training metrics: mean_squared_error: 0.699 mean_absolute_error: 0.655 \u001b[0m\n",
      "\u001b[31m[06/18/2019 18:16:22 INFO 140316596369216] Epoch: 1, batches: 500, num_examples: 32000, 15654.7 samples/sec, epoch time so far: 0:00:02.044113\u001b[0m\n",
      "\u001b[31m[06/18/2019 18:16:22 INFO 140316596369216] #011Training metrics: mean_squared_error: 0.694 mean_absolute_error: 0.653 \u001b[0m\n",
      "\u001b[31m[06/18/2019 18:16:23 INFO 140316596369216] Epoch: 1, batches: 600, num_examples: 38400, 15682.9 samples/sec, epoch time so far: 0:00:02.448525\u001b[0m\n",
      "\u001b[31m[06/18/2019 18:16:23 INFO 140316596369216] #011Training metrics: mean_squared_error: 0.687 mean_absolute_error: 0.649 \u001b[0m\n",
      "\u001b[31m[06/18/2019 18:16:23 INFO 140316596369216] Epoch: 1, batches: 700, num_examples: 44800, 15707.9 samples/sec, epoch time so far: 0:00:02.852063\u001b[0m\n",
      "\u001b[31m[06/18/2019 18:16:23 INFO 140316596369216] #011Training metrics: mean_squared_error: 0.684 mean_absolute_error: 0.648 \u001b[0m\n",
      "\u001b[31m[06/18/2019 18:16:23 INFO 140316596369216] Epoch: 1, batches: 800, num_examples: 51200, 15511.4 samples/sec, epoch time so far: 0:00:03.300808\u001b[0m\n",
      "\u001b[31m[06/18/2019 18:16:23 INFO 140316596369216] #011Training metrics: mean_squared_error: 0.681 mean_absolute_error: 0.647 \u001b[0m\n",
      "\u001b[31m[06/18/2019 18:16:24 INFO 140316596369216] Epoch: 1, batches: 900, num_examples: 57600, 15225.4 samples/sec, epoch time so far: 0:00:03.783143\u001b[0m\n",
      "\u001b[31m[06/18/2019 18:16:24 INFO 140316596369216] #011Training metrics: mean_squared_error: 0.674 mean_absolute_error: 0.644 \u001b[0m\n",
      "\u001b[31m[06/18/2019 18:16:24 INFO 140316596369216] Epoch: 1, batches: 1000, num_examples: 64000, 15108.5 samples/sec, epoch time so far: 0:00:04.236017\u001b[0m\n",
      "\u001b[31m[06/18/2019 18:16:24 INFO 140316596369216] #011Training metrics: mean_squared_error: 0.670 mean_absolute_error: 0.641 \u001b[0m\n",
      "\u001b[31m[06/18/2019 18:16:25 INFO 140316596369216] Epoch: 1, batches: 1100, num_examples: 70400, 15175.2 samples/sec, epoch time so far: 0:00:04.639137\u001b[0m\n",
      "\u001b[31m[06/18/2019 18:16:25 INFO 140316596369216] #011Training metrics: mean_squared_error: 0.668 mean_absolute_error: 0.641 \u001b[0m\n"
     ]
    },
    {
     "name": "stdout",
     "output_type": "stream",
     "text": [
      "\u001b[31m[06/18/2019 18:16:25 INFO 140316596369216] Epoch: 1, batches: 1200, num_examples: 76800, 15229.5 samples/sec, epoch time so far: 0:00:05.042833\u001b[0m\n",
      "\u001b[31m[06/18/2019 18:16:25 INFO 140316596369216] #011Training metrics: mean_squared_error: 0.666 mean_absolute_error: 0.640 \u001b[0m\n",
      "\u001b[31m[06/18/2019 18:16:26 INFO 140316596369216] Epoch: 1, batches: 1300, num_examples: 83200, 15236.5 samples/sec, epoch time so far: 0:00:05.460582\u001b[0m\n",
      "\u001b[31m[06/18/2019 18:16:26 INFO 140316596369216] #011Training metrics: mean_squared_error: 0.664 mean_absolute_error: 0.639 \u001b[0m\n",
      "\u001b[31m[06/18/2019 18:16:26 INFO 140316596369216] Epoch: 1, batches: 1400, num_examples: 89600, 15266.2 samples/sec, epoch time so far: 0:00:05.869188\u001b[0m\n",
      "\u001b[31m[06/18/2019 18:16:26 INFO 140316596369216] #011Training metrics: mean_squared_error: 0.661 mean_absolute_error: 0.637 \u001b[0m\n",
      "\u001b[31m[06/18/2019 18:16:26 INFO 140316596369216] **************\u001b[0m\n",
      "\u001b[31m[06/18/2019 18:16:26 INFO 140316596369216] Completed Epoch: 1, time taken: 0:00:05.936859\u001b[0m\n",
      "\u001b[31m[06/18/2019 18:16:26 INFO 140316596369216] Epoch 1 Training metrics:   mean_squared_error: 0.661 mean_absolute_error: 0.637 \u001b[0m\n",
      "\u001b[31m[06/18/2019 18:16:26 INFO 140316596369216] #quality_metric: host=algo-1, epoch=1, train mean_squared_error <loss>=0.660708818332\u001b[0m\n",
      "\u001b[31m[06/18/2019 18:16:26 INFO 140316596369216] Epoch 1 Validation metrics: mean_squared_error: 0.984 mean_absolute_error: 0.781 \u001b[0m\n",
      "\u001b[31m[06/18/2019 18:16:26 INFO 140316596369216] #quality_metric: host=algo-1, epoch=1, validation mean_squared_error <loss>=0.984384374441\u001b[0m\n",
      "\u001b[31m[06/18/2019 18:16:26 INFO 140316596369216] **************\u001b[0m\n",
      "\u001b[31m#metrics {\"Metrics\": {\"early_stop.time\": {\"count\": 1, \"max\": 0.024080276489257812, \"sum\": 0.024080276489257812, \"min\": 0.024080276489257812}, \"update.time\": {\"count\": 1, \"max\": 6128.589153289795, \"sum\": 6128.589153289795, \"min\": 6128.589153289795}}, \"EndTime\": 1560881786.764549, \"Dimensions\": {\"Host\": \"algo-1\", \"Operation\": \"training\", \"Algorithm\": \"ObjectToVec\"}, \"StartTime\": 1560881780.602193}\n",
      "\u001b[0m\n",
      "\u001b[31m[06/18/2019 18:16:26 INFO 140316596369216] #progress_metric: host=algo-1, completed 10 % of epochs\u001b[0m\n",
      "\u001b[31m#metrics {\"Metrics\": {\"Max Batches Seen Between Resets\": {\"count\": 1, \"max\": 1416, \"sum\": 1416.0, \"min\": 1416}, \"Number of Batches Since Last Reset\": {\"count\": 1, \"max\": 1416, \"sum\": 1416.0, \"min\": 1416}, \"Number of Records Since Last Reset\": {\"count\": 1, \"max\": 90624, \"sum\": 90624.0, \"min\": 90624}, \"Total Batches Seen\": {\"count\": 1, \"max\": 2832, \"sum\": 2832.0, \"min\": 2832}, \"Total Records Seen\": {\"count\": 1, \"max\": 181248, \"sum\": 181248.0, \"min\": 181248}, \"Max Records Seen Between Resets\": {\"count\": 1, \"max\": 90624, \"sum\": 90624.0, \"min\": 90624}, \"Reset Count\": {\"count\": 1, \"max\": 2, \"sum\": 2.0, \"min\": 2}}, \"EndTime\": 1560881786.764817, \"Dimensions\": {\"Host\": \"algo-1\", \"Meta\": \"training_data_iter\", \"Operation\": \"training\", \"Algorithm\": \"ObjectToVec\", \"epoch\": 1}, \"StartTime\": 1560881780.635939}\n",
      "\u001b[0m\n",
      "\u001b[31m[06/18/2019 18:16:26 INFO 140316596369216] #throughput_metric: host=algo-1, train throughput=14786.0506834 records/second\u001b[0m\n",
      "\u001b[31m[06/18/2019 18:16:27 INFO 140316596369216] Epoch: 2, batches: 100, num_examples: 6400, 15809.7 samples/sec, epoch time so far: 0:00:00.404815\u001b[0m\n",
      "\u001b[31m[06/18/2019 18:16:27 INFO 140316596369216] #011Training metrics: mean_squared_error: 0.284 mean_absolute_error: 0.408 \u001b[0m\n",
      "\u001b[31m[06/18/2019 18:16:27 INFO 140316596369216] Epoch: 2, batches: 200, num_examples: 12800, 15805.9 samples/sec, epoch time so far: 0:00:00.809823\u001b[0m\n",
      "\u001b[31m[06/18/2019 18:16:27 INFO 140316596369216] #011Training metrics: mean_squared_error: 0.273 mean_absolute_error: 0.400 \u001b[0m\n",
      "\u001b[31m[06/18/2019 18:16:27 INFO 140316596369216] Epoch: 2, batches: 300, num_examples: 19200, 15820.0 samples/sec, epoch time so far: 0:00:01.213657\u001b[0m\n",
      "\u001b[31m[06/18/2019 18:16:27 INFO 140316596369216] #011Training metrics: mean_squared_error: 0.267 mean_absolute_error: 0.395 \u001b[0m\n",
      "\u001b[31m[06/18/2019 18:16:28 INFO 140316596369216] Epoch: 2, batches: 400, num_examples: 25600, 15848.5 samples/sec, epoch time so far: 0:00:01.615290\u001b[0m\n",
      "\u001b[31m[06/18/2019 18:16:28 INFO 140316596369216] #011Training metrics: mean_squared_error: 0.269 mean_absolute_error: 0.396 \u001b[0m\n",
      "\u001b[31m[06/18/2019 18:16:28 INFO 140316596369216] Epoch: 2, batches: 500, num_examples: 32000, 15800.9 samples/sec, epoch time so far: 0:00:02.025207\u001b[0m\n",
      "\u001b[31m[06/18/2019 18:16:28 INFO 140316596369216] #011Training metrics: mean_squared_error: 0.269 mean_absolute_error: 0.397 \u001b[0m\n",
      "\u001b[31m[06/18/2019 18:16:29 INFO 140316596369216] Epoch: 2, batches: 600, num_examples: 38400, 15811.1 samples/sec, epoch time so far: 0:00:02.428677\u001b[0m\n",
      "\u001b[31m[06/18/2019 18:16:29 INFO 140316596369216] #011Training metrics: mean_squared_error: 0.269 mean_absolute_error: 0.397 \u001b[0m\n",
      "\u001b[31m[06/18/2019 18:16:29 INFO 140316596369216] Epoch: 2, batches: 700, num_examples: 44800, 15813.9 samples/sec, epoch time so far: 0:00:02.832954\u001b[0m\n",
      "\u001b[31m[06/18/2019 18:16:29 INFO 140316596369216] #011Training metrics: mean_squared_error: 0.270 mean_absolute_error: 0.398 \u001b[0m\n",
      "\u001b[31m[06/18/2019 18:16:30 INFO 140316596369216] Epoch: 2, batches: 800, num_examples: 51200, 15811.5 samples/sec, epoch time so far: 0:00:03.238145\u001b[0m\n",
      "\u001b[31m[06/18/2019 18:16:30 INFO 140316596369216] #011Training metrics: mean_squared_error: 0.269 mean_absolute_error: 0.397 \u001b[0m\n",
      "\u001b[31m[06/18/2019 18:16:30 INFO 140316596369216] Epoch: 2, batches: 900, num_examples: 57600, 15803.6 samples/sec, epoch time so far: 0:00:03.644728\u001b[0m\n",
      "\u001b[31m[06/18/2019 18:16:30 INFO 140316596369216] #011Training metrics: mean_squared_error: 0.269 mean_absolute_error: 0.398 \u001b[0m\n",
      "\u001b[31m[06/18/2019 18:16:30 INFO 140316596369216] Epoch: 2, batches: 1000, num_examples: 64000, 15774.6 samples/sec, epoch time so far: 0:00:04.057158\u001b[0m\n",
      "\u001b[31m[06/18/2019 18:16:30 INFO 140316596369216] #011Training metrics: mean_squared_error: 0.272 mean_absolute_error: 0.400 \u001b[0m\n",
      "\u001b[31m[06/18/2019 18:16:31 INFO 140316596369216] Epoch: 2, batches: 1100, num_examples: 70400, 15685.1 samples/sec, epoch time so far: 0:00:04.488344\u001b[0m\n",
      "\u001b[31m[06/18/2019 18:16:31 INFO 140316596369216] #011Training metrics: mean_squared_error: 0.273 mean_absolute_error: 0.401 \u001b[0m\n",
      "\u001b[31m[06/18/2019 18:16:31 INFO 140316596369216] Epoch: 2, batches: 1200, num_examples: 76800, 15700.5 samples/sec, epoch time so far: 0:00:04.891577\u001b[0m\n",
      "\u001b[31m[06/18/2019 18:16:31 INFO 140316596369216] #011Training metrics: mean_squared_error: 0.274 mean_absolute_error: 0.401 \u001b[0m\n",
      "\u001b[31m[06/18/2019 18:16:32 INFO 140316596369216] Epoch: 2, batches: 1300, num_examples: 83200, 15699.3 samples/sec, epoch time so far: 0:00:05.299602\u001b[0m\n",
      "\u001b[31m[06/18/2019 18:16:32 INFO 140316596369216] #011Training metrics: mean_squared_error: 0.275 mean_absolute_error: 0.402 \u001b[0m\n",
      "\u001b[31m[06/18/2019 18:16:32 INFO 140316596369216] Epoch: 2, batches: 1400, num_examples: 89600, 15708.3 samples/sec, epoch time so far: 0:00:05.703977\u001b[0m\n",
      "\u001b[31m[06/18/2019 18:16:32 INFO 140316596369216] #011Training metrics: mean_squared_error: 0.277 mean_absolute_error: 0.404 \u001b[0m\n",
      "\u001b[31m[06/18/2019 18:16:32 INFO 140316596369216] **************\u001b[0m\n",
      "\u001b[31m[06/18/2019 18:16:32 INFO 140316596369216] Completed Epoch: 2, time taken: 0:00:05.767853\u001b[0m\n",
      "\u001b[31m[06/18/2019 18:16:32 INFO 140316596369216] Epoch 2 Training metrics:   mean_squared_error: 0.278 mean_absolute_error: 0.404 \u001b[0m\n",
      "\u001b[31m[06/18/2019 18:16:32 INFO 140316596369216] #quality_metric: host=algo-1, epoch=2, train mean_squared_error <loss>=0.277555242739\u001b[0m\n",
      "\u001b[31m[06/18/2019 18:16:32 INFO 140316596369216] Epoch 2 Validation metrics: mean_squared_error: 0.948 mean_absolute_error: 0.769 \u001b[0m\n",
      "\u001b[31m[06/18/2019 18:16:32 INFO 140316596369216] #quality_metric: host=algo-1, epoch=2, validation mean_squared_error <loss>=0.947921784746\u001b[0m\n",
      "\u001b[31m[06/18/2019 18:16:32 INFO 140316596369216] **************\u001b[0m\n",
      "\u001b[31m#metrics {\"Metrics\": {\"early_stop.time\": {\"count\": 1, \"max\": 2.766132354736328, \"sum\": 2.766132354736328, \"min\": 2.766132354736328}, \"update.time\": {\"count\": 1, \"max\": 5960.974931716919, \"sum\": 5960.974931716919, \"min\": 5960.974931716919}}, \"EndTime\": 1560881792.731062, \"Dimensions\": {\"Host\": \"algo-1\", \"Operation\": \"training\", \"Algorithm\": \"ObjectToVec\"}, \"StartTime\": 1560881786.764642}\n",
      "\u001b[0m\n",
      "\u001b[31m[06/18/2019 18:16:32 INFO 140316596369216] #progress_metric: host=algo-1, completed 15 % of epochs\u001b[0m\n",
      "\u001b[31m#metrics {\"Metrics\": {\"Max Batches Seen Between Resets\": {\"count\": 1, \"max\": 1416, \"sum\": 1416.0, \"min\": 1416}, \"Number of Batches Since Last Reset\": {\"count\": 1, \"max\": 1416, \"sum\": 1416.0, \"min\": 1416}, \"Number of Records Since Last Reset\": {\"count\": 1, \"max\": 90624, \"sum\": 90624.0, \"min\": 90624}, \"Total Batches Seen\": {\"count\": 1, \"max\": 4248, \"sum\": 4248.0, \"min\": 4248}, \"Total Records Seen\": {\"count\": 1, \"max\": 271872, \"sum\": 271872.0, \"min\": 271872}, \"Max Records Seen Between Resets\": {\"count\": 1, \"max\": 90624, \"sum\": 90624.0, \"min\": 90624}, \"Reset Count\": {\"count\": 1, \"max\": 3, \"sum\": 3.0, \"min\": 3}}, \"EndTime\": 1560881792.731371, \"Dimensions\": {\"Host\": \"algo-1\", \"Meta\": \"training_data_iter\", \"Operation\": \"training\", \"Algorithm\": \"ObjectToVec\", \"epoch\": 2}, \"StartTime\": 1560881786.770065}\n",
      "\u001b[0m\n",
      "\u001b[31m[06/18/2019 18:16:32 INFO 140316596369216] #throughput_metric: host=algo-1, train throughput=15201.7093896 records/second\u001b[0m\n",
      "\u001b[31m[06/18/2019 18:16:33 INFO 140316596369216] Epoch: 3, batches: 100, num_examples: 6400, 15283.6 samples/sec, epoch time so far: 0:00:00.418749\u001b[0m\n",
      "\u001b[31m[06/18/2019 18:16:33 INFO 140316596369216] #011Training metrics: mean_squared_error: 0.173 mean_absolute_error: 0.306 \u001b[0m\n",
      "\u001b[31m[06/18/2019 18:16:33 INFO 140316596369216] Epoch: 3, batches: 200, num_examples: 12800, 15595.8 samples/sec, epoch time so far: 0:00:00.820736\u001b[0m\n",
      "\u001b[31m[06/18/2019 18:16:33 INFO 140316596369216] #011Training metrics: mean_squared_error: 0.168 mean_absolute_error: 0.302 \u001b[0m\n",
      "\u001b[31m[06/18/2019 18:16:33 INFO 140316596369216] Epoch: 3, batches: 300, num_examples: 19200, 15678.6 samples/sec, epoch time so far: 0:00:01.224602\u001b[0m\n",
      "\u001b[31m[06/18/2019 18:16:33 INFO 140316596369216] #011Training metrics: mean_squared_error: 0.164 mean_absolute_error: 0.297 \u001b[0m\n",
      "\u001b[31m[06/18/2019 18:16:34 INFO 140316596369216] Epoch: 3, batches: 400, num_examples: 25600, 15679.7 samples/sec, epoch time so far: 0:00:01.632689\u001b[0m\n",
      "\u001b[31m[06/18/2019 18:16:34 INFO 140316596369216] #011Training metrics: mean_squared_error: 0.163 mean_absolute_error: 0.297 \u001b[0m\n",
      "\u001b[31m[06/18/2019 18:16:34 INFO 140316596369216] Epoch: 3, batches: 500, num_examples: 32000, 15689.3 samples/sec, epoch time so far: 0:00:02.039610\u001b[0m\n",
      "\u001b[31m[06/18/2019 18:16:34 INFO 140316596369216] #011Training metrics: mean_squared_error: 0.162 mean_absolute_error: 0.295 \u001b[0m\n",
      "\u001b[31m[06/18/2019 18:16:35 INFO 140316596369216] Epoch: 3, batches: 600, num_examples: 38400, 15654.0 samples/sec, epoch time so far: 0:00:02.453051\u001b[0m\n",
      "\u001b[31m[06/18/2019 18:16:35 INFO 140316596369216] #011Training metrics: mean_squared_error: 0.161 mean_absolute_error: 0.295 \u001b[0m\n"
     ]
    },
    {
     "name": "stdout",
     "output_type": "stream",
     "text": [
      "\u001b[31m[06/18/2019 18:16:35 INFO 140316596369216] Epoch: 3, batches: 700, num_examples: 44800, 15690.2 samples/sec, epoch time so far: 0:00:02.855279\u001b[0m\n",
      "\u001b[31m[06/18/2019 18:16:35 INFO 140316596369216] #011Training metrics: mean_squared_error: 0.159 mean_absolute_error: 0.294 \u001b[0m\n",
      "\u001b[31m[06/18/2019 18:16:36 INFO 140316596369216] Epoch: 3, batches: 800, num_examples: 51200, 15713.0 samples/sec, epoch time so far: 0:00:03.258439\u001b[0m\n",
      "\u001b[31m[06/18/2019 18:16:36 INFO 140316596369216] #011Training metrics: mean_squared_error: 0.159 mean_absolute_error: 0.294 \u001b[0m\n",
      "\u001b[31m[06/18/2019 18:16:36 INFO 140316596369216] Epoch: 3, batches: 900, num_examples: 57600, 15635.4 samples/sec, epoch time so far: 0:00:03.683953\u001b[0m\n",
      "\u001b[31m[06/18/2019 18:16:36 INFO 140316596369216] #011Training metrics: mean_squared_error: 0.159 mean_absolute_error: 0.294 \u001b[0m\n",
      "\u001b[31m[06/18/2019 18:16:36 INFO 140316596369216] Epoch: 3, batches: 1000, num_examples: 64000, 15655.2 samples/sec, epoch time so far: 0:00:04.088088\u001b[0m\n",
      "\u001b[31m[06/18/2019 18:16:36 INFO 140316596369216] #011Training metrics: mean_squared_error: 0.160 mean_absolute_error: 0.295 \u001b[0m\n",
      "\u001b[31m[06/18/2019 18:16:37 INFO 140316596369216] Epoch: 3, batches: 1100, num_examples: 70400, 15648.7 samples/sec, epoch time so far: 0:00:04.498781\u001b[0m\n",
      "\u001b[31m[06/18/2019 18:16:37 INFO 140316596369216] #011Training metrics: mean_squared_error: 0.161 mean_absolute_error: 0.296 \u001b[0m\n",
      "\u001b[31m[06/18/2019 18:16:37 INFO 140316596369216] Epoch: 3, batches: 1200, num_examples: 76800, 15666.5 samples/sec, epoch time so far: 0:00:04.902190\u001b[0m\n",
      "\u001b[31m[06/18/2019 18:16:37 INFO 140316596369216] #011Training metrics: mean_squared_error: 0.161 mean_absolute_error: 0.297 \u001b[0m\n",
      "\u001b[31m[06/18/2019 18:16:38 INFO 140316596369216] Epoch: 3, batches: 1300, num_examples: 83200, 15675.5 samples/sec, epoch time so far: 0:00:05.307648\u001b[0m\n",
      "\u001b[31m[06/18/2019 18:16:38 INFO 140316596369216] #011Training metrics: mean_squared_error: 0.161 mean_absolute_error: 0.297 \u001b[0m\n",
      "\u001b[31m[06/18/2019 18:16:38 INFO 140316596369216] Epoch: 3, batches: 1400, num_examples: 89600, 15686.0 samples/sec, epoch time so far: 0:00:05.712117\u001b[0m\n",
      "\u001b[31m[06/18/2019 18:16:38 INFO 140316596369216] #011Training metrics: mean_squared_error: 0.161 mean_absolute_error: 0.298 \u001b[0m\n",
      "\u001b[31m[06/18/2019 18:16:38 INFO 140316596369216] **************\u001b[0m\n",
      "\u001b[31m[06/18/2019 18:16:38 INFO 140316596369216] Completed Epoch: 3, time taken: 0:00:05.776758\u001b[0m\n",
      "\u001b[31m[06/18/2019 18:16:38 INFO 140316596369216] Epoch 3 Training metrics:   mean_squared_error: 0.161 mean_absolute_error: 0.298 \u001b[0m\n",
      "\u001b[31m[06/18/2019 18:16:38 INFO 140316596369216] #quality_metric: host=algo-1, epoch=3, train mean_squared_error <loss>=0.161366679011\u001b[0m\n",
      "\u001b[31m[06/18/2019 18:16:38 INFO 140316596369216] Epoch 3 Validation metrics: mean_squared_error: 0.933 mean_absolute_error: 0.757 \u001b[0m\n",
      "\u001b[31m[06/18/2019 18:16:38 INFO 140316596369216] #quality_metric: host=algo-1, epoch=3, validation mean_squared_error <loss>=0.93270644022\u001b[0m\n",
      "\u001b[31m[06/18/2019 18:16:38 INFO 140316596369216] **************\u001b[0m\n",
      "\u001b[31m[06/18/2019 18:16:38 INFO 140316596369216] patience losses: [0.95483556228715016, 0.98438437444132731, 0.94792178474568034]\u001b[0m\n",
      "\u001b[31m[06/18/2019 18:16:38 INFO 140316596369216] min patience losses: 0.947921784746\u001b[0m\n",
      "\u001b[31m[06/18/2019 18:16:38 INFO 140316596369216] current loss: 0.93270644022\u001b[0m\n",
      "\u001b[31m[06/18/2019 18:16:38 INFO 140316596369216] absolute loss difference: 0.0152153445257\u001b[0m\n",
      "\u001b[31m#metrics {\"Metrics\": {\"early_stop.time\": {\"count\": 1, \"max\": 3.6270618438720703, \"sum\": 3.6270618438720703, \"min\": 3.6270618438720703}, \"update.time\": {\"count\": 1, \"max\": 5971.035003662109, \"sum\": 5971.035003662109, \"min\": 5971.035003662109}}, \"EndTime\": 1560881798.715537, \"Dimensions\": {\"Host\": \"algo-1\", \"Operation\": \"training\", \"Algorithm\": \"ObjectToVec\"}, \"StartTime\": 1560881792.731165}\n",
      "\u001b[0m\n",
      "\u001b[31m[06/18/2019 18:16:38 INFO 140316596369216] #progress_metric: host=algo-1, completed 20 % of epochs\u001b[0m\n",
      "\u001b[31m#metrics {\"Metrics\": {\"Max Batches Seen Between Resets\": {\"count\": 1, \"max\": 1416, \"sum\": 1416.0, \"min\": 1416}, \"Number of Batches Since Last Reset\": {\"count\": 1, \"max\": 1416, \"sum\": 1416.0, \"min\": 1416}, \"Number of Records Since Last Reset\": {\"count\": 1, \"max\": 90624, \"sum\": 90624.0, \"min\": 90624}, \"Total Batches Seen\": {\"count\": 1, \"max\": 5664, \"sum\": 5664.0, \"min\": 5664}, \"Total Records Seen\": {\"count\": 1, \"max\": 362496, \"sum\": 362496.0, \"min\": 362496}, \"Max Records Seen Between Resets\": {\"count\": 1, \"max\": 90624, \"sum\": 90624.0, \"min\": 90624}, \"Reset Count\": {\"count\": 1, \"max\": 4, \"sum\": 4.0, \"min\": 4}}, \"EndTime\": 1560881798.715836, \"Dimensions\": {\"Host\": \"algo-1\", \"Meta\": \"training_data_iter\", \"Operation\": \"training\", \"Algorithm\": \"ObjectToVec\", \"epoch\": 3}, \"StartTime\": 1560881792.744473}\n",
      "\u001b[0m\n",
      "\u001b[31m[06/18/2019 18:16:38 INFO 140316596369216] #throughput_metric: host=algo-1, train throughput=15175.9999677 records/second\u001b[0m\n",
      "\u001b[31m[06/18/2019 18:16:39 INFO 140316596369216] Epoch: 4, batches: 100, num_examples: 6400, 15499.4 samples/sec, epoch time so far: 0:00:00.412920\u001b[0m\n",
      "\u001b[31m[06/18/2019 18:16:39 INFO 140316596369216] #011Training metrics: mean_squared_error: 0.119 mean_absolute_error: 0.256 \u001b[0m\n",
      "\u001b[31m[06/18/2019 18:16:39 INFO 140316596369216] Epoch: 4, batches: 200, num_examples: 12800, 15660.2 samples/sec, epoch time so far: 0:00:00.817358\u001b[0m\n",
      "\u001b[31m[06/18/2019 18:16:39 INFO 140316596369216] #011Training metrics: mean_squared_error: 0.112 mean_absolute_error: 0.249 \u001b[0m\n",
      "\u001b[31m[06/18/2019 18:16:39 INFO 140316596369216] Epoch: 4, batches: 300, num_examples: 19200, 15705.9 samples/sec, epoch time so far: 0:00:01.222470\u001b[0m\n",
      "\u001b[31m[06/18/2019 18:16:39 INFO 140316596369216] #011Training metrics: mean_squared_error: 0.109 mean_absolute_error: 0.247 \u001b[0m\n",
      "\u001b[31m[06/18/2019 18:16:40 INFO 140316596369216] Epoch: 4, batches: 400, num_examples: 25600, 15730.4 samples/sec, epoch time so far: 0:00:01.627426\u001b[0m\n",
      "\u001b[31m[06/18/2019 18:16:40 INFO 140316596369216] #011Training metrics: mean_squared_error: 0.107 mean_absolute_error: 0.245 \u001b[0m\n",
      "\u001b[31m[06/18/2019 18:16:40 INFO 140316596369216] Epoch: 4, batches: 500, num_examples: 32000, 15739.8 samples/sec, epoch time so far: 0:00:02.033059\u001b[0m\n",
      "\u001b[31m[06/18/2019 18:16:40 INFO 140316596369216] #011Training metrics: mean_squared_error: 0.106 mean_absolute_error: 0.244 \u001b[0m\n",
      "\u001b[31m[06/18/2019 18:16:41 INFO 140316596369216] Epoch: 4, batches: 600, num_examples: 38400, 15713.8 samples/sec, epoch time so far: 0:00:02.443719\u001b[0m\n",
      "\u001b[31m[06/18/2019 18:16:41 INFO 140316596369216] #011Training metrics: mean_squared_error: 0.105 mean_absolute_error: 0.243 \u001b[0m\n",
      "\u001b[31m[06/18/2019 18:16:41 INFO 140316596369216] Epoch: 4, batches: 700, num_examples: 44800, 15611.7 samples/sec, epoch time so far: 0:00:02.869634\u001b[0m\n",
      "\u001b[31m[06/18/2019 18:16:41 INFO 140316596369216] #011Training metrics: mean_squared_error: 0.104 mean_absolute_error: 0.242 \u001b[0m\n",
      "\u001b[31m[06/18/2019 18:16:42 INFO 140316596369216] Epoch: 4, batches: 800, num_examples: 51200, 15641.5 samples/sec, epoch time so far: 0:00:03.273343\u001b[0m\n",
      "\u001b[31m[06/18/2019 18:16:42 INFO 140316596369216] #011Training metrics: mean_squared_error: 0.103 mean_absolute_error: 0.242 \u001b[0m\n",
      "\u001b[31m[06/18/2019 18:16:42 INFO 140316596369216] Epoch: 4, batches: 900, num_examples: 57600, 15664.5 samples/sec, epoch time so far: 0:00:03.677093\u001b[0m\n",
      "\u001b[31m[06/18/2019 18:16:42 INFO 140316596369216] #011Training metrics: mean_squared_error: 0.103 mean_absolute_error: 0.242 \u001b[0m\n",
      "\u001b[31m[06/18/2019 18:16:42 INFO 140316596369216] Epoch: 4, batches: 1000, num_examples: 64000, 15687.1 samples/sec, epoch time so far: 0:00:04.079778\u001b[0m\n",
      "\u001b[31m[06/18/2019 18:16:42 INFO 140316596369216] #011Training metrics: mean_squared_error: 0.102 mean_absolute_error: 0.242 \u001b[0m\n",
      "\u001b[31m[06/18/2019 18:16:43 INFO 140316596369216] Epoch: 4, batches: 1100, num_examples: 70400, 15696.9 samples/sec, epoch time so far: 0:00:04.484953\u001b[0m\n",
      "\u001b[31m[06/18/2019 18:16:43 INFO 140316596369216] #011Training metrics: mean_squared_error: 0.102 mean_absolute_error: 0.242 \u001b[0m\n",
      "\u001b[31m[06/18/2019 18:16:43 INFO 140316596369216] Epoch: 4, batches: 1200, num_examples: 76800, 15695.0 samples/sec, epoch time so far: 0:00:04.893286\u001b[0m\n",
      "\u001b[31m[06/18/2019 18:16:43 INFO 140316596369216] #011Training metrics: mean_squared_error: 0.102 mean_absolute_error: 0.242 \u001b[0m\n",
      "\u001b[31m[06/18/2019 18:16:44 INFO 140316596369216] Epoch: 4, batches: 1300, num_examples: 83200, 15706.1 samples/sec, epoch time so far: 0:00:05.297290\u001b[0m\n",
      "\u001b[31m[06/18/2019 18:16:44 INFO 140316596369216] #011Training metrics: mean_squared_error: 0.102 mean_absolute_error: 0.242 \u001b[0m\n",
      "\u001b[31m[06/18/2019 18:16:44 INFO 140316596369216] Epoch: 4, batches: 1400, num_examples: 89600, 15704.3 samples/sec, epoch time so far: 0:00:05.705427\u001b[0m\n",
      "\u001b[31m[06/18/2019 18:16:44 INFO 140316596369216] #011Training metrics: mean_squared_error: 0.102 mean_absolute_error: 0.243 \u001b[0m\n",
      "\u001b[31m[06/18/2019 18:16:44 INFO 140316596369216] **************\u001b[0m\n",
      "\u001b[31m[06/18/2019 18:16:44 INFO 140316596369216] Completed Epoch: 4, time taken: 0:00:05.770546\u001b[0m\n",
      "\u001b[31m[06/18/2019 18:16:44 INFO 140316596369216] Epoch 4 Training metrics:   mean_squared_error: 0.102 mean_absolute_error: 0.243 \u001b[0m\n",
      "\u001b[31m[06/18/2019 18:16:44 INFO 140316596369216] #quality_metric: host=algo-1, epoch=4, train mean_squared_error <loss>=0.102386167247\u001b[0m\n",
      "\u001b[31m[06/18/2019 18:16:44 INFO 140316596369216] Epoch 4 Validation metrics: mean_squared_error: 0.942 mean_absolute_error: 0.766 \u001b[0m\n",
      "\u001b[31m[06/18/2019 18:16:44 INFO 140316596369216] #quality_metric: host=algo-1, epoch=4, validation mean_squared_error <loss>=0.942188868652\u001b[0m\n",
      "\u001b[31m[06/18/2019 18:16:44 INFO 140316596369216] **************\u001b[0m\n",
      "\u001b[31m[06/18/2019 18:16:44 INFO 140316596369216] patience losses: [0.98438437444132731, 0.94792178474568034, 0.93270644022000804]\u001b[0m\n",
      "\u001b[31m[06/18/2019 18:16:44 INFO 140316596369216] min patience losses: 0.93270644022\u001b[0m\n",
      "\u001b[31m[06/18/2019 18:16:44 INFO 140316596369216] current loss: 0.942188868652\u001b[0m\n",
      "\u001b[31m[06/18/2019 18:16:44 INFO 140316596369216] absolute loss difference: 0.00948242843151\u001b[0m\n",
      "\u001b[31m[06/18/2019 18:16:44 INFO 140316596369216] Bad epoch: loss has not improved (enough). Bad count:1\u001b[0m\n",
      "\u001b[31m#metrics {\"Metrics\": {\"early_stop.time\": {\"count\": 1, \"max\": 0.45800209045410156, \"sum\": 0.45800209045410156, \"min\": 0.45800209045410156}, \"update.time\": {\"count\": 1, \"max\": 5972.704172134399, \"sum\": 5972.704172134399, \"min\": 5972.704172134399}}, \"EndTime\": 1560881804.711367, \"Dimensions\": {\"Host\": \"algo-1\", \"Operation\": \"training\", \"Algorithm\": \"ObjectToVec\"}, \"StartTime\": 1560881798.715627}\n",
      "\u001b[0m\n",
      "\u001b[31m[06/18/2019 18:16:44 INFO 140316596369216] #progress_metric: host=algo-1, completed 25 % of epochs\u001b[0m\n",
      "\u001b[31m#metrics {\"Metrics\": {\"Max Batches Seen Between Resets\": {\"count\": 1, \"max\": 1416, \"sum\": 1416.0, \"min\": 1416}, \"Number of Batches Since Last Reset\": {\"count\": 1, \"max\": 1416, \"sum\": 1416.0, \"min\": 1416}, \"Number of Records Since Last Reset\": {\"count\": 1, \"max\": 90624, \"sum\": 90624.0, \"min\": 90624}, \"Total Batches Seen\": {\"count\": 1, \"max\": 7080, \"sum\": 7080.0, \"min\": 7080}, \"Total Records Seen\": {\"count\": 1, \"max\": 453120, \"sum\": 453120.0, \"min\": 453120}, \"Max Records Seen Between Resets\": {\"count\": 1, \"max\": 90624, \"sum\": 90624.0, \"min\": 90624}, \"Reset Count\": {\"count\": 1, \"max\": 5, \"sum\": 5.0, \"min\": 5}}, \"EndTime\": 1560881804.711582, \"Dimensions\": {\"Host\": \"algo-1\", \"Meta\": \"training_data_iter\", \"Operation\": \"training\", \"Algorithm\": \"ObjectToVec\", \"epoch\": 4}, \"StartTime\": 1560881798.738639}\n",
      "\u001b[0m\n",
      "\u001b[31m[06/18/2019 18:16:44 INFO 140316596369216] #throughput_metric: host=algo-1, train throughput=15172.1000912 records/second\u001b[0m\n",
      "\u001b[31m[06/18/2019 18:16:45 INFO 140316596369216] Epoch: 5, batches: 100, num_examples: 6400, 15933.2 samples/sec, epoch time so far: 0:00:00.401678\u001b[0m\n",
      "\u001b[31m[06/18/2019 18:16:45 INFO 140316596369216] #011Training metrics: mean_squared_error: 0.096 mean_absolute_error: 0.237 \u001b[0m\n"
     ]
    },
    {
     "name": "stdout",
     "output_type": "stream",
     "text": [
      "\u001b[31m[06/18/2019 18:16:45 INFO 140316596369216] Epoch: 5, batches: 200, num_examples: 12800, 15773.5 samples/sec, epoch time so far: 0:00:00.811487\u001b[0m\n",
      "\u001b[31m[06/18/2019 18:16:45 INFO 140316596369216] #011Training metrics: mean_squared_error: 0.093 mean_absolute_error: 0.233 \u001b[0m\n",
      "\u001b[31m[06/18/2019 18:16:45 INFO 140316596369216] Epoch: 5, batches: 300, num_examples: 19200, 15802.4 samples/sec, epoch time so far: 0:00:01.215004\u001b[0m\n",
      "\u001b[31m[06/18/2019 18:16:45 INFO 140316596369216] #011Training metrics: mean_squared_error: 0.090 mean_absolute_error: 0.230 \u001b[0m\n",
      "\u001b[31m[06/18/2019 18:16:46 INFO 140316596369216] Epoch: 5, batches: 400, num_examples: 25600, 15657.3 samples/sec, epoch time so far: 0:00:01.635024\u001b[0m\n",
      "\u001b[31m[06/18/2019 18:16:46 INFO 140316596369216] #011Training metrics: mean_squared_error: 0.089 mean_absolute_error: 0.228 \u001b[0m\n",
      "\u001b[31m[06/18/2019 18:16:46 INFO 140316596369216] Epoch: 5, batches: 500, num_examples: 32000, 15609.8 samples/sec, epoch time so far: 0:00:02.049997\u001b[0m\n",
      "\u001b[31m[06/18/2019 18:16:46 INFO 140316596369216] #011Training metrics: mean_squared_error: 0.088 mean_absolute_error: 0.228 \u001b[0m\n",
      "\u001b[31m[06/18/2019 18:16:47 INFO 140316596369216] Epoch: 5, batches: 600, num_examples: 38400, 15637.9 samples/sec, epoch time so far: 0:00:02.455571\u001b[0m\n",
      "\u001b[31m[06/18/2019 18:16:47 INFO 140316596369216] #011Training metrics: mean_squared_error: 0.088 mean_absolute_error: 0.228 \u001b[0m\n",
      "\u001b[31m[06/18/2019 18:16:47 INFO 140316596369216] Epoch: 5, batches: 700, num_examples: 44800, 15636.6 samples/sec, epoch time so far: 0:00:02.865074\u001b[0m\n",
      "\u001b[31m[06/18/2019 18:16:47 INFO 140316596369216] #011Training metrics: mean_squared_error: 0.087 mean_absolute_error: 0.227 \u001b[0m\n",
      "\u001b[31m[06/18/2019 18:16:47 INFO 140316596369216] Epoch: 5, batches: 800, num_examples: 51200, 15664.1 samples/sec, epoch time so far: 0:00:03.268619\u001b[0m\n",
      "\u001b[31m[06/18/2019 18:16:47 INFO 140316596369216] #011Training metrics: mean_squared_error: 0.087 mean_absolute_error: 0.227 \u001b[0m\n",
      "\u001b[31m[06/18/2019 18:16:48 INFO 140316596369216] Epoch: 5, batches: 900, num_examples: 57600, 15670.1 samples/sec, epoch time so far: 0:00:03.675798\u001b[0m\n",
      "\u001b[31m[06/18/2019 18:16:48 INFO 140316596369216] #011Training metrics: mean_squared_error: 0.087 mean_absolute_error: 0.227 \u001b[0m\n",
      "\u001b[31m[06/18/2019 18:16:48 INFO 140316596369216] Epoch: 5, batches: 1000, num_examples: 64000, 15684.0 samples/sec, epoch time so far: 0:00:04.080591\u001b[0m\n",
      "\u001b[31m[06/18/2019 18:16:48 INFO 140316596369216] #011Training metrics: mean_squared_error: 0.086 mean_absolute_error: 0.226 \u001b[0m\n",
      "\u001b[31m[06/18/2019 18:16:49 INFO 140316596369216] Epoch: 5, batches: 1100, num_examples: 70400, 15700.1 samples/sec, epoch time so far: 0:00:04.484055\u001b[0m\n",
      "\u001b[31m[06/18/2019 18:16:49 INFO 140316596369216] #011Training metrics: mean_squared_error: 0.086 mean_absolute_error: 0.226 \u001b[0m\n",
      "\u001b[31m[06/18/2019 18:16:49 INFO 140316596369216] Epoch: 5, batches: 1200, num_examples: 76800, 15707.1 samples/sec, epoch time so far: 0:00:04.889506\u001b[0m\n",
      "\u001b[31m[06/18/2019 18:16:49 INFO 140316596369216] #011Training metrics: mean_squared_error: 0.087 mean_absolute_error: 0.227 \u001b[0m\n",
      "\u001b[31m[06/18/2019 18:16:50 INFO 140316596369216] Epoch: 5, batches: 1300, num_examples: 83200, 15682.8 samples/sec, epoch time so far: 0:00:05.305181\u001b[0m\n",
      "\u001b[31m[06/18/2019 18:16:50 INFO 140316596369216] #011Training metrics: mean_squared_error: 0.087 mean_absolute_error: 0.227 \u001b[0m\n",
      "\u001b[31m[06/18/2019 18:16:50 INFO 140316596369216] Epoch: 5, batches: 1400, num_examples: 89600, 15694.0 samples/sec, epoch time so far: 0:00:05.709200\u001b[0m\n",
      "\u001b[31m[06/18/2019 18:16:50 INFO 140316596369216] #011Training metrics: mean_squared_error: 0.087 mean_absolute_error: 0.227 \u001b[0m\n",
      "\u001b[31m[06/18/2019 18:16:50 INFO 140316596369216] **************\u001b[0m\n",
      "\u001b[31m[06/18/2019 18:16:50 INFO 140316596369216] Completed Epoch: 5, time taken: 0:00:05.773801\u001b[0m\n",
      "\u001b[31m[06/18/2019 18:16:50 INFO 140316596369216] Epoch 5 Training metrics:   mean_squared_error: 0.087 mean_absolute_error: 0.227 \u001b[0m\n",
      "\u001b[31m[06/18/2019 18:16:50 INFO 140316596369216] #quality_metric: host=algo-1, epoch=5, train mean_squared_error <loss>=0.0869049039711\u001b[0m\n",
      "\u001b[31m[06/18/2019 18:16:50 INFO 140316596369216] Epoch 5 Validation metrics: mean_squared_error: 0.937 mean_absolute_error: 0.765 \u001b[0m\n",
      "\u001b[31m[06/18/2019 18:16:50 INFO 140316596369216] #quality_metric: host=algo-1, epoch=5, validation mean_squared_error <loss>=0.93684688291\u001b[0m\n",
      "\u001b[31m[06/18/2019 18:16:50 INFO 140316596369216] **************\u001b[0m\n",
      "\u001b[31m[06/18/2019 18:16:50 INFO 140316596369216] patience losses: [0.94792178474568034, 0.93270644022000804, 0.94218886865151896]\u001b[0m\n",
      "\u001b[31m[06/18/2019 18:16:50 INFO 140316596369216] min patience losses: 0.93270644022\u001b[0m\n",
      "\u001b[31m[06/18/2019 18:16:50 INFO 140316596369216] current loss: 0.93684688291\u001b[0m\n",
      "\u001b[31m[06/18/2019 18:16:50 INFO 140316596369216] absolute loss difference: 0.00414044269033\u001b[0m\n",
      "\u001b[31m[06/18/2019 18:16:50 INFO 140316596369216] Bad epoch: loss has not improved (enough). Bad count:2\u001b[0m\n",
      "\u001b[31m#metrics {\"Metrics\": {\"early_stop.time\": {\"count\": 1, \"max\": 0.4711151123046875, \"sum\": 0.4711151123046875, \"min\": 0.4711151123046875}, \"update.time\": {\"count\": 1, \"max\": 5966.684103012085, \"sum\": 5966.684103012085, \"min\": 5966.684103012085}}, \"EndTime\": 1560881810.683507, \"Dimensions\": {\"Host\": \"algo-1\", \"Operation\": \"training\", \"Algorithm\": \"ObjectToVec\"}, \"StartTime\": 1560881804.711437}\n",
      "\u001b[0m\n",
      "\u001b[31m[06/18/2019 18:16:50 INFO 140316596369216] #progress_metric: host=algo-1, completed 30 % of epochs\u001b[0m\n",
      "\u001b[31m#metrics {\"Metrics\": {\"Max Batches Seen Between Resets\": {\"count\": 1, \"max\": 1416, \"sum\": 1416.0, \"min\": 1416}, \"Number of Batches Since Last Reset\": {\"count\": 1, \"max\": 1416, \"sum\": 1416.0, \"min\": 1416}, \"Number of Records Since Last Reset\": {\"count\": 1, \"max\": 90624, \"sum\": 90624.0, \"min\": 90624}, \"Total Batches Seen\": {\"count\": 1, \"max\": 8496, \"sum\": 8496.0, \"min\": 8496}, \"Total Records Seen\": {\"count\": 1, \"max\": 543744, \"sum\": 543744.0, \"min\": 543744}, \"Max Records Seen Between Resets\": {\"count\": 1, \"max\": 90624, \"sum\": 90624.0, \"min\": 90624}, \"Reset Count\": {\"count\": 1, \"max\": 6, \"sum\": 6.0, \"min\": 6}}, \"EndTime\": 1560881810.683793, \"Dimensions\": {\"Host\": \"algo-1\", \"Meta\": \"training_data_iter\", \"Operation\": \"training\", \"Algorithm\": \"ObjectToVec\", \"epoch\": 5}, \"StartTime\": 1560881804.716801}\n",
      "\u001b[0m\n",
      "\u001b[31m[06/18/2019 18:16:50 INFO 140316596369216] #throughput_metric: host=algo-1, train throughput=15187.2261711 records/second\u001b[0m\n",
      "\u001b[31m[06/18/2019 18:16:51 INFO 140316596369216] Epoch: 6, batches: 100, num_examples: 6400, 15959.5 samples/sec, epoch time so far: 0:00:00.401015\u001b[0m\n",
      "\u001b[31m[06/18/2019 18:16:51 INFO 140316596369216] #011Training metrics: mean_squared_error: 0.091 mean_absolute_error: 0.233 \u001b[0m\n",
      "\u001b[31m[06/18/2019 18:16:51 INFO 140316596369216] Epoch: 6, batches: 200, num_examples: 12800, 15505.1 samples/sec, epoch time so far: 0:00:00.825534\u001b[0m\n",
      "\u001b[31m[06/18/2019 18:16:51 INFO 140316596369216] #011Training metrics: mean_squared_error: 0.089 mean_absolute_error: 0.230 \u001b[0m\n",
      "\u001b[31m[06/18/2019 18:16:51 INFO 140316596369216] Epoch: 6, batches: 300, num_examples: 19200, 15553.8 samples/sec, epoch time so far: 0:00:01.234429\u001b[0m\n",
      "\u001b[31m[06/18/2019 18:16:51 INFO 140316596369216] #011Training metrics: mean_squared_error: 0.088 mean_absolute_error: 0.230 \u001b[0m\n",
      "\u001b[31m[06/18/2019 18:16:52 INFO 140316596369216] Epoch: 6, batches: 400, num_examples: 25600, 15578.0 samples/sec, epoch time so far: 0:00:01.643340\u001b[0m\n",
      "\u001b[31m[06/18/2019 18:16:52 INFO 140316596369216] #011Training metrics: mean_squared_error: 0.087 mean_absolute_error: 0.228 \u001b[0m\n",
      "\u001b[31m[06/18/2019 18:16:52 INFO 140316596369216] Epoch: 6, batches: 500, num_examples: 32000, 15631.8 samples/sec, epoch time so far: 0:00:02.047108\u001b[0m\n",
      "\u001b[31m[06/18/2019 18:16:52 INFO 140316596369216] #011Training metrics: mean_squared_error: 0.086 mean_absolute_error: 0.227 \u001b[0m\n",
      "\u001b[31m[06/18/2019 18:16:53 INFO 140316596369216] Epoch: 6, batches: 600, num_examples: 38400, 15671.5 samples/sec, epoch time so far: 0:00:02.450310\u001b[0m\n",
      "\u001b[31m[06/18/2019 18:16:53 INFO 140316596369216] #011Training metrics: mean_squared_error: 0.086 mean_absolute_error: 0.226 \u001b[0m\n",
      "\u001b[31m[06/18/2019 18:16:53 INFO 140316596369216] Epoch: 6, batches: 700, num_examples: 44800, 15695.5 samples/sec, epoch time so far: 0:00:02.854316\u001b[0m\n",
      "\u001b[31m[06/18/2019 18:16:53 INFO 140316596369216] #011Training metrics: mean_squared_error: 0.085 mean_absolute_error: 0.226 \u001b[0m\n",
      "\u001b[31m[06/18/2019 18:16:53 INFO 140316596369216] Epoch: 6, batches: 800, num_examples: 51200, 15690.1 samples/sec, epoch time so far: 0:00:03.263211\u001b[0m\n",
      "\u001b[31m[06/18/2019 18:16:53 INFO 140316596369216] #011Training metrics: mean_squared_error: 0.085 mean_absolute_error: 0.225 \u001b[0m\n",
      "\u001b[31m[06/18/2019 18:16:54 INFO 140316596369216] Epoch: 6, batches: 900, num_examples: 57600, 15712.9 samples/sec, epoch time so far: 0:00:03.665787\u001b[0m\n",
      "\u001b[31m[06/18/2019 18:16:54 INFO 140316596369216] #011Training metrics: mean_squared_error: 0.085 mean_absolute_error: 0.225 \u001b[0m\n",
      "\u001b[31m[06/18/2019 18:16:54 INFO 140316596369216] Epoch: 6, batches: 1000, num_examples: 64000, 15723.0 samples/sec, epoch time so far: 0:00:04.070473\u001b[0m\n",
      "\u001b[31m[06/18/2019 18:16:54 INFO 140316596369216] #011Training metrics: mean_squared_error: 0.085 mean_absolute_error: 0.225 \u001b[0m\n",
      "\u001b[31m[06/18/2019 18:16:55 INFO 140316596369216] Epoch: 6, batches: 1100, num_examples: 70400, 15727.8 samples/sec, epoch time so far: 0:00:04.476145\u001b[0m\n",
      "\u001b[31m[06/18/2019 18:16:55 INFO 140316596369216] #011Training metrics: mean_squared_error: 0.085 mean_absolute_error: 0.225 \u001b[0m\n"
     ]
    },
    {
     "name": "stdout",
     "output_type": "stream",
     "text": [
      "\u001b[31m[06/18/2019 18:16:55 INFO 140316596369216] Epoch: 6, batches: 1200, num_examples: 76800, 15738.0 samples/sec, epoch time so far: 0:00:04.879913\u001b[0m\n",
      "\u001b[31m[06/18/2019 18:16:55 INFO 140316596369216] #011Training metrics: mean_squared_error: 0.085 mean_absolute_error: 0.226 \u001b[0m\n",
      "\u001b[31m[06/18/2019 18:16:55 INFO 140316596369216] Epoch: 6, batches: 1300, num_examples: 83200, 15734.1 samples/sec, epoch time so far: 0:00:05.287876\u001b[0m\n",
      "\u001b[31m[06/18/2019 18:16:55 INFO 140316596369216] #011Training metrics: mean_squared_error: 0.085 mean_absolute_error: 0.226 \u001b[0m\n",
      "\u001b[31m[06/18/2019 18:16:56 INFO 140316596369216] Epoch: 6, batches: 1400, num_examples: 89600, 15740.8 samples/sec, epoch time so far: 0:00:05.692220\u001b[0m\n",
      "\u001b[31m[06/18/2019 18:16:56 INFO 140316596369216] #011Training metrics: mean_squared_error: 0.085 mean_absolute_error: 0.226 \u001b[0m\n",
      "\u001b[31m[06/18/2019 18:16:56 INFO 140316596369216] **************\u001b[0m\n",
      "\u001b[31m[06/18/2019 18:16:56 INFO 140316596369216] Completed Epoch: 6, time taken: 0:00:05.774280\u001b[0m\n",
      "\u001b[31m[06/18/2019 18:16:56 INFO 140316596369216] Epoch 6 Training metrics:   mean_squared_error: 0.085 mean_absolute_error: 0.226 \u001b[0m\n",
      "\u001b[31m[06/18/2019 18:16:56 INFO 140316596369216] #quality_metric: host=algo-1, epoch=6, train mean_squared_error <loss>=0.085368798609\u001b[0m\n",
      "\u001b[31m[06/18/2019 18:16:56 INFO 140316596369216] Epoch 6 Validation metrics: mean_squared_error: 0.921 mean_absolute_error: 0.754 \u001b[0m\n",
      "\u001b[31m[06/18/2019 18:16:56 INFO 140316596369216] #quality_metric: host=algo-1, epoch=6, validation mean_squared_error <loss>=0.920989791082\u001b[0m\n",
      "\u001b[31m[06/18/2019 18:16:56 INFO 140316596369216] **************\u001b[0m\n",
      "\u001b[31m[06/18/2019 18:16:56 INFO 140316596369216] patience losses: [0.93270644022000804, 0.94218886865151896, 0.93684688291034179]\u001b[0m\n",
      "\u001b[31m[06/18/2019 18:16:56 INFO 140316596369216] min patience losses: 0.93270644022\u001b[0m\n",
      "\u001b[31m[06/18/2019 18:16:56 INFO 140316596369216] current loss: 0.920989791082\u001b[0m\n",
      "\u001b[31m[06/18/2019 18:16:56 INFO 140316596369216] absolute loss difference: 0.0117166491376\u001b[0m\n",
      "\u001b[31m#metrics {\"Metrics\": {\"early_stop.time\": {\"count\": 1, \"max\": 2.7179718017578125, \"sum\": 2.7179718017578125, \"min\": 2.7179718017578125}, \"update.time\": {\"count\": 1, \"max\": 5969.0539836883545, \"sum\": 5969.0539836883545, \"min\": 5969.0539836883545}}, \"EndTime\": 1560881816.65801, \"Dimensions\": {\"Host\": \"algo-1\", \"Operation\": \"training\", \"Algorithm\": \"ObjectToVec\"}, \"StartTime\": 1560881810.683589}\n",
      "\u001b[0m\n",
      "\u001b[31m[06/18/2019 18:16:56 INFO 140316596369216] #progress_metric: host=algo-1, completed 35 % of epochs\u001b[0m\n",
      "\u001b[31m#metrics {\"Metrics\": {\"Max Batches Seen Between Resets\": {\"count\": 1, \"max\": 1416, \"sum\": 1416.0, \"min\": 1416}, \"Number of Batches Since Last Reset\": {\"count\": 1, \"max\": 1416, \"sum\": 1416.0, \"min\": 1416}, \"Number of Records Since Last Reset\": {\"count\": 1, \"max\": 90624, \"sum\": 90624.0, \"min\": 90624}, \"Total Batches Seen\": {\"count\": 1, \"max\": 9912, \"sum\": 9912.0, \"min\": 9912}, \"Total Records Seen\": {\"count\": 1, \"max\": 634368, \"sum\": 634368.0, \"min\": 634368}, \"Max Records Seen Between Resets\": {\"count\": 1, \"max\": 90624, \"sum\": 90624.0, \"min\": 90624}, \"Reset Count\": {\"count\": 1, \"max\": 7, \"sum\": 7.0, \"min\": 7}}, \"EndTime\": 1560881816.658284, \"Dimensions\": {\"Host\": \"algo-1\", \"Meta\": \"training_data_iter\", \"Operation\": \"training\", \"Algorithm\": \"ObjectToVec\", \"epoch\": 6}, \"StartTime\": 1560881810.688933}\n",
      "\u001b[0m\n",
      "\u001b[31m[06/18/2019 18:16:56 INFO 140316596369216] #throughput_metric: host=algo-1, train throughput=15181.1968596 records/second\u001b[0m\n",
      "\u001b[31m[06/18/2019 18:16:57 INFO 140316596369216] Epoch: 7, batches: 100, num_examples: 6400, 15913.2 samples/sec, epoch time so far: 0:00:00.402182\u001b[0m\n",
      "\u001b[31m[06/18/2019 18:16:57 INFO 140316596369216] #011Training metrics: mean_squared_error: 0.082 mean_absolute_error: 0.220 \u001b[0m\n",
      "\u001b[31m[06/18/2019 18:16:57 INFO 140316596369216] Epoch: 7, batches: 200, num_examples: 12800, 15855.5 samples/sec, epoch time so far: 0:00:00.807289\u001b[0m\n",
      "\u001b[31m[06/18/2019 18:16:57 INFO 140316596369216] #011Training metrics: mean_squared_error: 0.080 mean_absolute_error: 0.218 \u001b[0m\n",
      "\u001b[31m[06/18/2019 18:16:57 INFO 140316596369216] Epoch: 7, batches: 300, num_examples: 19200, 15869.8 samples/sec, epoch time so far: 0:00:01.209843\u001b[0m\n",
      "\u001b[31m[06/18/2019 18:16:57 INFO 140316596369216] #011Training metrics: mean_squared_error: 0.079 mean_absolute_error: 0.217 \u001b[0m\n",
      "\u001b[31m[06/18/2019 18:16:58 INFO 140316596369216] Epoch: 7, batches: 400, num_examples: 25600, 15825.0 samples/sec, epoch time so far: 0:00:01.617689\u001b[0m\n",
      "\u001b[31m[06/18/2019 18:16:58 INFO 140316596369216] #011Training metrics: mean_squared_error: 0.079 mean_absolute_error: 0.217 \u001b[0m\n",
      "\u001b[31m[06/18/2019 18:16:58 INFO 140316596369216] Epoch: 7, batches: 500, num_examples: 32000, 15829.8 samples/sec, epoch time so far: 0:00:02.021500\u001b[0m\n",
      "\u001b[31m[06/18/2019 18:16:58 INFO 140316596369216] #011Training metrics: mean_squared_error: 0.078 mean_absolute_error: 0.216 \u001b[0m\n",
      "\u001b[31m[06/18/2019 18:16:59 INFO 140316596369216] Epoch: 7, batches: 600, num_examples: 38400, 15826.1 samples/sec, epoch time so far: 0:00:02.426376\u001b[0m\n",
      "\u001b[31m[06/18/2019 18:16:59 INFO 140316596369216] #011Training metrics: mean_squared_error: 0.078 mean_absolute_error: 0.215 \u001b[0m\n",
      "\u001b[31m[06/18/2019 18:16:59 INFO 140316596369216] Epoch: 7, batches: 700, num_examples: 44800, 15811.4 samples/sec, epoch time so far: 0:00:02.833398\u001b[0m\n",
      "\u001b[31m[06/18/2019 18:16:59 INFO 140316596369216] #011Training metrics: mean_squared_error: 0.078 mean_absolute_error: 0.215 \u001b[0m\n",
      "\u001b[31m[06/18/2019 18:16:59 INFO 140316596369216] Epoch: 7, batches: 800, num_examples: 51200, 15819.8 samples/sec, epoch time so far: 0:00:03.236456\u001b[0m\n",
      "\u001b[31m[06/18/2019 18:16:59 INFO 140316596369216] #011Training metrics: mean_squared_error: 0.078 mean_absolute_error: 0.215 \u001b[0m\n",
      "\u001b[31m[06/18/2019 18:17:00 INFO 140316596369216] Epoch: 7, batches: 900, num_examples: 57600, 15785.2 samples/sec, epoch time so far: 0:00:03.648990\u001b[0m\n",
      "\u001b[31m[06/18/2019 18:17:00 INFO 140316596369216] #011Training metrics: mean_squared_error: 0.078 mean_absolute_error: 0.215 \u001b[0m\n",
      "\u001b[31m[06/18/2019 18:17:00 INFO 140316596369216] Epoch: 7, batches: 1000, num_examples: 64000, 15796.3 samples/sec, epoch time so far: 0:00:04.051594\u001b[0m\n",
      "\u001b[31m[06/18/2019 18:17:00 INFO 140316596369216] #011Training metrics: mean_squared_error: 0.078 mean_absolute_error: 0.215 \u001b[0m\n",
      "\u001b[31m[06/18/2019 18:17:01 INFO 140316596369216] Epoch: 7, batches: 1100, num_examples: 70400, 15800.2 samples/sec, epoch time so far: 0:00:04.455653\u001b[0m\n",
      "\u001b[31m[06/18/2019 18:17:01 INFO 140316596369216] #011Training metrics: mean_squared_error: 0.077 mean_absolute_error: 0.214 \u001b[0m\n",
      "\u001b[31m[06/18/2019 18:17:01 INFO 140316596369216] Epoch: 7, batches: 1200, num_examples: 76800, 15765.8 samples/sec, epoch time so far: 0:00:04.871307\u001b[0m\n",
      "\u001b[31m[06/18/2019 18:17:01 INFO 140316596369216] #011Training metrics: mean_squared_error: 0.077 mean_absolute_error: 0.214 \u001b[0m\n",
      "\u001b[31m[06/18/2019 18:17:01 INFO 140316596369216] Epoch: 7, batches: 1300, num_examples: 83200, 15767.5 samples/sec, epoch time so far: 0:00:05.276665\u001b[0m\n",
      "\u001b[31m[06/18/2019 18:17:01 INFO 140316596369216] #011Training metrics: mean_squared_error: 0.077 mean_absolute_error: 0.214 \u001b[0m\n",
      "\u001b[31m[06/18/2019 18:17:02 INFO 140316596369216] Epoch: 7, batches: 1400, num_examples: 89600, 15754.2 samples/sec, epoch time so far: 0:00:05.687359\u001b[0m\n",
      "\u001b[31m[06/18/2019 18:17:02 INFO 140316596369216] #011Training metrics: mean_squared_error: 0.077 mean_absolute_error: 0.214 \u001b[0m\n",
      "\u001b[31m[06/18/2019 18:17:02 INFO 140316596369216] **************\u001b[0m\n",
      "\u001b[31m[06/18/2019 18:17:02 INFO 140316596369216] Completed Epoch: 7, time taken: 0:00:05.752094\u001b[0m\n",
      "\u001b[31m[06/18/2019 18:17:02 INFO 140316596369216] Epoch 7 Training metrics:   mean_squared_error: 0.077 mean_absolute_error: 0.214 \u001b[0m\n",
      "\u001b[31m[06/18/2019 18:17:02 INFO 140316596369216] #quality_metric: host=algo-1, epoch=7, train mean_squared_error <loss>=0.0770170786602\u001b[0m\n",
      "\u001b[31m[06/18/2019 18:17:02 INFO 140316596369216] Epoch 7 Validation metrics: mean_squared_error: 0.919 mean_absolute_error: 0.756 \u001b[0m\n",
      "\u001b[31m[06/18/2019 18:17:02 INFO 140316596369216] #quality_metric: host=algo-1, epoch=7, validation mean_squared_error <loss>=0.91947226911\u001b[0m\n",
      "\u001b[31m[06/18/2019 18:17:02 INFO 140316596369216] **************\u001b[0m\n",
      "\u001b[31m[06/18/2019 18:17:02 INFO 140316596369216] patience losses: [0.94218886865151896, 0.93684688291034179, 0.92098979108236934]\u001b[0m\n",
      "\u001b[31m[06/18/2019 18:17:02 INFO 140316596369216] min patience losses: 0.920989791082\u001b[0m\n",
      "\u001b[31m[06/18/2019 18:17:02 INFO 140316596369216] current loss: 0.91947226911\u001b[0m\n",
      "\u001b[31m[06/18/2019 18:17:02 INFO 140316596369216] absolute loss difference: 0.00151752197259\u001b[0m\n",
      "\u001b[31m[06/18/2019 18:17:02 INFO 140316596369216] Bad epoch: loss has not improved (enough). Bad count:1\u001b[0m\n",
      "\u001b[31m#metrics {\"Metrics\": {\"early_stop.time\": {\"count\": 1, \"max\": 2.9840469360351562, \"sum\": 2.9840469360351562, \"min\": 2.9840469360351562}, \"update.time\": {\"count\": 1, \"max\": 5947.278022766113, \"sum\": 5947.278022766113, \"min\": 5947.278022766113}}, \"EndTime\": 1560881822.628774, \"Dimensions\": {\"Host\": \"algo-1\", \"Operation\": \"training\", \"Algorithm\": \"ObjectToVec\"}, \"StartTime\": 1560881816.658101}\n",
      "\u001b[0m\n",
      "\u001b[31m[06/18/2019 18:17:02 INFO 140316596369216] #progress_metric: host=algo-1, completed 40 % of epochs\u001b[0m\n",
      "\u001b[31m#metrics {\"Metrics\": {\"Max Batches Seen Between Resets\": {\"count\": 1, \"max\": 1416, \"sum\": 1416.0, \"min\": 1416}, \"Number of Batches Since Last Reset\": {\"count\": 1, \"max\": 1416, \"sum\": 1416.0, \"min\": 1416}, \"Number of Records Since Last Reset\": {\"count\": 1, \"max\": 90624, \"sum\": 90624.0, \"min\": 90624}, \"Total Batches Seen\": {\"count\": 1, \"max\": 11328, \"sum\": 11328.0, \"min\": 11328}, \"Total Records Seen\": {\"count\": 1, \"max\": 724992, \"sum\": 724992.0, \"min\": 724992}, \"Max Records Seen Between Resets\": {\"count\": 1, \"max\": 90624, \"sum\": 90624.0, \"min\": 90624}, \"Reset Count\": {\"count\": 1, \"max\": 8, \"sum\": 8.0, \"min\": 8}}, \"EndTime\": 1560881822.629033, \"Dimensions\": {\"Host\": \"algo-1\", \"Meta\": \"training_data_iter\", \"Operation\": \"training\", \"Algorithm\": \"ObjectToVec\", \"epoch\": 7}, \"StartTime\": 1560881816.68147}\n",
      "\u001b[0m\n",
      "\u001b[31m[06/18/2019 18:17:02 INFO 140316596369216] #throughput_metric: host=algo-1, train throughput=15236.7964575 records/second\u001b[0m\n",
      "\u001b[31m[06/18/2019 18:17:03 INFO 140316596369216] Epoch: 8, batches: 100, num_examples: 6400, 15933.8 samples/sec, epoch time so far: 0:00:00.401661\u001b[0m\n",
      "\u001b[31m[06/18/2019 18:17:03 INFO 140316596369216] #011Training metrics: mean_squared_error: 0.068 mean_absolute_error: 0.200 \u001b[0m\n",
      "\u001b[31m[06/18/2019 18:17:03 INFO 140316596369216] Epoch: 8, batches: 200, num_examples: 12800, 15850.6 samples/sec, epoch time so far: 0:00:00.807540\u001b[0m\n",
      "\u001b[31m[06/18/2019 18:17:03 INFO 140316596369216] #011Training metrics: mean_squared_error: 0.067 mean_absolute_error: 0.198 \u001b[0m\n",
      "\u001b[31m[06/18/2019 18:17:03 INFO 140316596369216] Epoch: 8, batches: 300, num_examples: 19200, 15865.6 samples/sec, epoch time so far: 0:00:01.210166\u001b[0m\n",
      "\u001b[31m[06/18/2019 18:17:03 INFO 140316596369216] #011Training metrics: mean_squared_error: 0.067 mean_absolute_error: 0.198 \u001b[0m\n",
      "\u001b[31m[06/18/2019 18:17:04 INFO 140316596369216] Epoch: 8, batches: 400, num_examples: 25600, 15761.3 samples/sec, epoch time so far: 0:00:01.624228\u001b[0m\n",
      "\u001b[31m[06/18/2019 18:17:04 INFO 140316596369216] #011Training metrics: mean_squared_error: 0.066 mean_absolute_error: 0.197 \u001b[0m\n",
      "\u001b[31m[06/18/2019 18:17:04 INFO 140316596369216] Epoch: 8, batches: 500, num_examples: 32000, 15732.9 samples/sec, epoch time so far: 0:00:02.033948\u001b[0m\n",
      "\u001b[31m[06/18/2019 18:17:04 INFO 140316596369216] #011Training metrics: mean_squared_error: 0.066 mean_absolute_error: 0.196 \u001b[0m\n",
      "\u001b[31m[06/18/2019 18:17:05 INFO 140316596369216] Epoch: 8, batches: 600, num_examples: 38400, 15763.4 samples/sec, epoch time so far: 0:00:02.436030\u001b[0m\n",
      "\u001b[31m[06/18/2019 18:17:05 INFO 140316596369216] #011Training metrics: mean_squared_error: 0.065 mean_absolute_error: 0.196 \u001b[0m\n"
     ]
    },
    {
     "name": "stdout",
     "output_type": "stream",
     "text": [
      "\u001b[31m[06/18/2019 18:17:05 INFO 140316596369216] Epoch: 8, batches: 700, num_examples: 44800, 15762.7 samples/sec, epoch time so far: 0:00:02.842161\u001b[0m\n",
      "\u001b[31m[06/18/2019 18:17:05 INFO 140316596369216] #011Training metrics: mean_squared_error: 0.065 mean_absolute_error: 0.195 \u001b[0m\n",
      "\u001b[31m[06/18/2019 18:17:05 INFO 140316596369216] Epoch: 8, batches: 800, num_examples: 51200, 15782.4 samples/sec, epoch time so far: 0:00:03.244116\u001b[0m\n",
      "\u001b[31m[06/18/2019 18:17:05 INFO 140316596369216] #011Training metrics: mean_squared_error: 0.064 mean_absolute_error: 0.194 \u001b[0m\n",
      "\u001b[31m[06/18/2019 18:17:06 INFO 140316596369216] Epoch: 8, batches: 900, num_examples: 57600, 15786.5 samples/sec, epoch time so far: 0:00:03.648698\u001b[0m\n",
      "\u001b[31m[06/18/2019 18:17:06 INFO 140316596369216] #011Training metrics: mean_squared_error: 0.064 mean_absolute_error: 0.194 \u001b[0m\n",
      "\u001b[31m[06/18/2019 18:17:06 INFO 140316596369216] Epoch: 8, batches: 1000, num_examples: 64000, 15687.2 samples/sec, epoch time so far: 0:00:04.079755\u001b[0m\n",
      "\u001b[31m[06/18/2019 18:17:06 INFO 140316596369216] #011Training metrics: mean_squared_error: 0.064 mean_absolute_error: 0.194 \u001b[0m\n",
      "\u001b[31m[06/18/2019 18:17:07 INFO 140316596369216] Epoch: 8, batches: 1100, num_examples: 70400, 15700.8 samples/sec, epoch time so far: 0:00:04.483838\u001b[0m\n",
      "\u001b[31m[06/18/2019 18:17:07 INFO 140316596369216] #011Training metrics: mean_squared_error: 0.064 mean_absolute_error: 0.193 \u001b[0m\n",
      "\u001b[31m[06/18/2019 18:17:07 INFO 140316596369216] Epoch: 8, batches: 1200, num_examples: 76800, 15707.3 samples/sec, epoch time so far: 0:00:04.889455\u001b[0m\n",
      "\u001b[31m[06/18/2019 18:17:07 INFO 140316596369216] #011Training metrics: mean_squared_error: 0.064 mean_absolute_error: 0.194 \u001b[0m\n",
      "\u001b[31m[06/18/2019 18:17:07 INFO 140316596369216] Epoch: 8, batches: 1300, num_examples: 83200, 15719.9 samples/sec, epoch time so far: 0:00:05.292647\u001b[0m\n",
      "\u001b[31m[06/18/2019 18:17:07 INFO 140316596369216] #011Training metrics: mean_squared_error: 0.064 mean_absolute_error: 0.193 \u001b[0m\n",
      "\u001b[31m[06/18/2019 18:17:08 INFO 140316596369216] Epoch: 8, batches: 1400, num_examples: 89600, 15729.1 samples/sec, epoch time so far: 0:00:05.696450\u001b[0m\n",
      "\u001b[31m[06/18/2019 18:17:08 INFO 140316596369216] #011Training metrics: mean_squared_error: 0.064 mean_absolute_error: 0.194 \u001b[0m\n",
      "\u001b[31m[06/18/2019 18:17:08 INFO 140316596369216] **************\u001b[0m\n",
      "\u001b[31m[06/18/2019 18:17:08 INFO 140316596369216] Completed Epoch: 8, time taken: 0:00:05.761240\u001b[0m\n",
      "\u001b[31m[06/18/2019 18:17:08 INFO 140316596369216] Epoch 8 Training metrics:   mean_squared_error: 0.064 mean_absolute_error: 0.194 \u001b[0m\n",
      "\u001b[31m[06/18/2019 18:17:08 INFO 140316596369216] #quality_metric: host=algo-1, epoch=8, train mean_squared_error <loss>=0.0640797420815\u001b[0m\n",
      "\u001b[31m[06/18/2019 18:17:08 INFO 140316596369216] Epoch 8 Validation metrics: mean_squared_error: 0.922 mean_absolute_error: 0.755 \u001b[0m\n",
      "\u001b[31m[06/18/2019 18:17:08 INFO 140316596369216] #quality_metric: host=algo-1, epoch=8, validation mean_squared_error <loss>=0.922284680444\u001b[0m\n",
      "\u001b[31m[06/18/2019 18:17:08 INFO 140316596369216] **************\u001b[0m\n",
      "\u001b[31m[06/18/2019 18:17:08 INFO 140316596369216] patience losses: [0.93684688291034179, 0.92098979108236934, 0.91947226910977753]\u001b[0m\n",
      "\u001b[31m[06/18/2019 18:17:08 INFO 140316596369216] min patience losses: 0.91947226911\u001b[0m\n",
      "\u001b[31m[06/18/2019 18:17:08 INFO 140316596369216] current loss: 0.922284680444\u001b[0m\n",
      "\u001b[31m[06/18/2019 18:17:08 INFO 140316596369216] absolute loss difference: 0.00281241133406\u001b[0m\n",
      "\u001b[31m[06/18/2019 18:17:08 INFO 140316596369216] Bad epoch: loss has not improved (enough). Bad count:2\u001b[0m\n",
      "\u001b[31m#metrics {\"Metrics\": {\"early_stop.time\": {\"count\": 1, \"max\": 0.4699230194091797, \"sum\": 0.4699230194091797, \"min\": 0.4699230194091797}, \"update.time\": {\"count\": 1, \"max\": 5967.741012573242, \"sum\": 5967.741012573242, \"min\": 5967.741012573242}}, \"EndTime\": 1560881828.620153, \"Dimensions\": {\"Host\": \"algo-1\", \"Operation\": \"training\", \"Algorithm\": \"ObjectToVec\"}, \"StartTime\": 1560881822.628868}\n",
      "\u001b[0m\n",
      "\u001b[31m[06/18/2019 18:17:08 INFO 140316596369216] #progress_metric: host=algo-1, completed 45 % of epochs\u001b[0m\n",
      "\u001b[31m#metrics {\"Metrics\": {\"Max Batches Seen Between Resets\": {\"count\": 1, \"max\": 1416, \"sum\": 1416.0, \"min\": 1416}, \"Number of Batches Since Last Reset\": {\"count\": 1, \"max\": 1416, \"sum\": 1416.0, \"min\": 1416}, \"Number of Records Since Last Reset\": {\"count\": 1, \"max\": 90624, \"sum\": 90624.0, \"min\": 90624}, \"Total Batches Seen\": {\"count\": 1, \"max\": 12744, \"sum\": 12744.0, \"min\": 12744}, \"Total Records Seen\": {\"count\": 1, \"max\": 815616, \"sum\": 815616.0, \"min\": 815616}, \"Max Records Seen Between Resets\": {\"count\": 1, \"max\": 90624, \"sum\": 90624.0, \"min\": 90624}, \"Reset Count\": {\"count\": 1, \"max\": 9, \"sum\": 9.0, \"min\": 9}}, \"EndTime\": 1560881828.620408, \"Dimensions\": {\"Host\": \"algo-1\", \"Meta\": \"training_data_iter\", \"Operation\": \"training\", \"Algorithm\": \"ObjectToVec\", \"epoch\": 8}, \"StartTime\": 1560881822.652389}\n",
      "\u001b[0m\n",
      "\u001b[31m[06/18/2019 18:17:08 INFO 140316596369216] #throughput_metric: host=algo-1, train throughput=15184.5542435 records/second\u001b[0m\n",
      "\u001b[31m[06/18/2019 18:17:09 INFO 140316596369216] Epoch: 9, batches: 100, num_examples: 6400, 15926.2 samples/sec, epoch time so far: 0:00:00.401854\u001b[0m\n",
      "\u001b[31m[06/18/2019 18:17:09 INFO 140316596369216] #011Training metrics: mean_squared_error: 0.062 mean_absolute_error: 0.189 \u001b[0m\n",
      "\u001b[31m[06/18/2019 18:17:09 INFO 140316596369216] Epoch: 9, batches: 200, num_examples: 12800, 15878.1 samples/sec, epoch time so far: 0:00:00.806140\u001b[0m\n",
      "\u001b[31m[06/18/2019 18:17:09 INFO 140316596369216] #011Training metrics: mean_squared_error: 0.059 mean_absolute_error: 0.185 \u001b[0m\n",
      "\u001b[31m[06/18/2019 18:17:09 INFO 140316596369216] Epoch: 9, batches: 300, num_examples: 19200, 15889.0 samples/sec, epoch time so far: 0:00:01.208386\u001b[0m\n",
      "\u001b[31m[06/18/2019 18:17:09 INFO 140316596369216] #011Training metrics: mean_squared_error: 0.058 mean_absolute_error: 0.183 \u001b[0m\n",
      "\u001b[31m[06/18/2019 18:17:10 INFO 140316596369216] Epoch: 9, batches: 400, num_examples: 25600, 15861.0 samples/sec, epoch time so far: 0:00:01.614023\u001b[0m\n",
      "\u001b[31m[06/18/2019 18:17:10 INFO 140316596369216] #011Training metrics: mean_squared_error: 0.057 mean_absolute_error: 0.182 \u001b[0m\n",
      "\u001b[31m[06/18/2019 18:17:10 INFO 140316596369216] Epoch: 9, batches: 500, num_examples: 32000, 15803.0 samples/sec, epoch time so far: 0:00:02.024926\u001b[0m\n",
      "\u001b[31m[06/18/2019 18:17:10 INFO 140316596369216] #011Training metrics: mean_squared_error: 0.057 mean_absolute_error: 0.181 \u001b[0m\n",
      "\u001b[31m[06/18/2019 18:17:11 INFO 140316596369216] Epoch: 9, batches: 600, num_examples: 38400, 15817.9 samples/sec, epoch time so far: 0:00:02.427636\u001b[0m\n",
      "\u001b[31m[06/18/2019 18:17:11 INFO 140316596369216] #011Training metrics: mean_squared_error: 0.056 mean_absolute_error: 0.180 \u001b[0m\n",
      "\u001b[31m[06/18/2019 18:17:11 INFO 140316596369216] Epoch: 9, batches: 700, num_examples: 44800, 15803.8 samples/sec, epoch time so far: 0:00:02.834760\u001b[0m\n",
      "\u001b[31m[06/18/2019 18:17:11 INFO 140316596369216] #011Training metrics: mean_squared_error: 0.056 mean_absolute_error: 0.180 \u001b[0m\n",
      "\u001b[31m[06/18/2019 18:17:11 INFO 140316596369216] Epoch: 9, batches: 800, num_examples: 51200, 15744.6 samples/sec, epoch time so far: 0:00:03.251904\u001b[0m\n",
      "\u001b[31m[06/18/2019 18:17:11 INFO 140316596369216] #011Training metrics: mean_squared_error: 0.056 mean_absolute_error: 0.180 \u001b[0m\n",
      "\u001b[31m[06/18/2019 18:17:12 INFO 140316596369216] Epoch: 9, batches: 900, num_examples: 57600, 15758.5 samples/sec, epoch time so far: 0:00:03.655177\u001b[0m\n",
      "\u001b[31m[06/18/2019 18:17:12 INFO 140316596369216] #011Training metrics: mean_squared_error: 0.056 mean_absolute_error: 0.180 \u001b[0m\n",
      "\u001b[31m[06/18/2019 18:17:12 INFO 140316596369216] Epoch: 9, batches: 1000, num_examples: 64000, 15727.6 samples/sec, epoch time so far: 0:00:04.069285\u001b[0m\n",
      "\u001b[31m[06/18/2019 18:17:12 INFO 140316596369216] #011Training metrics: mean_squared_error: 0.056 mean_absolute_error: 0.180 \u001b[0m\n",
      "\u001b[31m[06/18/2019 18:17:13 INFO 140316596369216] Epoch: 9, batches: 1100, num_examples: 70400, 15735.0 samples/sec, epoch time so far: 0:00:04.474093\u001b[0m\n",
      "\u001b[31m[06/18/2019 18:17:13 INFO 140316596369216] #011Training metrics: mean_squared_error: 0.056 mean_absolute_error: 0.180 \u001b[0m\n",
      "\u001b[31m[06/18/2019 18:17:13 INFO 140316596369216] Epoch: 9, batches: 1200, num_examples: 76800, 15735.4 samples/sec, epoch time so far: 0:00:04.880711\u001b[0m\n",
      "\u001b[31m[06/18/2019 18:17:13 INFO 140316596369216] #011Training metrics: mean_squared_error: 0.056 mean_absolute_error: 0.180 \u001b[0m\n",
      "\u001b[31m[06/18/2019 18:17:13 INFO 140316596369216] Epoch: 9, batches: 1300, num_examples: 83200, 15747.1 samples/sec, epoch time so far: 0:00:05.283501\u001b[0m\n",
      "\u001b[31m[06/18/2019 18:17:13 INFO 140316596369216] #011Training metrics: mean_squared_error: 0.056 mean_absolute_error: 0.180 \u001b[0m\n",
      "\u001b[31m[06/18/2019 18:17:14 INFO 140316596369216] Epoch: 9, batches: 1400, num_examples: 89600, 15755.6 samples/sec, epoch time so far: 0:00:05.686869\u001b[0m\n",
      "\u001b[31m[06/18/2019 18:17:14 INFO 140316596369216] #011Training metrics: mean_squared_error: 0.056 mean_absolute_error: 0.181 \u001b[0m\n",
      "\u001b[31m[06/18/2019 18:17:14 INFO 140316596369216] **************\u001b[0m\n",
      "\u001b[31m[06/18/2019 18:17:14 INFO 140316596369216] Completed Epoch: 9, time taken: 0:00:05.751163\u001b[0m\n",
      "\u001b[31m[06/18/2019 18:17:14 INFO 140316596369216] Epoch 9 Training metrics:   mean_squared_error: 0.056 mean_absolute_error: 0.181 \u001b[0m\n",
      "\u001b[31m[06/18/2019 18:17:14 INFO 140316596369216] #quality_metric: host=algo-1, epoch=9, train mean_squared_error <loss>=0.0564825745789\u001b[0m\n",
      "\u001b[31m[06/18/2019 18:17:14 INFO 140316596369216] Epoch 9 Validation metrics: mean_squared_error: 0.924 mean_absolute_error: 0.755 \u001b[0m\n",
      "\u001b[31m[06/18/2019 18:17:14 INFO 140316596369216] #quality_metric: host=algo-1, epoch=9, validation mean_squared_error <loss>=0.923848644704\u001b[0m\n",
      "\u001b[31m[06/18/2019 18:17:14 INFO 140316596369216] **************\u001b[0m\n",
      "\u001b[31m[06/18/2019 18:17:14 INFO 140316596369216] patience losses: [0.92098979108236934, 0.91947226910977753, 0.92228468044384104]\u001b[0m\n",
      "\u001b[31m[06/18/2019 18:17:14 INFO 140316596369216] min patience losses: 0.91947226911\u001b[0m\n",
      "\u001b[31m[06/18/2019 18:17:14 INFO 140316596369216] current loss: 0.923848644704\u001b[0m\n",
      "\u001b[31m[06/18/2019 18:17:14 INFO 140316596369216] absolute loss difference: 0.00437637559465\u001b[0m\n",
      "\u001b[31m[06/18/2019 18:17:14 INFO 140316596369216] Bad epoch: loss has not improved (enough). Bad count:3\u001b[0m\n",
      "\u001b[31m#metrics {\"Metrics\": {\"early_stop.time\": {\"count\": 1, \"max\": 0.4398822784423828, \"sum\": 0.4398822784423828, \"min\": 0.4398822784423828}, \"update.time\": {\"count\": 1, \"max\": 5947.968006134033, \"sum\": 5947.968006134033, \"min\": 5947.968006134033}}, \"EndTime\": 1560881834.573594, \"Dimensions\": {\"Host\": \"algo-1\", \"Operation\": \"training\", \"Algorithm\": \"ObjectToVec\"}, \"StartTime\": 1560881828.620242}\n",
      "\u001b[0m\n",
      "\u001b[31m[06/18/2019 18:17:14 INFO 140316596369216] #progress_metric: host=algo-1, completed 50 % of epochs\u001b[0m\n",
      "\u001b[31m#metrics {\"Metrics\": {\"Max Batches Seen Between Resets\": {\"count\": 1, \"max\": 1416, \"sum\": 1416.0, \"min\": 1416}, \"Number of Batches Since Last Reset\": {\"count\": 1, \"max\": 1416, \"sum\": 1416.0, \"min\": 1416}, \"Number of Records Since Last Reset\": {\"count\": 1, \"max\": 90624, \"sum\": 90624.0, \"min\": 90624}, \"Total Batches Seen\": {\"count\": 1, \"max\": 14160, \"sum\": 14160.0, \"min\": 14160}, \"Total Records Seen\": {\"count\": 1, \"max\": 906240, \"sum\": 906240.0, \"min\": 906240}, \"Max Records Seen Between Resets\": {\"count\": 1, \"max\": 90624, \"sum\": 90624.0, \"min\": 90624}, \"Reset Count\": {\"count\": 1, \"max\": 10, \"sum\": 10.0, \"min\": 10}}, \"EndTime\": 1560881834.573924, \"Dimensions\": {\"Host\": \"algo-1\", \"Meta\": \"training_data_iter\", \"Operation\": \"training\", \"Algorithm\": \"ObjectToVec\", \"epoch\": 9}, \"StartTime\": 1560881828.625603}\n",
      "\u001b[0m\n",
      "\u001b[31m[06/18/2019 18:17:14 INFO 140316596369216] #throughput_metric: host=algo-1, train throughput=15234.9032774 records/second\u001b[0m\n",
      "\u001b[31m[06/18/2019 18:17:14 INFO 140316596369216] Epoch: 10, batches: 100, num_examples: 6400, 15308.7 samples/sec, epoch time so far: 0:00:00.418064\u001b[0m\n",
      "\u001b[31m[06/18/2019 18:17:14 INFO 140316596369216] #011Training metrics: mean_squared_error: 0.055 mean_absolute_error: 0.177 \u001b[0m\n",
      "\u001b[31m[06/18/2019 18:17:15 INFO 140316596369216] Epoch: 10, batches: 200, num_examples: 12800, 15542.4 samples/sec, epoch time so far: 0:00:00.823552\u001b[0m\n",
      "\u001b[31m[06/18/2019 18:17:15 INFO 140316596369216] #011Training metrics: mean_squared_error: 0.054 mean_absolute_error: 0.175 \u001b[0m\n"
     ]
    },
    {
     "name": "stdout",
     "output_type": "stream",
     "text": [
      "\n",
      "2019-06-18 18:17:28 Uploading - Uploading generated training model\n",
      "2019-06-18 18:17:28 Completed - Training job completed\n",
      "\u001b[31m[06/18/2019 18:17:15 INFO 140316596369216] Epoch: 10, batches: 300, num_examples: 19200, 15659.4 samples/sec, epoch time so far: 0:00:01.226098\u001b[0m\n",
      "\u001b[31m[06/18/2019 18:17:15 INFO 140316596369216] #011Training metrics: mean_squared_error: 0.053 mean_absolute_error: 0.173 \u001b[0m\n",
      "\u001b[31m[06/18/2019 18:17:16 INFO 140316596369216] Epoch: 10, batches: 400, num_examples: 25600, 15710.5 samples/sec, epoch time so far: 0:00:01.629484\u001b[0m\n",
      "\u001b[31m[06/18/2019 18:17:16 INFO 140316596369216] #011Training metrics: mean_squared_error: 0.052 mean_absolute_error: 0.173 \u001b[0m\n",
      "\u001b[31m[06/18/2019 18:17:16 INFO 140316596369216] Epoch: 10, batches: 500, num_examples: 32000, 15514.0 samples/sec, epoch time so far: 0:00:02.062653\u001b[0m\n",
      "\u001b[31m[06/18/2019 18:17:16 INFO 140316596369216] #011Training metrics: mean_squared_error: 0.052 mean_absolute_error: 0.171 \u001b[0m\n",
      "\u001b[31m[06/18/2019 18:17:17 INFO 140316596369216] Epoch: 10, batches: 600, num_examples: 38400, 15546.4 samples/sec, epoch time so far: 0:00:02.470022\u001b[0m\n",
      "\u001b[31m[06/18/2019 18:17:17 INFO 140316596369216] #011Training metrics: mean_squared_error: 0.052 mean_absolute_error: 0.171 \u001b[0m\n",
      "\u001b[31m[06/18/2019 18:17:17 INFO 140316596369216] Epoch: 10, batches: 700, num_examples: 44800, 15581.0 samples/sec, epoch time so far: 0:00:02.875304\u001b[0m\n",
      "\u001b[31m[06/18/2019 18:17:17 INFO 140316596369216] #011Training metrics: mean_squared_error: 0.052 mean_absolute_error: 0.171 \u001b[0m\n",
      "\u001b[31m[06/18/2019 18:17:17 INFO 140316596369216] Epoch: 10, batches: 800, num_examples: 51200, 15605.0 samples/sec, epoch time so far: 0:00:03.281009\u001b[0m\n",
      "\u001b[31m[06/18/2019 18:17:17 INFO 140316596369216] #011Training metrics: mean_squared_error: 0.051 mean_absolute_error: 0.171 \u001b[0m\n",
      "\u001b[31m[06/18/2019 18:17:18 INFO 140316596369216] Epoch: 10, batches: 900, num_examples: 57600, 15630.3 samples/sec, epoch time so far: 0:00:03.685156\u001b[0m\n",
      "\u001b[31m[06/18/2019 18:17:18 INFO 140316596369216] #011Training metrics: mean_squared_error: 0.051 mean_absolute_error: 0.171 \u001b[0m\n",
      "\u001b[31m[06/18/2019 18:17:18 INFO 140316596369216] Epoch: 10, batches: 1000, num_examples: 64000, 15654.1 samples/sec, epoch time so far: 0:00:04.088391\u001b[0m\n",
      "\u001b[31m[06/18/2019 18:17:18 INFO 140316596369216] #011Training metrics: mean_squared_error: 0.051 mean_absolute_error: 0.170 \u001b[0m\n",
      "\u001b[31m[06/18/2019 18:17:19 INFO 140316596369216] Epoch: 10, batches: 1100, num_examples: 70400, 15665.0 samples/sec, epoch time so far: 0:00:04.494081\u001b[0m\n",
      "\u001b[31m[06/18/2019 18:17:19 INFO 140316596369216] #011Training metrics: mean_squared_error: 0.051 mean_absolute_error: 0.170 \u001b[0m\n",
      "\u001b[31m[06/18/2019 18:17:19 INFO 140316596369216] Epoch: 10, batches: 1200, num_examples: 76800, 15674.7 samples/sec, epoch time so far: 0:00:04.899623\u001b[0m\n",
      "\u001b[31m[06/18/2019 18:17:19 INFO 140316596369216] #011Training metrics: mean_squared_error: 0.051 mean_absolute_error: 0.170 \u001b[0m\n",
      "\u001b[31m[06/18/2019 18:17:19 INFO 140316596369216] Epoch: 10, batches: 1300, num_examples: 83200, 15689.5 samples/sec, epoch time so far: 0:00:05.302919\u001b[0m\n",
      "\u001b[31m[06/18/2019 18:17:19 INFO 140316596369216] #011Training metrics: mean_squared_error: 0.051 mean_absolute_error: 0.170 \u001b[0m\n",
      "\u001b[31m[06/18/2019 18:17:20 INFO 140316596369216] Epoch: 10, batches: 1400, num_examples: 89600, 15701.9 samples/sec, epoch time so far: 0:00:05.706306\u001b[0m\n",
      "\u001b[31m[06/18/2019 18:17:20 INFO 140316596369216] #011Training metrics: mean_squared_error: 0.051 mean_absolute_error: 0.170 \u001b[0m\n",
      "\u001b[31m[06/18/2019 18:17:20 INFO 140316596369216] **************\u001b[0m\n",
      "\u001b[31m[06/18/2019 18:17:20 INFO 140316596369216] Completed Epoch: 10, time taken: 0:00:05.771448\u001b[0m\n",
      "\u001b[31m[06/18/2019 18:17:20 INFO 140316596369216] Epoch 10 Training metrics:   mean_squared_error: 0.051 mean_absolute_error: 0.170 \u001b[0m\n",
      "\u001b[31m[06/18/2019 18:17:20 INFO 140316596369216] #quality_metric: host=algo-1, epoch=10, train mean_squared_error <loss>=0.0509096209557\u001b[0m\n",
      "\u001b[31m[06/18/2019 18:17:20 INFO 140316596369216] Epoch 10 Validation metrics: mean_squared_error: 0.914 mean_absolute_error: 0.754 \u001b[0m\n",
      "\u001b[31m[06/18/2019 18:17:20 INFO 140316596369216] #quality_metric: host=algo-1, epoch=10, validation mean_squared_error <loss>=0.914008652842\u001b[0m\n",
      "\u001b[31m[06/18/2019 18:17:20 INFO 140316596369216] **************\u001b[0m\n",
      "\u001b[31m[06/18/2019 18:17:20 INFO 140316596369216] patience losses: [0.91947226910977753, 0.92228468044384104, 0.92384864470443206]\u001b[0m\n",
      "\u001b[31m[06/18/2019 18:17:20 INFO 140316596369216] min patience losses: 0.91947226911\u001b[0m\n",
      "\u001b[31m[06/18/2019 18:17:20 INFO 140316596369216] current loss: 0.914008652842\u001b[0m\n",
      "\u001b[31m[06/18/2019 18:17:20 INFO 140316596369216] absolute loss difference: 0.00546361626805\u001b[0m\n",
      "\u001b[31m[06/18/2019 18:17:20 INFO 140316596369216] Bad epoch: loss has not improved (enough). Bad count:4\u001b[0m\n",
      "\u001b[31m[06/18/2019 18:17:20 INFO 140316596369216] Bad epochs exceeded patience. Stopping training early!\u001b[0m\n",
      "\u001b[31m[06/18/2019 18:17:20 INFO 140316596369216] Early stopping criterion met! Stopping training at epoch: 10\u001b[0m\n",
      "\u001b[31m#metrics {\"Metrics\": {\"early_stop.time\": {\"count\": 1, \"max\": 3.098011016845703, \"sum\": 3.098011016845703, \"min\": 3.098011016845703}, \"update.time\": {\"count\": 1, \"max\": 5970.556020736694, \"sum\": 5970.556020736694, \"min\": 5970.556020736694}}, \"EndTime\": 1560881840.549619, \"Dimensions\": {\"Host\": \"algo-1\", \"Operation\": \"training\", \"Algorithm\": \"ObjectToVec\"}, \"StartTime\": 1560881834.573692}\n",
      "\u001b[0m\n",
      "\u001b[31m[06/18/2019 18:17:20 INFO 140316596369216] Early stop condition met. Stopping training.\u001b[0m\n",
      "\u001b[31m[06/18/2019 18:17:20 INFO 140316596369216] #progress_metric: host=algo-1, completed 100 % epochs\u001b[0m\n",
      "\u001b[31m#metrics {\"Metrics\": {\"Max Batches Seen Between Resets\": {\"count\": 1, \"max\": 1416, \"sum\": 1416.0, \"min\": 1416}, \"Number of Batches Since Last Reset\": {\"count\": 1, \"max\": 1416, \"sum\": 1416.0, \"min\": 1416}, \"Number of Records Since Last Reset\": {\"count\": 1, \"max\": 90624, \"sum\": 90624.0, \"min\": 90624}, \"Total Batches Seen\": {\"count\": 1, \"max\": 15576, \"sum\": 15576.0, \"min\": 15576}, \"Total Records Seen\": {\"count\": 1, \"max\": 996864, \"sum\": 996864.0, \"min\": 996864}, \"Max Records Seen Between Resets\": {\"count\": 1, \"max\": 90624, \"sum\": 90624.0, \"min\": 90624}, \"Reset Count\": {\"count\": 1, \"max\": 11, \"sum\": 11.0, \"min\": 11}}, \"EndTime\": 1560881840.549946, \"Dimensions\": {\"Host\": \"algo-1\", \"Meta\": \"training_data_iter\", \"Operation\": \"training\", \"Algorithm\": \"ObjectToVec\", \"epoch\": 10}, \"StartTime\": 1560881834.579046}\n",
      "\u001b[0m\n",
      "\u001b[31m[06/18/2019 18:17:20 INFO 140316596369216] #throughput_metric: host=algo-1, train throughput=15177.3240069 records/second\u001b[0m\n",
      "\u001b[31m[06/18/2019 18:17:20 WARNING 140316596369216] wait_for_all_workers will not sync workers since the kv store is not running distributed\u001b[0m\n",
      "\u001b[31m[06/18/2019 18:17:20 INFO 140316596369216] Best model based on epoch 10. Best loss: 0.914\u001b[0m\n",
      "\u001b[31m#metrics {\"Metrics\": {\"finalize.time\": {\"count\": 1, \"max\": 0.9491443634033203, \"sum\": 0.9491443634033203, \"min\": 0.9491443634033203}}, \"EndTime\": 1560881840.551217, \"Dimensions\": {\"Host\": \"algo-1\", \"Operation\": \"training\", \"Algorithm\": \"ObjectToVec\"}, \"StartTime\": 1560881840.549691}\n",
      "\u001b[0m\n",
      "\u001b[31m[06/18/2019 18:17:20 INFO 140316596369216] Serializing model to /opt/ml/model/model_algo-1\u001b[0m\n",
      "\u001b[31m[06/18/2019 18:17:20 INFO 140316596369216] Saved checkpoint to \"/tmp/tmpyqNbbv/state-0001.params\"\u001b[0m\n",
      "\u001b[31m[06/18/2019 18:17:20 INFO 140316596369216] Test data is not provided.\u001b[0m\n",
      "\u001b[31m#metrics {\"Metrics\": {\"totaltime\": {\"count\": 1, \"max\": 72598.73008728027, \"sum\": 72598.73008728027, \"min\": 72598.73008728027}, \"model.serialize.time\": {\"count\": 1, \"max\": 74.49698448181152, \"sum\": 74.49698448181152, \"min\": 74.49698448181152}, \"setuptime\": {\"count\": 1, \"max\": 60.415029525756836, \"sum\": 60.415029525756836, \"min\": 60.415029525756836}}, \"EndTime\": 1560881840.627144, \"Dimensions\": {\"Host\": \"algo-1\", \"Operation\": \"training\", \"Algorithm\": \"ObjectToVec\"}, \"StartTime\": 1560881840.55127}\n",
      "\u001b[0m\n",
      "Billable seconds: 150\n"
     ]
    }
   ],
   "source": [
    "## get estimator\n",
    "regressor = sagemaker.estimator.Estimator(container,\n",
    "                                          role, \n",
    "                                          train_instance_count=1, \n",
    "                                          train_instance_type='ml.p2.xlarge',\n",
    "                                          output_path=output_path,\n",
    "                                          sagemaker_session=sess)\n",
    "\n",
    "## set hyperparameters\n",
    "regressor.set_hyperparameters(**hyperparameters)\n",
    "\n",
    "## train the model\n",
    "regressor.fit(input_paths)"
   ]
  },
  {
   "cell_type": "markdown",
   "metadata": {},
   "source": [
    "We have seen that we can upload train (validation) data through the input data channel, and the algorithm will print out train (validation) evaluation metric during training. In addition, the algorithm uses the validation metric to perform early stopping. \n",
    "\n",
    "What if we want to send additional unlabeled data to the algorithm and get predictions from the trained model?\n",
    "This step is called *inference* in the Sagemaker framework. Next, we demonstrate how to use a trained model to perform inference on unseen data points."
   ]
  },
  {
   "cell_type": "markdown",
   "metadata": {},
   "source": [
    "## Inference using trained model"
   ]
  },
  {
   "cell_type": "markdown",
   "metadata": {},
   "source": [
    "Create and deploy the model"
   ]
  },
  {
   "cell_type": "code",
   "execution_count": 50,
   "metadata": {},
   "outputs": [],
   "source": [
    "#import numpy as np\n",
    "from sagemaker.predictor import json_serializer, json_deserializer\n",
    "\n",
    "# create a model using the trained algorithm\n",
    "regression_model = regressor.create_model(\n",
    "                        serializer=json_serializer,\n",
    "                        deserializer=json_deserializer,\n",
    "                        content_type='application/json')"
   ]
  },
  {
   "cell_type": "code",
   "execution_count": 51,
   "metadata": {},
   "outputs": [
    {
     "name": "stdout",
     "output_type": "stream",
     "text": [
      "---------------------------------------------------------------------------------------------------!"
     ]
    }
   ],
   "source": [
    "# deploy the model\n",
    "predictor = regression_model.deploy(initial_instance_count=1, instance_type='ml.m4.xlarge')"
   ]
  },
  {
   "cell_type": "markdown",
   "metadata": {},
   "source": [
    "Below we send validation data (without labels) to the deployed endpoint for inference. We will see that the resulting prediction error we get from post-training inference matches the best validation error from the training log in the console above (up to floating point error). If you follow the training instruction and parameter setup, you should get mean squared error on the validation set approximately 0.91."
   ]
  },
  {
   "cell_type": "code",
   "execution_count": 52,
   "metadata": {},
   "outputs": [
    {
     "name": "stdout",
     "output_type": "stream",
     "text": [
      "The mean squared error on validation set is 0.910\n"
     ]
    }
   ],
   "source": [
    "# Send data to the endpoint to get predictions\n",
    "prediction = predictor.predict(valid_r_data)\n",
    "\n",
    "print(\"The mean squared error on validation set is %.3f\" %get_mse_loss(prediction, valid_r_label))"
   ]
  },
  {
   "cell_type": "markdown",
   "metadata": {},
   "source": [
    "### Comparison against popular libraries\n",
    "\n",
    "Below we provide a chart that compares the performance of *Object2Vec* against several algorithms implemented by popular recommendation system libraries (LibRec https://www.librec.net/ and scikit-surprise http://surpriselib.com/). The error metric we use in the chart is **root mean squared** (RMSE) instead of MSE, so that our result can be compared against the reported results in the aforementioned libraries."
   ]
  },
  {
   "cell_type": "markdown",
   "metadata": {},
   "source": [
    "<img src=\"ml-experiment-plot.png\" width=\"400\">"
   ]
  },
  {
   "cell_type": "markdown",
   "metadata": {},
   "source": [
    "# Recommendation task \n",
    "\n",
    "In this section, we showcase how to use *Object2Vec* to recommend movies, using the binarized rating labels. Here, if a movie rating label for a given user is binarized to `1`, then it means that the movie should be recommended to the user; otherwise, the label is binarized to `0`. The binarized data set is already obtained in the preprocessing section, so we will proceed to apply the algorithm."
   ]
  },
  {
   "cell_type": "markdown",
   "metadata": {},
   "source": [
    "We upload the binarized datasets for classification task to S3"
   ]
  },
  {
   "cell_type": "code",
   "execution_count": 53,
   "metadata": {},
   "outputs": [
    {
     "name": "stdout",
     "output_type": "stream",
     "text": [
      "(' value {} ', 'object2vec/movielens/input')\n",
      "Uploaded data to s3://sa-24-ml/object2vec/movielens/input/rating/validation/train_c.jsonl\n",
      "(' value {} ', 'object2vec/movielens/input')\n",
      "Uploaded data to s3://sa-24-ml/object2vec/movielens/input/rating/validation/validation_c.jsonl\n"
     ]
    }
   ],
   "source": [
    "for data_name in ['train', 'validation']:\n",
    "    fname = '{}_c.jsonl'.format(data_name)\n",
    "    print(' value {} ',input_prefix)\n",
    "\n",
    "    data_path = os.path.join('s3://', bucket, pre_key, fname)\n",
    "    s3_client.upload_file(fname, bucket, os.path.join(pre_key, fname))\n",
    "    input_paths[data_name] = s3_input(data_path, distribution='ShardedByS3Key', content_type='application/jsonlines')\n",
    "    print('Uploaded data to {}'.format(data_path))"
   ]
  },
  {
   "cell_type": "markdown",
   "metadata": {},
   "source": [
    "Since we already get the algorithm image from the regression task, we can directly start training"
   ]
  },
  {
   "cell_type": "code",
   "execution_count": 54,
   "metadata": {},
   "outputs": [],
   "source": [
    "from sagemaker.session import s3_input\n",
    "\n",
    "hyperparameters_c = {\n",
    "    \"_kvstore\": \"device\",\n",
    "    \"_num_gpus\": \"auto\",\n",
    "    \"_num_kv_servers\": \"auto\",\n",
    "    \"bucket_width\": 0,\n",
    "    \"early_stopping_patience\": 3, \n",
    "    \"early_stopping_tolerance\": 0.01,\n",
    "    \"enc0_cnn_filter_width\": 3,\n",
    "    \"enc0_layers\": \"auto\",\n",
    "    \"enc0_max_seq_len\": 1,\n",
    "    \"enc0_network\": \"pooled_embedding\",\n",
    "    \"enc0_token_embedding_dim\": 300,\n",
    "    \"enc0_vocab_size\": 944,\n",
    "    \"enc1_cnn_filter_width\": 3,\n",
    "    \"enc1_layers\": \"auto\",\n",
    "    \"enc1_max_seq_len\": 1,\n",
    "    \"enc1_network\": \"pooled_embedding\",\n",
    "    \"enc1_token_embedding_dim\": 300,\n",
    "    \"enc1_vocab_size\": 1684,\n",
    "    \"enc_dim\": 2048,\n",
    "    \"epochs\": 20,\n",
    "    \"learning_rate\": 0.001,\n",
    "    \"mini_batch_size\": 2048,\n",
    "    \"mlp_activation\": \"relu\",\n",
    "    \"mlp_dim\": 1024,\n",
    "    \"mlp_layers\": 1,\n",
    "    \"num_classes\": 2,\n",
    "    \"optimizer\": \"adam\",\n",
    "    \"output_layer\": \"softmax\"\n",
    "}"
   ]
  },
  {
   "cell_type": "code",
   "execution_count": 56,
   "metadata": {},
   "outputs": [
    {
     "name": "stdout",
     "output_type": "stream",
     "text": [
      "2019-06-18 18:54:41 Starting - Starting the training job...\n",
      "2019-06-18 18:54:43 Starting - Launching requested ML instances......\n",
      "2019-06-18 18:55:47 Starting - Preparing the instances for training......\n",
      "2019-06-18 18:56:58 Downloading - Downloading input data\n",
      "2019-06-18 18:56:58 Training - Downloading the training image.....\n",
      "\u001b[31mDocker entrypoint called with argument(s): train\u001b[0m\n",
      "\u001b[31m[06/18/2019 18:57:54 INFO 140144465917760] Reading default configuration from /opt/amazon/lib/python2.7/site-packages/algorithm/default-input.json: {u'comparator_list': u'hadamard, concat, abs_diff', u'enc0_vocab_file': u'', u'output_layer': u'softmax', u'enc0_cnn_filter_width': 3, u'epochs': 30, u'mlp_dim': 512, u'enc0_freeze_pretrained_embedding': u'true', u'mlp_layers': 2, u'_num_kv_servers': u'auto', u'weight_decay': 0, u'enc0_pretrained_embedding_file': u'', u'token_embedding_storage_type': u'dense', u'enc0_token_embedding_dim': 300, u'tied_token_embedding_weight': u'false', u'learning_rate': 0.0004, u'enc1_cnn_filter_width': 3, u'negative_sampling_rate': 0, u'enc0_network': u'hcnn', u'enc1_layers': u'auto', u'early_stopping_patience': 3, u'optimizer': u'adam', u'_tuning_objective_metric': u'', u'early_stopping_tolerance': 0.01, u'dropout': 0, u'bucket_width': 0, u'enc_dim': 4096, u'enc1_vocab_file': u'', u'enc1_freeze_pretrained_embedding': u'true', u'enc0_layers': u'auto', u'mini_batch_size': 32, u'enc1_pretrained_embedding_file': u'', u'num_classes': 2, u'_num_gpus': u'auto', u'enc1_token_embedding_dim': 300, u'mlp_activation': u'linear', u'enc1_network': u'enc0', u'_kvstore': u'auto_gpu'}\u001b[0m\n",
      "\u001b[31m[06/18/2019 18:57:54 INFO 140144465917760] Reading provided configuration from /opt/ml/input/config/hyperparameters.json: {u'output_layer': u'softmax', u'enc0_cnn_filter_width': u'3', u'epochs': u'20', u'mlp_dim': u'1024', u'mlp_layers': u'1', u'_num_kv_servers': u'auto', u'mini_batch_size': u'2048', u'enc0_token_embedding_dim': u'300', u'enc1_network': u'pooled_embedding', u'early_stopping_tolerance': u'0.01', u'enc0_network': u'pooled_embedding', u'enc1_layers': u'auto', u'early_stopping_patience': u'3', u'optimizer': u'adam', u'enc1_max_seq_len': u'1', u'enc1_cnn_filter_width': u'3', u'learning_rate': u'0.001', u'bucket_width': u'0', u'enc_dim': u'2048', u'enc0_layers': u'auto', u'enc0_max_seq_len': u'1', u'num_classes': u'2', u'_num_gpus': u'auto', u'mlp_activation': u'relu', u'enc1_token_embedding_dim': u'300', u'_kvstore': u'device', u'enc1_vocab_size': u'1684', u'enc0_vocab_size': u'944'}\u001b[0m\n",
      "\u001b[31m[06/18/2019 18:57:54 INFO 140144465917760] Final configuration: {u'comparator_list': u'hadamard, concat, abs_diff', u'enc0_vocab_file': u'', u'output_layer': u'softmax', u'enc0_cnn_filter_width': u'3', u'epochs': u'20', u'mlp_dim': u'1024', u'enc0_freeze_pretrained_embedding': u'true', u'mlp_layers': u'1', u'_num_kv_servers': u'auto', u'weight_decay': 0, u'enc0_pretrained_embedding_file': u'', u'enc0_max_seq_len': u'1', u'token_embedding_storage_type': u'dense', u'enc0_token_embedding_dim': u'300', u'tied_token_embedding_weight': u'false', u'learning_rate': u'0.001', u'enc1_cnn_filter_width': u'3', u'negative_sampling_rate': 0, u'enc0_network': u'pooled_embedding', u'enc1_layers': u'auto', u'early_stopping_patience': u'3', u'optimizer': u'adam', u'enc1_max_seq_len': u'1', u'_tuning_objective_metric': u'', u'early_stopping_tolerance': u'0.01', u'dropout': 0, u'bucket_width': u'0', u'enc_dim': u'2048', u'enc1_vocab_file': u'', u'enc1_freeze_pretrained_embedding': u'true', u'enc0_layers': u'auto', u'mini_batch_size': u'2048', u'enc1_pretrained_embedding_file': u'', u'num_classes': u'2', u'_num_gpus': u'auto', u'enc1_token_embedding_dim': u'300', u'mlp_activation': u'relu', u'enc1_network': u'pooled_embedding', u'_kvstore': u'device', u'enc1_vocab_size': u'1684', u'enc0_vocab_size': u'944'}\u001b[0m\n",
      "\u001b[31mProcess 1 is a worker.\u001b[0m\n",
      "\u001b[31m[06/18/2019 18:57:54 INFO 140144465917760] Using default worker.\u001b[0m\n",
      "\u001b[31m[06/18/2019 18:57:54 INFO 140144465917760] Loaded iterator creator application/jsonlines for content type ('application/jsonlines', '1.0')\u001b[0m\n",
      "\u001b[31m[06/18/2019 18:57:54 INFO 140144465917760] create_iter params {u'comparator_list': u'hadamard, concat, abs_diff', u'enc0_vocab_file': u'', u'output_layer': u'softmax', u'enc0_cnn_filter_width': u'3', u'epochs': u'20', u'mlp_dim': u'1024', u'enc0_freeze_pretrained_embedding': u'true', u'mlp_layers': u'1', u'_num_kv_servers': u'auto', u'weight_decay': 0, u'enc0_pretrained_embedding_file': u'', u'enc0_max_seq_len': u'1', u'token_embedding_storage_type': u'dense', u'enc0_token_embedding_dim': u'300', u'tied_token_embedding_weight': u'false', u'learning_rate': u'0.001', u'enc1_cnn_filter_width': u'3', u'negative_sampling_rate': 0, u'enc0_network': u'pooled_embedding', u'enc1_layers': u'auto', u'early_stopping_patience': u'3', u'optimizer': u'adam', u'enc1_max_seq_len': u'1', u'_tuning_objective_metric': u'', u'early_stopping_tolerance': u'0.01', u'dropout': 0, u'bucket_width': u'0', u'enc_dim': u'2048', u'enc1_vocab_file': u'', u'enc1_freeze_pretrained_embedding': u'true', u'enc0_layers': u'auto', u'mini_batch_size': u'2048', u'enc1_pretrained_embedding_file': u'', u'num_classes': u'2', u'_num_gpus': u'auto', u'enc1_token_embedding_dim': u'300', u'mlp_activation': u'relu', u'enc1_network': u'pooled_embedding', u'_kvstore': u'device', u'enc1_vocab_size': u'1684', u'enc0_vocab_size': u'944'}\u001b[0m\n",
      "\u001b[31m[06/18/2019 18:57:54 INFO 140144465917760] create_iter content_params {}\u001b[0m\n",
      "\u001b[31m[06/18/2019 18:57:54 INFO 140144465917760] Parameters of encoders: [{u'layers': u'auto', u'vocab_size': u'944', u'network': u'pooled_embedding', u'vocab_file': u'', u'cnn_filter_width': u'3', u'token_embedding_dim': u'300', u'max_seq_len': u'1', u'freeze_pretrained_embedding': u'true', u'pretrained_embedding_file': u''}, {u'layers': u'auto', u'vocab_size': u'1684', u'network': u'pooled_embedding', u'vocab_file': u'', u'cnn_filter_width': u'3', u'token_embedding_dim': u'300', u'max_seq_len': u'1', u'freeze_pretrained_embedding': u'true', u'pretrained_embedding_file': u''}]\u001b[0m\n",
      "\u001b[31m[06/18/2019 18:57:54 INFO 140144465917760] Inconsistent enc_dim and token_embedding_dim found for token-embedding-encoder: 2048 vs 300. Setting token embedding dim to be 2048\u001b[0m\n",
      "\u001b[31m[06/18/2019 18:57:54 INFO 140144465917760] Inconsistent enc_dim and token_embedding_dim found for token-embedding-encoder: 2048 vs 300. Setting token embedding dim to be 2048\u001b[0m\n",
      "\u001b[31m[06/18/2019 18:57:54 INFO 140144465917760] Encoder configs: [{'vocab_size': 944, 'enc_index': 0, 'pretrained_embedding_file_path': None, 'vocab_dict': None, 'token_embedding_dim': 2048, 'vocab_file': '', 'freeze_pretrained_embedding': True, 'num_layers': 1, 'is_train': True, 'dropout': 0.0, 'pretrained_embedding_file': ''}, {'vocab_size': 1684, 'enc_index': 1, 'pretrained_embedding_file_path': None, 'vocab_dict': None, 'token_embedding_dim': 2048, 'vocab_file': '', 'freeze_pretrained_embedding': True, 'num_layers': 1, 'is_train': True, 'dropout': 0.0, 'pretrained_embedding_file': ''}]\u001b[0m\n",
      "\u001b[31m[06/18/2019 18:57:54 INFO 140144465917760] Config: {'comparator_list': ['hadamard', 'concat', 'abs_diff'], 'epochs': 20, 'mini_batch_size': 2048, 'optimizer': 'adam', 'output_layer': 'softmax', 'token_embedding_storage_type': 'dense', 'mlp_dim': 1024, 'early_stopping_tolerance': 0.01, 'dropout': 0.0, 'bucket_width': 0, 'enc_dim': 2048, 'negative_sampling_rate': 0, 'early_stopping_patience': 3, 'learning_rate': 0.001, 'max_seq_lens': [1, 1], 'tied_token_embedding_weight': False, 'enc_configs': [{'vocab_size': 944, 'enc_index': 0, 'pretrained_embedding_file_path': None, 'vocab_dict': None, 'token_embedding_dim': 2048, 'vocab_file': '', 'freeze_pretrained_embedding': True, 'num_layers': 1, 'is_train': True, 'dropout': 0.0, 'pretrained_embedding_file': ''}, {'vocab_size': 1684, 'enc_index': 1, 'pretrained_embedding_file_path': None, 'vocab_dict': None, 'token_embedding_dim': 2048, 'vocab_file': '', 'freeze_pretrained_embedding': True, 'num_layers': 1, 'is_train': True, 'dropout': 0.0, 'pretrained_embedding_file': ''}], 'mlp_layers': 1, 'weight_decay': 0.0, 'mlp_activation': 'relu', 'num_classes': 2}\u001b[0m\n",
      "\u001b[31m[06/18/2019 18:57:54 INFO 140144465917760] use bucketing: False\u001b[0m\n",
      "\u001b[31m[06/18/2019 18:57:54 INFO 140144465917760] Creating data iterator for /opt/ml/input/data/train\u001b[0m\n",
      "\u001b[31m[06/18/2019 18:57:57 INFO 140144465917760] Source words: 90570\u001b[0m\n",
      "\u001b[31m[06/18/2019 18:57:57 INFO 140144465917760] Target words: 90570\u001b[0m\n",
      "\u001b[31m[06/18/2019 18:57:57 INFO 140144465917760] Total: 90570 samples in 1 buckets\u001b[0m\n",
      "\u001b[31m[06/18/2019 18:57:57 INFO 140144465917760] Bucket of (1, 1) : 90570 samples in 44 batches of 2048, approx 2048.0 words/batch\u001b[0m\n",
      "\u001b[31m[06/18/2019 18:57:57 INFO 140144465917760] 0 sentence pairs discarded\u001b[0m\n",
      "\u001b[31m[06/18/2019 18:57:57 INFO 140144465917760] fill up mode: replicate\u001b[0m\n",
      "\u001b[31m[06/18/2019 18:57:57 INFO 140144465917760] \u001b[0m\n",
      "\u001b[31m[06/18/2019 18:57:57 INFO 140144465917760] Negative sampling not used\u001b[0m\n",
      "\u001b[31m[06/18/2019 18:57:57 INFO 140144465917760] Replicating 1590 random sentences from bucket (1, 1) to size it to multiple of 2048\u001b[0m\n",
      "\u001b[31m[06/18/2019 18:57:57 INFO 140144465917760] Bucket batch sizes: [BucketBatchSize(batch_size=2048, average_words_per_batch=2048)]\u001b[0m\n",
      "\u001b[31m[06/18/2019 18:57:57 INFO 140144465917760] create_iter params {u'comparator_list': u'hadamard, concat, abs_diff', u'enc0_vocab_file': u'', u'output_layer': u'softmax', u'enc0_cnn_filter_width': u'3', u'epochs': u'20', u'mlp_dim': u'1024', u'enc0_freeze_pretrained_embedding': u'true', u'mlp_layers': u'1', u'_num_kv_servers': u'auto', u'weight_decay': 0, u'enc0_pretrained_embedding_file': u'', u'enc0_max_seq_len': u'1', u'token_embedding_storage_type': u'dense', u'enc0_token_embedding_dim': u'300', u'tied_token_embedding_weight': u'false', u'learning_rate': u'0.001', u'enc1_cnn_filter_width': u'3', u'negative_sampling_rate': 0, u'enc0_network': u'pooled_embedding', u'enc1_layers': u'auto', u'early_stopping_patience': u'3', u'optimizer': u'adam', u'enc1_max_seq_len': u'1', u'_tuning_objective_metric': u'', u'early_stopping_tolerance': u'0.01', u'dropout': 0, u'bucket_width': u'0', u'enc_dim': u'2048', u'enc1_vocab_file': u'', u'enc1_freeze_pretrained_embedding': u'true', u'enc0_layers': u'auto', u'mini_batch_size': u'2048', u'enc1_pretrained_embedding_file': u'', u'num_classes': u'2', u'_num_gpus': u'auto', u'enc1_token_embedding_dim': u'300', u'mlp_activation': u'relu', u'enc1_network': u'pooled_embedding', u'_kvstore': u'device', u'enc1_vocab_size': u'1684', u'enc0_vocab_size': u'944'}\u001b[0m\n",
      "\u001b[31m[06/18/2019 18:57:57 INFO 140144465917760] create_iter content_params {}\u001b[0m\n",
      "\u001b[31m[06/18/2019 18:57:57 INFO 140144465917760] Parameters of encoders: [{u'layers': u'auto', u'vocab_size': u'944', u'network': u'pooled_embedding', u'vocab_file': u'', u'cnn_filter_width': u'3', u'token_embedding_dim': u'300', u'max_seq_len': u'1', u'freeze_pretrained_embedding': u'true', u'pretrained_embedding_file': u''}, {u'layers': u'auto', u'vocab_size': u'1684', u'network': u'pooled_embedding', u'vocab_file': u'', u'cnn_filter_width': u'3', u'token_embedding_dim': u'300', u'max_seq_len': u'1', u'freeze_pretrained_embedding': u'true', u'pretrained_embedding_file': u''}]\u001b[0m\n",
      "\u001b[31m[06/18/2019 18:57:57 INFO 140144465917760] Inconsistent enc_dim and token_embedding_dim found for token-embedding-encoder: 2048 vs 300. Setting token embedding dim to be 2048\u001b[0m\n",
      "\u001b[31m[06/18/2019 18:57:57 INFO 140144465917760] Inconsistent enc_dim and token_embedding_dim found for token-embedding-encoder: 2048 vs 300. Setting token embedding dim to be 2048\u001b[0m\n",
      "\u001b[31m[06/18/2019 18:57:57 INFO 140144465917760] Encoder configs: [{'vocab_size': 944, 'enc_index': 0, 'pretrained_embedding_file_path': None, 'vocab_dict': None, 'token_embedding_dim': 2048, 'vocab_file': '', 'freeze_pretrained_embedding': True, 'num_layers': 1, 'is_train': True, 'dropout': 0.0, 'pretrained_embedding_file': ''}, {'vocab_size': 1684, 'enc_index': 1, 'pretrained_embedding_file_path': None, 'vocab_dict': None, 'token_embedding_dim': 2048, 'vocab_file': '', 'freeze_pretrained_embedding': True, 'num_layers': 1, 'is_train': True, 'dropout': 0.0, 'pretrained_embedding_file': ''}]\u001b[0m\n",
      "\u001b[31m[06/18/2019 18:57:57 INFO 140144465917760] Config: {'comparator_list': ['hadamard', 'concat', 'abs_diff'], 'epochs': 20, 'mini_batch_size': 2048, 'optimizer': 'adam', 'output_layer': 'softmax', 'token_embedding_storage_type': 'dense', 'mlp_dim': 1024, 'early_stopping_tolerance': 0.01, 'dropout': 0.0, 'bucket_width': 0, 'enc_dim': 2048, 'negative_sampling_rate': 0, 'early_stopping_patience': 3, 'learning_rate': 0.001, 'max_seq_lens': [1, 1], 'tied_token_embedding_weight': False, 'enc_configs': [{'vocab_size': 944, 'enc_index': 0, 'pretrained_embedding_file_path': None, 'vocab_dict': None, 'token_embedding_dim': 2048, 'vocab_file': '', 'freeze_pretrained_embedding': True, 'num_layers': 1, 'is_train': True, 'dropout': 0.0, 'pretrained_embedding_file': ''}, {'vocab_size': 1684, 'enc_index': 1, 'pretrained_embedding_file_path': None, 'vocab_dict': None, 'token_embedding_dim': 2048, 'vocab_file': '', 'freeze_pretrained_embedding': True, 'num_layers': 1, 'is_train': True, 'dropout': 0.0, 'pretrained_embedding_file': ''}], 'mlp_layers': 1, 'weight_decay': 0.0, 'mlp_activation': 'relu', 'num_classes': 2}\u001b[0m\n",
      "\u001b[31m[06/18/2019 18:57:57 INFO 140144465917760] use bucketing: False\u001b[0m\n",
      "\u001b[31m[06/18/2019 18:57:57 INFO 140144465917760] Creating data iterator for /opt/ml/input/data/validation\u001b[0m\n",
      "\u001b[31m[06/18/2019 18:57:57 INFO 140144465917760] Source words: 9430\u001b[0m\n",
      "\u001b[31m[06/18/2019 18:57:57 INFO 140144465917760] Target words: 9430\u001b[0m\n",
      "\u001b[31m[06/18/2019 18:57:57 INFO 140144465917760] Total: 9430 samples in 1 buckets\u001b[0m\n",
      "\u001b[31m[06/18/2019 18:57:57 INFO 140144465917760] Bucket of (1, 1) : 9430 samples in 4 batches of 2048, approx 2048.0 words/batch\u001b[0m\n",
      "\u001b[31m[06/18/2019 18:57:57 INFO 140144465917760] 0 sentence pairs discarded\u001b[0m\n",
      "\u001b[31m[06/18/2019 18:57:57 INFO 140144465917760] fill up mode: replicate\u001b[0m\n",
      "\u001b[31m[06/18/2019 18:57:57 INFO 140144465917760] \u001b[0m\n",
      "\u001b[31m[06/18/2019 18:57:57 INFO 140144465917760] Negative sampling not used\u001b[0m\n",
      "\u001b[31m[06/18/2019 18:57:57 INFO 140144465917760] Replicating 810 random sentences from bucket (1, 1) to size it to multiple of 2048\u001b[0m\n",
      "\u001b[31m[06/18/2019 18:57:57 INFO 140144465917760] Parameters of encoders: [{u'layers': u'auto', u'vocab_size': u'944', u'network': u'pooled_embedding', u'vocab_file': u'', u'cnn_filter_width': u'3', u'token_embedding_dim': u'300', u'max_seq_len': u'1', u'freeze_pretrained_embedding': u'true', u'pretrained_embedding_file': u''}, {u'layers': u'auto', u'vocab_size': u'1684', u'network': u'pooled_embedding', u'vocab_file': u'', u'cnn_filter_width': u'3', u'token_embedding_dim': u'300', u'max_seq_len': u'1', u'freeze_pretrained_embedding': u'true', u'pretrained_embedding_file': u''}]\u001b[0m\n",
      "\u001b[31m[06/18/2019 18:57:57 INFO 140144465917760] Inconsistent enc_dim and token_embedding_dim found for token-embedding-encoder: 2048 vs 300. Setting token embedding dim to be 2048\u001b[0m\n",
      "\u001b[31m[06/18/2019 18:57:57 INFO 140144465917760] Inconsistent enc_dim and token_embedding_dim found for token-embedding-encoder: 2048 vs 300. Setting token embedding dim to be 2048\u001b[0m\n",
      "\u001b[31m[06/18/2019 18:57:57 INFO 140144465917760] Encoder configs: [{'vocab_size': 944, 'enc_index': 0, 'pretrained_embedding_file_path': None, 'vocab_dict': None, 'token_embedding_dim': 2048, 'vocab_file': '', 'freeze_pretrained_embedding': True, 'num_layers': 1, 'is_train': True, 'dropout': 0.0, 'pretrained_embedding_file': ''}, {'vocab_size': 1684, 'enc_index': 1, 'pretrained_embedding_file_path': None, 'vocab_dict': None, 'token_embedding_dim': 2048, 'vocab_file': '', 'freeze_pretrained_embedding': True, 'num_layers': 1, 'is_train': True, 'dropout': 0.0, 'pretrained_embedding_file': ''}]\u001b[0m\n",
      "\u001b[31m[06/18/2019 18:57:57 INFO 140144465917760] Config: {'comparator_list': ['hadamard', 'concat', 'abs_diff'], 'epochs': 20, 'mini_batch_size': 2048, 'optimizer': 'adam', 'output_layer': 'softmax', 'token_embedding_storage_type': 'dense', 'mlp_dim': 1024, 'early_stopping_tolerance': 0.01, 'dropout': 0.0, 'bucket_width': 0, 'enc_dim': 2048, 'negative_sampling_rate': 0, 'early_stopping_patience': 3, 'learning_rate': 0.001, 'max_seq_lens': [1, 1], 'tied_token_embedding_weight': False, 'enc_configs': [{'vocab_size': 944, 'enc_index': 0, 'pretrained_embedding_file_path': None, 'vocab_dict': None, 'token_embedding_dim': 2048, 'vocab_file': '', 'freeze_pretrained_embedding': True, 'num_layers': 1, 'is_train': True, 'dropout': 0.0, 'pretrained_embedding_file': ''}, {'vocab_size': 1684, 'enc_index': 1, 'pretrained_embedding_file_path': None, 'vocab_dict': None, 'token_embedding_dim': 2048, 'vocab_file': '', 'freeze_pretrained_embedding': True, 'num_layers': 1, 'is_train': True, 'dropout': 0.0, 'pretrained_embedding_file': ''}], 'mlp_layers': 1, 'weight_decay': 0.0, 'mlp_activation': 'relu', 'num_classes': 2}\u001b[0m\n",
      "\u001b[31m[06/18/2019 18:57:57 INFO 140144465917760] Creating new state\u001b[0m\n",
      "\u001b[31m[06/18/2019 18:57:57 INFO 140144465917760] params {u'comparator_list': u'hadamard, concat, abs_diff', u'enc0_vocab_file': u'', u'output_layer': u'softmax', u'enc0_cnn_filter_width': u'3', u'epochs': u'20', u'mlp_dim': u'1024', u'enc0_freeze_pretrained_embedding': u'true', u'mlp_layers': u'1', u'_num_kv_servers': u'auto', u'weight_decay': 0, u'enc0_pretrained_embedding_file': u'', u'enc0_max_seq_len': u'1', u'token_embedding_storage_type': u'dense', u'enc0_token_embedding_dim': u'300', u'tied_token_embedding_weight': u'false', u'learning_rate': u'0.001', u'enc1_cnn_filter_width': u'3', u'negative_sampling_rate': 0, u'enc0_network': u'pooled_embedding', u'enc1_layers': u'auto', u'early_stopping_patience': u'3', u'optimizer': u'adam', u'enc1_max_seq_len': u'1', u'_tuning_objective_metric': u'', u'early_stopping_tolerance': u'0.01', u'dropout': 0, u'bucket_width': u'0', u'enc_dim': u'2048', 'default_bucket_key': (1, 1), u'enc1_vocab_file': u'', u'enc1_freeze_pretrained_embedding': u'true', u'enc0_layers': u'auto', u'mini_batch_size': u'2048', u'enc1_pretrained_embedding_file': u'', u'num_classes': u'2', u'_num_gpus': u'auto', u'enc1_token_embedding_dim': u'300', u'mlp_activation': u'relu', u'enc1_network': u'pooled_embedding', u'_kvstore': u'device', u'enc1_vocab_size': u'1684', u'enc0_vocab_size': u'944'}\u001b[0m\n",
      "\u001b[31m[06/18/2019 18:57:57 INFO 140144465917760] default_bucket_key (1, 1)\u001b[0m\n",
      "\u001b[31m[06/18/2019 18:57:58 INFO 140144465917760] nvidia-smi took: 0.0251710414886 secs to identify 1 gpus\u001b[0m\n",
      "\u001b[31m[06/18/2019 18:57:58 INFO 140144465917760] Number of GPUs being used: 1\u001b[0m\n",
      "\u001b[31m[06/18/2019 18:57:58 INFO 140144465917760] context [gpu(0)]\u001b[0m\n",
      "\u001b[31m[06/18/2019 18:57:58 INFO 140144465917760] Create Store: device\u001b[0m\n",
      "\u001b[31m[06/18/2019 18:57:58 INFO 140144465917760] Number of GPUs being used: 1\u001b[0m\n",
      "\u001b[31m[06/18/2019 18:57:58 WARNING 140144465917760] dense token embedding is used in a multi-gpu setting...consider changing 'token_embedding_storage_type' to 'row_sparse'\u001b[0m\n",
      "\u001b[31m[06/18/2019 18:57:58 INFO 140144465917760] data_names: ['source', 'target']\u001b[0m\n",
      "\u001b[31m[06/18/2019 18:57:58 INFO 140144465917760] label_names: ['out_layer_label']\u001b[0m\n",
      "\u001b[31m________________________________________________________________________________________________________________________\u001b[0m\n",
      "\u001b[31mLayer (type)                                        Output Shape            Param #     Previous Layer                  \u001b[0m\n",
      "\u001b[31m========================================================================================================================\u001b[0m\n",
      "\u001b[31msource(null)                                        1                       0                                           \u001b[0m\n",
      "\u001b[31m________________________________________________________________________________________________________________________\u001b[0m\n",
      "\u001b[31membed_0(Embedding)                                  1x2048                  0           source                          \u001b[0m\n",
      "\u001b[31m________________________________________________________________________________________________________________________\u001b[0m\n",
      "\u001b[31m_not_equal_scalar0(_not_equal_scalar)               1                       0           source                          \u001b[0m\n",
      "\u001b[31m________________________________________________________________________________________________________________________\u001b[0m\n",
      "\u001b[31mreshape0(Reshape)                                   1x1                     0           _not_equal_scalar0              \u001b[0m\n",
      "\u001b[31m________________________________________________________________________________________________________________________\u001b[0m\n",
      "\u001b[31mbroadcast_mul0(broadcast_mul)                       1x2048                  0           embed_0                         \n",
      "                                                                                        reshape0                        \u001b[0m\n",
      "\u001b[31m________________________________________________________________________________________________________________________\u001b[0m\n",
      "\u001b[31msum0(sum)                                           2048                    0           broadcast_mul0                  \u001b[0m\n",
      "\u001b[31m________________________________________________________________________________________________________________________\u001b[0m\n",
      "\u001b[31msum1(sum)                                           1                       0           reshape0                        \u001b[0m\n",
      "\u001b[31m________________________________________________________________________________________________________________________\u001b[0m\n",
      "\u001b[31mzeros_like0(zeros_like)                             1                       0           sum1                            \u001b[0m\n",
      "\u001b[31m________________________________________________________________________________________________________________________\u001b[0m\n",
      "\u001b[31m_equal0(_equal)                                     1                       0           sum1                            \n",
      "                                                                                        zeros_like0                     \u001b[0m\n",
      "\u001b[31m________________________________________________________________________________________________________________________\u001b[0m\n",
      "\u001b[31m_plus0(elemwise_add)                                1                       0           sum1                            \n",
      "                                                                                        _equal0                         \u001b[0m\n",
      "\u001b[31m________________________________________________________________________________________________________________________\u001b[0m\n",
      "\u001b[31mbroadcast_div0(broadcast_div)                       2048                    0           sum0                            \n",
      "                                                                                        _plus0                          \u001b[0m\n",
      "\u001b[31m________________________________________________________________________________________________________________________\u001b[0m\n",
      "\u001b[31mdropout0(Dropout)                                   2048                    0           broadcast_div0                  \u001b[0m\n",
      "\u001b[31m________________________________________________________________________________________________________________________\u001b[0m\n",
      "\u001b[31membed_1(Embedding)                                  1x2048                  0                                           \u001b[0m\n",
      "\u001b[31m________________________________________________________________________________________________________________________\u001b[0m\n",
      "\u001b[31m_not_equal_scalar1(_not_equal_scalar)               1                       0                                           \u001b[0m\n",
      "\u001b[31m________________________________________________________________________________________________________________________\u001b[0m\n",
      "\u001b[31mreshape1(Reshape)                                   1x1                     0           _not_equal_scalar1              \u001b[0m\n",
      "\u001b[31m________________________________________________________________________________________________________________________\u001b[0m\n",
      "\u001b[31mbroadcast_mul1(broadcast_mul)                       1x2048                  0           embed_1                         \n",
      "                                                                                        reshape1                        \u001b[0m\n",
      "\u001b[31m________________________________________________________________________________________________________________________\u001b[0m\n",
      "\u001b[31msum2(sum)                                           2048                    0           broadcast_mul1                  \u001b[0m\n",
      "\u001b[31m________________________________________________________________________________________________________________________\u001b[0m\n",
      "\u001b[31msum3(sum)                                           1                       0           reshape1                        \u001b[0m\n",
      "\u001b[31m________________________________________________________________________________________________________________________\u001b[0m\n",
      "\u001b[31mzeros_like1(zeros_like)                             1                       0           sum3                            \u001b[0m\n",
      "\u001b[31m________________________________________________________________________________________________________________________\u001b[0m\n",
      "\u001b[31m_equal1(_equal)                                     1                       0           sum3                            \n",
      "                                                                                        zeros_like1                     \u001b[0m\n",
      "\u001b[31m________________________________________________________________________________________________________________________\u001b[0m\n",
      "\u001b[31m_plus1(elemwise_add)                                1                       0           sum3                            \n",
      "                                                                                        _equal1                         \u001b[0m\n",
      "\u001b[31m________________________________________________________________________________________________________________________\u001b[0m\n",
      "\u001b[31mbroadcast_div1(broadcast_div)                       2048                    0           sum2                            \n",
      "                                                                                        _plus1                          \u001b[0m\n",
      "\u001b[31m________________________________________________________________________________________________________________________\u001b[0m\n",
      "\u001b[31mdropout1(Dropout)                                   2048                    0           broadcast_div1                  \u001b[0m\n",
      "\u001b[31m________________________________________________________________________________________________________________________\u001b[0m\n",
      "\u001b[31m_mul0(elemwise_mul)                                 2048                    0           dropout0                        \n",
      "                                                                                        dropout1                        \u001b[0m\n",
      "\u001b[31m________________________________________________________________________________________________________________________\u001b[0m\n",
      "\u001b[31m_minus0(elemwise_sub)                               2048                    0           dropout0                        \n",
      "                                                                                        dropout1                        \u001b[0m\n",
      "\u001b[31m________________________________________________________________________________________________________________________\u001b[0m\n",
      "\u001b[31mabs0(abs)                                           2048                    0           _minus0                         \u001b[0m\n",
      "\u001b[31m________________________________________________________________________________________________________________________\u001b[0m\n",
      "\u001b[31mconcat0(Concat)                                     8192                    0           _mul0                           \n",
      "                                                                                        dropout0                        \n",
      "                                                                                        dropout1                        \n",
      "                                                                                        abs0                            \u001b[0m\n",
      "\u001b[31m________________________________________________________________________________________________________________________\u001b[0m\n",
      "\u001b[31mmlp_fc0(FullyConnected)                             1024                    8389632     concat0                         \u001b[0m\n",
      "\u001b[31m________________________________________________________________________________________________________________________\u001b[0m\n",
      "\u001b[31mactivation0(Activation)                             1024                    0           mlp_fc0                         \u001b[0m\n",
      "\u001b[31m________________________________________________________________________________________________________________________\u001b[0m\n",
      "\u001b[31mdropout2(Dropout)                                   1024                    0           activation0                     \u001b[0m\n",
      "\u001b[31m________________________________________________________________________________________________________________________\u001b[0m\n",
      "\u001b[31moutput_layer(FullyConnected)                        2                       2050        dropout2                        \u001b[0m\n",
      "\u001b[31m________________________________________________________________________________________________________________________\u001b[0m\n",
      "\u001b[31mout_layer(SoftmaxOutput)                            2                       0           output_layer                    \u001b[0m\n",
      "\u001b[31m========================================================================================================================\u001b[0m\n",
      "\u001b[31mTotal params: 8391682\u001b[0m\n",
      "\u001b[31m________________________________________________________________________________________________________________________\u001b[0m\n",
      "\u001b[31m[06/18/2019 18:57:58 INFO 140144465917760] data_shapes [DataDesc[source,(2048, 1),<type 'numpy.float32'>,NTC], DataDesc[target,(2048, 1),<type 'numpy.float32'>,NTC]]\u001b[0m\n",
      "\u001b[31m[06/18/2019 18:57:58 INFO 140144465917760] label_shapes [DataDesc[out_layer_label,(2048,),<type 'numpy.float32'>,NTC]]\u001b[0m\n",
      "\u001b[31m[06/18/2019 18:57:58 INFO 140144465917760] fixed_param_names: []\u001b[0m\n",
      "\u001b[31m[06/18/2019 18:57:58 INFO 140144465917760] Initialized BucketingPlus Module\u001b[0m\n"
     ]
    },
    {
     "name": "stdout",
     "output_type": "stream",
     "text": [
      "\n",
      "2019-06-18 18:57:52 Training - Training image download completed. Training in progress.\u001b[31m[06/18/2019 18:58:01 INFO 140144465917760] arg_params keys for module initialization: []\u001b[0m\n",
      "\u001b[31m[06/18/2019 18:58:01 INFO 140144465917760] all params:['output_layer_weight', 'mlp_fc0_weight', 'mlp_fc0_bias', 'output_layer_bias', 'embed_1_weight', 'embed_0_weight']\u001b[0m\n",
      "\u001b[31m#metrics {\"Metrics\": {\"initialize.time\": {\"count\": 1, \"max\": 3688.86399269104, \"sum\": 3688.86399269104, \"min\": 3688.86399269104}}, \"EndTime\": 1560884281.672203, \"Dimensions\": {\"Host\": \"algo-1\", \"Operation\": \"training\", \"Algorithm\": \"ObjectToVec\"}, \"StartTime\": 1560884274.901515}\n",
      "\u001b[0m\n",
      "\u001b[31m#metrics {\"Metrics\": {\"Max Batches Seen Between Resets\": {\"count\": 1, \"max\": 0, \"sum\": 0.0, \"min\": 0}, \"Number of Batches Since Last Reset\": {\"count\": 1, \"max\": 0, \"sum\": 0.0, \"min\": 0}, \"Number of Records Since Last Reset\": {\"count\": 1, \"max\": 0, \"sum\": 0.0, \"min\": 0}, \"Total Batches Seen\": {\"count\": 1, \"max\": 0, \"sum\": 0.0, \"min\": 0}, \"Total Records Seen\": {\"count\": 1, \"max\": 0, \"sum\": 0.0, \"min\": 0}, \"Max Records Seen Between Resets\": {\"count\": 1, \"max\": 0, \"sum\": 0.0, \"min\": 0}, \"Reset Count\": {\"count\": 1, \"max\": 0, \"sum\": 0.0, \"min\": 0}}, \"EndTime\": 1560884281.672531, \"Dimensions\": {\"Host\": \"algo-1\", \"Meta\": \"init_train_data_iter\", \"Operation\": \"training\", \"Algorithm\": \"ObjectToVec\"}, \"StartTime\": 1560884281.672313}\n",
      "\u001b[0m\n",
      "\u001b[31m[06/18/2019 18:58:05 INFO 140144465917760] **************\u001b[0m\n",
      "\u001b[31m[06/18/2019 18:58:05 INFO 140144465917760] Completed Epoch: 0, time taken: 0:00:04.068016\u001b[0m\n",
      "\u001b[31m[06/18/2019 18:58:05 INFO 140144465917760] Epoch 0 Training metrics:   perplexity: 1.854 cross_entropy: 0.617 accuracy: 0.652 \u001b[0m\n",
      "\u001b[31m[06/18/2019 18:58:05 INFO 140144465917760] #quality_metric: host=algo-1, epoch=0, train cross_entropy <loss>=0.617191061709\u001b[0m\n",
      "\u001b[31m[06/18/2019 18:58:05 INFO 140144465917760] #quality_metric: host=algo-1, epoch=0, train accuracy <score>=0.6517578125\u001b[0m\n",
      "\u001b[31m[06/18/2019 18:58:06 INFO 140144465917760] Epoch 0 Validation metrics: perplexity: 1.787 cross_entropy: 0.580 accuracy: 0.699 \u001b[0m\n",
      "\u001b[31m[06/18/2019 18:58:06 INFO 140144465917760] #quality_metric: host=algo-1, epoch=0, validation cross_entropy <loss>=0.580435240269\u001b[0m\n",
      "\u001b[31m[06/18/2019 18:58:06 INFO 140144465917760] #quality_metric: host=algo-1, epoch=0, validation accuracy <score>=0.69931640625\u001b[0m\n",
      "\u001b[31m[06/18/2019 18:58:06 INFO 140144465917760] **************\u001b[0m\n",
      "\u001b[31m#metrics {\"Metrics\": {\"epochs\": {\"count\": 1, \"max\": 20, \"sum\": 20.0, \"min\": 20}, \"early_stop.time\": {\"count\": 1, \"max\": 0.48995018005371094, \"sum\": 0.48995018005371094, \"min\": 0.48995018005371094}, \"update.time\": {\"count\": 1, \"max\": 4188.107013702393, \"sum\": 4188.107013702393, \"min\": 4188.107013702393}}, \"EndTime\": 1560884286.074781, \"Dimensions\": {\"Host\": \"algo-1\", \"Operation\": \"training\", \"Algorithm\": \"ObjectToVec\"}, \"StartTime\": 1560884281.672272}\n",
      "\u001b[0m\n",
      "\u001b[31m[06/18/2019 18:58:06 INFO 140144465917760] #progress_metric: host=algo-1, completed 5 % of epochs\u001b[0m\n",
      "\u001b[31m#metrics {\"Metrics\": {\"Max Batches Seen Between Resets\": {\"count\": 1, \"max\": 45, \"sum\": 45.0, \"min\": 45}, \"Number of Batches Since Last Reset\": {\"count\": 1, \"max\": 45, \"sum\": 45.0, \"min\": 45}, \"Number of Records Since Last Reset\": {\"count\": 1, \"max\": 92160, \"sum\": 92160.0, \"min\": 92160}, \"Total Batches Seen\": {\"count\": 1, \"max\": 45, \"sum\": 45.0, \"min\": 45}, \"Total Records Seen\": {\"count\": 1, \"max\": 92160, \"sum\": 92160.0, \"min\": 92160}, \"Max Records Seen Between Resets\": {\"count\": 1, \"max\": 92160, \"sum\": 92160.0, \"min\": 92160}, \"Reset Count\": {\"count\": 1, \"max\": 1, \"sum\": 1.0, \"min\": 1}}, \"EndTime\": 1560884286.075096, \"Dimensions\": {\"Host\": \"algo-1\", \"Meta\": \"training_data_iter\", \"Operation\": \"training\", \"Algorithm\": \"ObjectToVec\", \"epoch\": 0}, \"StartTime\": 1560884281.886641}\n",
      "\u001b[0m\n",
      "\u001b[31m[06/18/2019 18:58:06 INFO 140144465917760] #throughput_metric: host=algo-1, train throughput=22002.3526639 records/second\u001b[0m\n",
      "\u001b[31m[06/18/2019 18:58:10 INFO 140144465917760] **************\u001b[0m\n",
      "\u001b[31m[06/18/2019 18:58:10 INFO 140144465917760] Completed Epoch: 1, time taken: 0:00:04.059556\u001b[0m\n",
      "\u001b[31m[06/18/2019 18:58:10 INFO 140144465917760] Epoch 1 Training metrics:   perplexity: 1.724 cross_entropy: 0.544 accuracy: 0.721 \u001b[0m\n",
      "\u001b[31m[06/18/2019 18:58:10 INFO 140144465917760] #quality_metric: host=algo-1, epoch=1, train cross_entropy <loss>=0.544386733903\u001b[0m\n",
      "\u001b[31m[06/18/2019 18:58:10 INFO 140144465917760] #quality_metric: host=algo-1, epoch=1, train accuracy <score>=0.721072048611\u001b[0m\n",
      "\u001b[31m[06/18/2019 18:58:10 INFO 140144465917760] Epoch 1 Validation metrics: perplexity: 1.778 cross_entropy: 0.575 accuracy: 0.701 \u001b[0m\n",
      "\u001b[31m[06/18/2019 18:58:10 INFO 140144465917760] #quality_metric: host=algo-1, epoch=1, validation cross_entropy <loss>=0.57538164854\u001b[0m\n",
      "\u001b[31m[06/18/2019 18:58:10 INFO 140144465917760] #quality_metric: host=algo-1, epoch=1, validation accuracy <score>=0.7013671875\u001b[0m\n",
      "\u001b[31m[06/18/2019 18:58:10 INFO 140144465917760] **************\u001b[0m\n",
      "\u001b[31m#metrics {\"Metrics\": {\"early_stop.time\": {\"count\": 1, \"max\": 16.005992889404297, \"sum\": 16.005992889404297, \"min\": 16.005992889404297}, \"update.time\": {\"count\": 1, \"max\": 4192.279815673828, \"sum\": 4192.279815673828, \"min\": 4192.279815673828}}, \"EndTime\": 1560884290.336747, \"Dimensions\": {\"Host\": \"algo-1\", \"Operation\": \"training\", \"Algorithm\": \"ObjectToVec\"}, \"StartTime\": 1560884286.074892}\n",
      "\u001b[0m\n",
      "\u001b[31m[06/18/2019 18:58:10 INFO 140144465917760] #progress_metric: host=algo-1, completed 10 % of epochs\u001b[0m\n",
      "\u001b[31m#metrics {\"Metrics\": {\"Max Batches Seen Between Resets\": {\"count\": 1, \"max\": 45, \"sum\": 45.0, \"min\": 45}, \"Number of Batches Since Last Reset\": {\"count\": 1, \"max\": 45, \"sum\": 45.0, \"min\": 45}, \"Number of Records Since Last Reset\": {\"count\": 1, \"max\": 92160, \"sum\": 92160.0, \"min\": 92160}, \"Total Batches Seen\": {\"count\": 1, \"max\": 90, \"sum\": 90.0, \"min\": 90}, \"Total Records Seen\": {\"count\": 1, \"max\": 184320, \"sum\": 184320.0, \"min\": 184320}, \"Max Records Seen Between Resets\": {\"count\": 1, \"max\": 92160, \"sum\": 92160.0, \"min\": 92160}, \"Reset Count\": {\"count\": 1, \"max\": 2, \"sum\": 2.0, \"min\": 2}}, \"EndTime\": 1560884290.337098, \"Dimensions\": {\"Host\": \"algo-1\", \"Meta\": \"training_data_iter\", \"Operation\": \"training\", \"Algorithm\": \"ObjectToVec\", \"epoch\": 1}, \"StartTime\": 1560884286.144443}\n",
      "\u001b[0m\n",
      "\u001b[31m[06/18/2019 18:58:10 INFO 140144465917760] #throughput_metric: host=algo-1, train throughput=21980.5428289 records/second\u001b[0m\n",
      "\u001b[31m[06/18/2019 18:58:14 INFO 140144465917760] **************\u001b[0m\n",
      "\u001b[31m[06/18/2019 18:58:14 INFO 140144465917760] Completed Epoch: 2, time taken: 0:00:04.043875\u001b[0m\n",
      "\u001b[31m[06/18/2019 18:58:14 INFO 140144465917760] Epoch 2 Training metrics:   perplexity: 1.654 cross_entropy: 0.503 accuracy: 0.749 \u001b[0m\n",
      "\u001b[31m[06/18/2019 18:58:14 INFO 140144465917760] #quality_metric: host=algo-1, epoch=2, train cross_entropy <loss>=0.503328674369\u001b[0m\n",
      "\u001b[31m[06/18/2019 18:58:14 INFO 140144465917760] #quality_metric: host=algo-1, epoch=2, train accuracy <score>=0.74873046875\u001b[0m\n",
      "\u001b[31m[06/18/2019 18:58:14 INFO 140144465917760] Epoch 2 Validation metrics: perplexity: 1.801 cross_entropy: 0.588 accuracy: 0.695 \u001b[0m\n",
      "\u001b[31m[06/18/2019 18:58:14 INFO 140144465917760] #quality_metric: host=algo-1, epoch=2, validation cross_entropy <loss>=0.588396525383\u001b[0m\n",
      "\u001b[31m[06/18/2019 18:58:14 INFO 140144465917760] #quality_metric: host=algo-1, epoch=2, validation accuracy <score>=0.69462890625\u001b[0m\n",
      "\u001b[31m[06/18/2019 18:58:14 INFO 140144465917760] **************\u001b[0m\n",
      "\u001b[31m#metrics {\"Metrics\": {\"early_stop.time\": {\"count\": 1, \"max\": 0.02288818359375, \"sum\": 0.02288818359375, \"min\": 0.02288818359375}, \"update.time\": {\"count\": 1, \"max\": 4158.092021942139, \"sum\": 4158.092021942139, \"min\": 4158.092021942139}}, \"EndTime\": 1560884294.623934, \"Dimensions\": {\"Host\": \"algo-1\", \"Operation\": \"training\", \"Algorithm\": \"ObjectToVec\"}, \"StartTime\": 1560884290.336849}\n",
      "\u001b[0m\n",
      "\u001b[31m[06/18/2019 18:58:14 INFO 140144465917760] #progress_metric: host=algo-1, completed 15 % of epochs\u001b[0m\n",
      "\u001b[31m#metrics {\"Metrics\": {\"Max Batches Seen Between Resets\": {\"count\": 1, \"max\": 45, \"sum\": 45.0, \"min\": 45}, \"Number of Batches Since Last Reset\": {\"count\": 1, \"max\": 45, \"sum\": 45.0, \"min\": 45}, \"Number of Records Since Last Reset\": {\"count\": 1, \"max\": 92160, \"sum\": 92160.0, \"min\": 92160}, \"Total Batches Seen\": {\"count\": 1, \"max\": 135, \"sum\": 135.0, \"min\": 135}, \"Total Records Seen\": {\"count\": 1, \"max\": 276480, \"sum\": 276480.0, \"min\": 276480}, \"Max Records Seen Between Resets\": {\"count\": 1, \"max\": 92160, \"sum\": 92160.0, \"min\": 92160}, \"Reset Count\": {\"count\": 1, \"max\": 3, \"sum\": 3.0, \"min\": 3}}, \"EndTime\": 1560884294.624191, \"Dimensions\": {\"Host\": \"algo-1\", \"Meta\": \"training_data_iter\", \"Operation\": \"training\", \"Algorithm\": \"ObjectToVec\", \"epoch\": 2}, \"StartTime\": 1560884290.465812}\n",
      "\u001b[0m\n",
      "\u001b[31m[06/18/2019 18:58:14 INFO 140144465917760] #throughput_metric: host=algo-1, train throughput=22161.5223302 records/second\u001b[0m\n",
      "\u001b[31m[06/18/2019 18:58:18 INFO 140144465917760] **************\u001b[0m\n",
      "\u001b[31m[06/18/2019 18:58:18 INFO 140144465917760] Completed Epoch: 3, time taken: 0:00:04.055201\u001b[0m\n",
      "\u001b[31m[06/18/2019 18:58:18 INFO 140144465917760] Epoch 3 Training metrics:   perplexity: 1.374 cross_entropy: 0.318 accuracy: 0.873 \u001b[0m\n",
      "\u001b[31m[06/18/2019 18:58:18 INFO 140144465917760] #quality_metric: host=algo-1, epoch=3, train cross_entropy <loss>=0.317769153251\u001b[0m\n",
      "\u001b[31m[06/18/2019 18:58:18 INFO 140144465917760] #quality_metric: host=algo-1, epoch=3, train accuracy <score>=0.872515190972\u001b[0m\n",
      "\u001b[31m[06/18/2019 18:58:18 INFO 140144465917760] Epoch 3 Validation metrics: perplexity: 2.125 cross_entropy: 0.754 accuracy: 0.678 \u001b[0m\n",
      "\u001b[31m[06/18/2019 18:58:18 INFO 140144465917760] #quality_metric: host=algo-1, epoch=3, validation cross_entropy <loss>=0.753871929646\u001b[0m\n",
      "\u001b[31m[06/18/2019 18:58:18 INFO 140144465917760] #quality_metric: host=algo-1, epoch=3, validation accuracy <score>=0.67822265625\u001b[0m\n",
      "\u001b[31m[06/18/2019 18:58:18 INFO 140144465917760] **************\u001b[0m\n",
      "\u001b[31m[06/18/2019 18:58:18 INFO 140144465917760] patience losses: [0.5804352402687073, 0.57538164854049678, 0.58839652538299558]\u001b[0m\n",
      "\u001b[31m[06/18/2019 18:58:18 INFO 140144465917760] min patience losses: 0.57538164854\u001b[0m\n",
      "\u001b[31m[06/18/2019 18:58:18 INFO 140144465917760] current loss: 0.753871929646\u001b[0m\n",
      "\u001b[31m[06/18/2019 18:58:18 INFO 140144465917760] absolute loss difference: 0.178490281105\u001b[0m\n",
      "\u001b[31m[06/18/2019 18:58:18 INFO 140144465917760] Bad epoch: loss has not improved (enough). Bad count:1\u001b[0m\n",
      "\u001b[31m#metrics {\"Metrics\": {\"early_stop.time\": {\"count\": 1, \"max\": 0.4291534423828125, \"sum\": 0.4291534423828125, \"min\": 0.4291534423828125}, \"update.time\": {\"count\": 1, \"max\": 4169.78907585144, \"sum\": 4169.78907585144, \"min\": 4169.78907585144}}, \"EndTime\": 1560884298.798642, \"Dimensions\": {\"Host\": \"algo-1\", \"Operation\": \"training\", \"Algorithm\": \"ObjectToVec\"}, \"StartTime\": 1560884294.624019}\n",
      "\u001b[0m\n",
      "\u001b[31m[06/18/2019 18:58:18 INFO 140144465917760] #progress_metric: host=algo-1, completed 20 % of epochs\u001b[0m\n",
      "\u001b[31m#metrics {\"Metrics\": {\"Max Batches Seen Between Resets\": {\"count\": 1, \"max\": 45, \"sum\": 45.0, \"min\": 45}, \"Number of Batches Since Last Reset\": {\"count\": 1, \"max\": 45, \"sum\": 45.0, \"min\": 45}, \"Number of Records Since Last Reset\": {\"count\": 1, \"max\": 92160, \"sum\": 92160.0, \"min\": 92160}, \"Total Batches Seen\": {\"count\": 1, \"max\": 180, \"sum\": 180.0, \"min\": 180}, \"Total Records Seen\": {\"count\": 1, \"max\": 368640, \"sum\": 368640.0, \"min\": 368640}, \"Max Records Seen Between Resets\": {\"count\": 1, \"max\": 92160, \"sum\": 92160.0, \"min\": 92160}, \"Reset Count\": {\"count\": 1, \"max\": 4, \"sum\": 4.0, \"min\": 4}}, \"EndTime\": 1560884298.798909, \"Dimensions\": {\"Host\": \"algo-1\", \"Meta\": \"training_data_iter\", \"Operation\": \"training\", \"Algorithm\": \"ObjectToVec\", \"epoch\": 3}, \"StartTime\": 1560884294.628829}\n",
      "\u001b[0m\n",
      "\u001b[31m[06/18/2019 18:58:18 INFO 140144465917760] #throughput_metric: host=algo-1, train throughput=22099.6323755 records/second\u001b[0m\n"
     ]
    },
    {
     "name": "stdout",
     "output_type": "stream",
     "text": [
      "\u001b[31m[06/18/2019 18:58:22 INFO 140144465917760] **************\u001b[0m\n",
      "\u001b[31m[06/18/2019 18:58:22 INFO 140144465917760] Completed Epoch: 4, time taken: 0:00:04.056088\u001b[0m\n",
      "\u001b[31m[06/18/2019 18:58:22 INFO 140144465917760] Epoch 4 Training metrics:   perplexity: 1.073 cross_entropy: 0.070 accuracy: 0.982 \u001b[0m\n",
      "\u001b[31m[06/18/2019 18:58:22 INFO 140144465917760] #quality_metric: host=algo-1, epoch=4, train cross_entropy <loss>=0.0703359800908\u001b[0m\n",
      "\u001b[31m[06/18/2019 18:58:22 INFO 140144465917760] #quality_metric: host=algo-1, epoch=4, train accuracy <score>=0.982183159722\u001b[0m\n",
      "\u001b[31m[06/18/2019 18:58:22 INFO 140144465917760] Epoch 4 Validation metrics: perplexity: 2.576 cross_entropy: 0.946 accuracy: 0.687 \u001b[0m\n",
      "\u001b[31m[06/18/2019 18:58:22 INFO 140144465917760] #quality_metric: host=algo-1, epoch=4, validation cross_entropy <loss>=0.946404016018\u001b[0m\n",
      "\u001b[31m[06/18/2019 18:58:22 INFO 140144465917760] #quality_metric: host=algo-1, epoch=4, validation accuracy <score>=0.6865234375\u001b[0m\n",
      "\u001b[31m[06/18/2019 18:58:22 INFO 140144465917760] **************\u001b[0m\n",
      "\u001b[31m[06/18/2019 18:58:22 INFO 140144465917760] patience losses: [0.57538164854049678, 0.58839652538299558, 0.75387192964553829]\u001b[0m\n",
      "\u001b[31m[06/18/2019 18:58:22 INFO 140144465917760] min patience losses: 0.57538164854\u001b[0m\n",
      "\u001b[31m[06/18/2019 18:58:22 INFO 140144465917760] current loss: 0.946404016018\u001b[0m\n",
      "\u001b[31m[06/18/2019 18:58:22 INFO 140144465917760] absolute loss difference: 0.371022367477\u001b[0m\n",
      "\u001b[31m[06/18/2019 18:58:22 INFO 140144465917760] Bad epoch: loss has not improved (enough). Bad count:2\u001b[0m\n",
      "\u001b[31m#metrics {\"Metrics\": {\"early_stop.time\": {\"count\": 1, \"max\": 0.4661083221435547, \"sum\": 0.4661083221435547, \"min\": 0.4661083221435547}, \"update.time\": {\"count\": 1, \"max\": 4174.579858779907, \"sum\": 4174.579858779907, \"min\": 4174.579858779907}}, \"EndTime\": 1560884302.978047, \"Dimensions\": {\"Host\": \"algo-1\", \"Operation\": \"training\", \"Algorithm\": \"ObjectToVec\"}, \"StartTime\": 1560884298.798738}\n",
      "\u001b[0m\n",
      "\u001b[31m[06/18/2019 18:58:22 INFO 140144465917760] #progress_metric: host=algo-1, completed 25 % of epochs\u001b[0m\n",
      "\u001b[31m#metrics {\"Metrics\": {\"Max Batches Seen Between Resets\": {\"count\": 1, \"max\": 45, \"sum\": 45.0, \"min\": 45}, \"Number of Batches Since Last Reset\": {\"count\": 1, \"max\": 45, \"sum\": 45.0, \"min\": 45}, \"Number of Records Since Last Reset\": {\"count\": 1, \"max\": 92160, \"sum\": 92160.0, \"min\": 92160}, \"Total Batches Seen\": {\"count\": 1, \"max\": 225, \"sum\": 225.0, \"min\": 225}, \"Total Records Seen\": {\"count\": 1, \"max\": 460800, \"sum\": 460800.0, \"min\": 460800}, \"Max Records Seen Between Resets\": {\"count\": 1, \"max\": 92160, \"sum\": 92160.0, \"min\": 92160}, \"Reset Count\": {\"count\": 1, \"max\": 5, \"sum\": 5.0, \"min\": 5}}, \"EndTime\": 1560884302.978312, \"Dimensions\": {\"Host\": \"algo-1\", \"Meta\": \"training_data_iter\", \"Operation\": \"training\", \"Algorithm\": \"ObjectToVec\", \"epoch\": 4}, \"StartTime\": 1560884298.803445}\n",
      "\u001b[0m\n",
      "\u001b[31m[06/18/2019 18:58:22 INFO 140144465917760] #throughput_metric: host=algo-1, train throughput=22074.2832636 records/second\u001b[0m\n",
      "\u001b[31m[06/18/2019 18:58:27 INFO 140144465917760] **************\u001b[0m\n",
      "\u001b[31m[06/18/2019 18:58:27 INFO 140144465917760] Completed Epoch: 5, time taken: 0:00:04.056354\u001b[0m\n",
      "\u001b[31m[06/18/2019 18:58:27 INFO 140144465917760] Epoch 5 Training metrics:   perplexity: 1.013 cross_entropy: 0.013 accuracy: 0.999 \u001b[0m\n",
      "\u001b[31m[06/18/2019 18:58:27 INFO 140144465917760] #quality_metric: host=algo-1, epoch=5, train cross_entropy <loss>=0.0132034111561\u001b[0m\n",
      "\u001b[31m[06/18/2019 18:58:27 INFO 140144465917760] #quality_metric: host=algo-1, epoch=5, train accuracy <score>=0.998524305556\u001b[0m\n",
      "\n",
      "2019-06-18 18:58:33 Uploading - Uploading generated training model\u001b[31m[06/18/2019 18:58:27 INFO 140144465917760] Epoch 5 Validation metrics: perplexity: 2.861 cross_entropy: 1.051 accuracy: 0.694 \u001b[0m\n",
      "\u001b[31m[06/18/2019 18:58:27 INFO 140144465917760] #quality_metric: host=algo-1, epoch=5, validation cross_entropy <loss>=1.05122437477\u001b[0m\n",
      "\u001b[31m[06/18/2019 18:58:27 INFO 140144465917760] #quality_metric: host=algo-1, epoch=5, validation accuracy <score>=0.6939453125\u001b[0m\n",
      "\u001b[31m[06/18/2019 18:58:27 INFO 140144465917760] **************\u001b[0m\n",
      "\u001b[31m[06/18/2019 18:58:27 INFO 140144465917760] patience losses: [0.58839652538299558, 0.75387192964553829, 0.9464040160179138]\u001b[0m\n",
      "\u001b[31m[06/18/2019 18:58:27 INFO 140144465917760] min patience losses: 0.588396525383\u001b[0m\n",
      "\u001b[31m[06/18/2019 18:58:27 INFO 140144465917760] current loss: 1.05122437477\u001b[0m\n",
      "\u001b[31m[06/18/2019 18:58:27 INFO 140144465917760] absolute loss difference: 0.462827849388\u001b[0m\n",
      "\u001b[31m[06/18/2019 18:58:27 INFO 140144465917760] Bad epoch: loss has not improved (enough). Bad count:3\u001b[0m\n",
      "\u001b[31m#metrics {\"Metrics\": {\"early_stop.time\": {\"count\": 1, \"max\": 0.4820823669433594, \"sum\": 0.4820823669433594, \"min\": 0.4820823669433594}, \"update.time\": {\"count\": 1, \"max\": 4175.193071365356, \"sum\": 4175.193071365356, \"min\": 4175.193071365356}}, \"EndTime\": 1560884307.158329, \"Dimensions\": {\"Host\": \"algo-1\", \"Operation\": \"training\", \"Algorithm\": \"ObjectToVec\"}, \"StartTime\": 1560884302.978137}\n",
      "\u001b[0m\n",
      "\u001b[31m[06/18/2019 18:58:27 INFO 140144465917760] #progress_metric: host=algo-1, completed 30 % of epochs\u001b[0m\n",
      "\u001b[31m#metrics {\"Metrics\": {\"Max Batches Seen Between Resets\": {\"count\": 1, \"max\": 45, \"sum\": 45.0, \"min\": 45}, \"Number of Batches Since Last Reset\": {\"count\": 1, \"max\": 45, \"sum\": 45.0, \"min\": 45}, \"Number of Records Since Last Reset\": {\"count\": 1, \"max\": 92160, \"sum\": 92160.0, \"min\": 92160}, \"Total Batches Seen\": {\"count\": 1, \"max\": 270, \"sum\": 270.0, \"min\": 270}, \"Total Records Seen\": {\"count\": 1, \"max\": 552960, \"sum\": 552960.0, \"min\": 552960}, \"Max Records Seen Between Resets\": {\"count\": 1, \"max\": 92160, \"sum\": 92160.0, \"min\": 92160}, \"Reset Count\": {\"count\": 1, \"max\": 6, \"sum\": 6.0, \"min\": 6}}, \"EndTime\": 1560884307.158589, \"Dimensions\": {\"Host\": \"algo-1\", \"Meta\": \"training_data_iter\", \"Operation\": \"training\", \"Algorithm\": \"ObjectToVec\", \"epoch\": 5}, \"StartTime\": 1560884302.983113}\n",
      "\u001b[0m\n",
      "\u001b[31m[06/18/2019 18:58:27 INFO 140144465917760] #throughput_metric: host=algo-1, train throughput=22071.0957139 records/second\u001b[0m\n",
      "\u001b[31m[06/18/2019 18:58:31 INFO 140144465917760] **************\u001b[0m\n",
      "\u001b[31m[06/18/2019 18:58:31 INFO 140144465917760] Completed Epoch: 6, time taken: 0:00:04.064046\u001b[0m\n",
      "\u001b[31m[06/18/2019 18:58:31 INFO 140144465917760] Epoch 6 Training metrics:   perplexity: 1.003 cross_entropy: 0.003 accuracy: 1.000 \u001b[0m\n",
      "\u001b[31m[06/18/2019 18:58:31 INFO 140144465917760] #quality_metric: host=algo-1, epoch=6, train cross_entropy <loss>=0.00298274884828\u001b[0m\n",
      "\u001b[31m[06/18/2019 18:58:31 INFO 140144465917760] #quality_metric: host=algo-1, epoch=6, train accuracy <score>=0.999978298611\u001b[0m\n",
      "\u001b[31m[06/18/2019 18:58:31 INFO 140144465917760] Epoch 6 Validation metrics: perplexity: 3.033 cross_entropy: 1.109 accuracy: 0.698 \u001b[0m\n",
      "\u001b[31m[06/18/2019 18:58:31 INFO 140144465917760] #quality_metric: host=algo-1, epoch=6, validation cross_entropy <loss>=1.10949792862\u001b[0m\n",
      "\u001b[31m[06/18/2019 18:58:31 INFO 140144465917760] #quality_metric: host=algo-1, epoch=6, validation accuracy <score>=0.698046875\u001b[0m\n",
      "\u001b[31m[06/18/2019 18:58:31 INFO 140144465917760] **************\u001b[0m\n",
      "\u001b[31m[06/18/2019 18:58:31 INFO 140144465917760] patience losses: [0.75387192964553829, 0.9464040160179138, 1.0512243747711181]\u001b[0m\n",
      "\u001b[31m[06/18/2019 18:58:31 INFO 140144465917760] min patience losses: 0.753871929646\u001b[0m\n",
      "\u001b[31m[06/18/2019 18:58:31 INFO 140144465917760] current loss: 1.10949792862\u001b[0m\n",
      "\u001b[31m[06/18/2019 18:58:31 INFO 140144465917760] absolute loss difference: 0.355625998974\u001b[0m\n",
      "\u001b[31m[06/18/2019 18:58:31 INFO 140144465917760] Bad epoch: loss has not improved (enough). Bad count:4\u001b[0m\n",
      "\u001b[31m[06/18/2019 18:58:31 INFO 140144465917760] Bad epochs exceeded patience. Stopping training early!\u001b[0m\n",
      "\u001b[31m[06/18/2019 18:58:31 INFO 140144465917760] Early stopping criterion met! Stopping training at epoch: 6\u001b[0m\n",
      "\u001b[31m#metrics {\"Metrics\": {\"early_stop.time\": {\"count\": 1, \"max\": 0.6120204925537109, \"sum\": 0.6120204925537109, \"min\": 0.6120204925537109}, \"update.time\": {\"count\": 1, \"max\": 4178.822994232178, \"sum\": 4178.822994232178, \"min\": 4178.822994232178}}, \"EndTime\": 1560884311.341909, \"Dimensions\": {\"Host\": \"algo-1\", \"Operation\": \"training\", \"Algorithm\": \"ObjectToVec\"}, \"StartTime\": 1560884307.158416}\n",
      "\u001b[0m\n",
      "\u001b[31m[06/18/2019 18:58:31 INFO 140144465917760] Early stop condition met. Stopping training.\u001b[0m\n",
      "\u001b[31m[06/18/2019 18:58:31 INFO 140144465917760] #progress_metric: host=algo-1, completed 100 % epochs\u001b[0m\n",
      "\u001b[31m#metrics {\"Metrics\": {\"Max Batches Seen Between Resets\": {\"count\": 1, \"max\": 45, \"sum\": 45.0, \"min\": 45}, \"Number of Batches Since Last Reset\": {\"count\": 1, \"max\": 45, \"sum\": 45.0, \"min\": 45}, \"Number of Records Since Last Reset\": {\"count\": 1, \"max\": 92160, \"sum\": 92160.0, \"min\": 92160}, \"Total Batches Seen\": {\"count\": 1, \"max\": 315, \"sum\": 315.0, \"min\": 315}, \"Total Records Seen\": {\"count\": 1, \"max\": 645120, \"sum\": 645120.0, \"min\": 645120}, \"Max Records Seen Between Resets\": {\"count\": 1, \"max\": 92160, \"sum\": 92160.0, \"min\": 92160}, \"Reset Count\": {\"count\": 1, \"max\": 7, \"sum\": 7.0, \"min\": 7}}, \"EndTime\": 1560884311.342196, \"Dimensions\": {\"Host\": \"algo-1\", \"Meta\": \"training_data_iter\", \"Operation\": \"training\", \"Algorithm\": \"ObjectToVec\", \"epoch\": 6}, \"StartTime\": 1560884307.163069}\n",
      "\u001b[0m\n",
      "\u001b[31m[06/18/2019 18:58:31 INFO 140144465917760] #throughput_metric: host=algo-1, train throughput=22051.787189 records/second\u001b[0m\n",
      "\u001b[31m[06/18/2019 18:58:31 WARNING 140144465917760] wait_for_all_workers will not sync workers since the kv store is not running distributed\u001b[0m\n",
      "\u001b[31m[06/18/2019 18:58:31 INFO 140144465917760] Best model based on epoch 1. Best loss: 0.575\u001b[0m\n",
      "\u001b[31m#metrics {\"Metrics\": {\"finalize.time\": {\"count\": 1, \"max\": 0.8940696716308594, \"sum\": 0.8940696716308594, \"min\": 0.8940696716308594}}, \"EndTime\": 1560884311.343419, \"Dimensions\": {\"Host\": \"algo-1\", \"Operation\": \"training\", \"Algorithm\": \"ObjectToVec\"}, \"StartTime\": 1560884311.341983}\n",
      "\u001b[0m\n",
      "\u001b[31m[06/18/2019 18:58:31 INFO 140144465917760] Serializing model to /opt/ml/model/model_algo-1\u001b[0m\n",
      "\u001b[31m[06/18/2019 18:58:31 INFO 140144465917760] Saved checkpoint to \"/tmp/tmpEplnWf/state-0001.params\"\u001b[0m\n",
      "\u001b[31m[06/18/2019 18:58:31 INFO 140144465917760] Test data is not provided.\u001b[0m\n",
      "\u001b[31m#metrics {\"Metrics\": {\"totaltime\": {\"count\": 1, \"max\": 36737.23816871643, \"sum\": 36737.23816871643, \"min\": 36737.23816871643}, \"model.serialize.time\": {\"count\": 1, \"max\": 183.07900428771973, \"sum\": 183.07900428771973, \"min\": 183.07900428771973}, \"setuptime\": {\"count\": 1, \"max\": 67.87419319152832, \"sum\": 67.87419319152832, \"min\": 67.87419319152832}}, \"EndTime\": 1560884311.530907, \"Dimensions\": {\"Host\": \"algo-1\", \"Operation\": \"training\", \"Algorithm\": \"ObjectToVec\"}, \"StartTime\": 1560884311.343467}\n",
      "\u001b[0m\n"
     ]
    },
    {
     "name": "stdout",
     "output_type": "stream",
     "text": [
      "\n",
      "2019-06-18 18:58:45 Completed - Training job completed\n",
      "Billable seconds: 120\n"
     ]
    }
   ],
   "source": [
    "## get estimator\n",
    "classifier = sagemaker.estimator.Estimator(container,\n",
    "                                    role, \n",
    "                                    train_instance_count=1, \n",
    "                                    train_instance_type='ml.p2.xlarge',\n",
    "                                    output_path=output_path,\n",
    "                                    sagemaker_session=sess)\n",
    "\n",
    "## set hyperparameters\n",
    "classifier.set_hyperparameters(**hyperparameters_c)\n",
    "\n",
    "## train, tune, and test the model\n",
    "classifier.fit(input_paths)"
   ]
  },
  {
   "cell_type": "markdown",
   "metadata": {},
   "source": [
    "Again, we can create, deploy, and validate the model after training"
   ]
  },
  {
   "cell_type": "code",
   "execution_count": 57,
   "metadata": {},
   "outputs": [
    {
     "name": "stdout",
     "output_type": "stream",
     "text": [
      "---------------------------------------------------------------------------------------------------!"
     ]
    }
   ],
   "source": [
    "classification_model = classifier.create_model(\n",
    "                        serializer=json_serializer,\n",
    "                        deserializer=json_deserializer,\n",
    "                        content_type='application/json')\n",
    "\n",
    "predictor_2 = classification_model.deploy(initial_instance_count=1, instance_type='ml.m4.xlarge')"
   ]
  },
  {
   "cell_type": "code",
   "execution_count": 58,
   "metadata": {},
   "outputs": [],
   "source": [
    "valid_c_data, valid_c_label = data_list_to_inference_format(copy.deepcopy(validation_data_list), \n",
    "                                                            label_thres=3, binarize=True)\n",
    "predictions = predictor_2.predict(valid_c_data)"
   ]
  },
  {
   "cell_type": "code",
   "execution_count": 59,
   "metadata": {},
   "outputs": [
    {
     "name": "stdout",
     "output_type": "stream",
     "text": [
      "The accuracy on the binarized validation set is 0.700\n"
     ]
    }
   ],
   "source": [
    "def get_class_accuracy(res, labels, thres):\n",
    "    if type(res) is dict:\n",
    "        res = res['predictions']\n",
    "    assert len(res)==len(labels), 'result and label length mismatch!'\n",
    "    accuracy = 0\n",
    "    for row, label in zip(res, labels):\n",
    "        if type(row) is dict:\n",
    "            if row['scores'][1] > thres:\n",
    "                prediction = 1\n",
    "            else: \n",
    "                prediction = 0\n",
    "            if label > thres:\n",
    "                label = 1\n",
    "            else:\n",
    "                label = 0\n",
    "            accuracy += 1 - (prediction - label)**2\n",
    "    return accuracy / float(len(res))\n",
    "\n",
    "print(\"The accuracy on the binarized validation set is %.3f\" %get_class_accuracy(predictions, valid_c_label, 0.5))"
   ]
  },
  {
   "cell_type": "markdown",
   "metadata": {},
   "source": [
    "The accuracy on validation set you would get should be approximately 0.704."
   ]
  },
  {
   "cell_type": "markdown",
   "metadata": {},
   "source": [
    "## Movie retrieval in the embedding space\n",
    "\n",
    "Since *Object2Vec* transforms user and movie ID's into embeddings as part of the training process. After training, it obtains user and movie embeddings in the left and right encoders, respectively. Intuitively, the embeddings should be tuned by the algorithm in a way that facilitates the supervised learning task: since for a specific user, similar movies should have similar ratings, we expect that similar movies should be **close-by** in the embedding space.\n",
    "\n",
    "In this section, we demonstrate how to find the nearest-neighbor (in Euclidean distance) of a given movie ID, among all movie ID's."
   ]
  },
  {
   "cell_type": "code",
   "execution_count": 86,
   "metadata": {},
   "outputs": [],
   "source": [
    "def get_movie_embedding_dict(movie_ids, trained_model):\n",
    "    input_instances = list()\n",
    "    for s_id in movie_ids:\n",
    "        input_instances.append({'in1': [s_id]})\n",
    "    data = {'instances': input_instances}\n",
    "    movie_embeddings = trained_model.predict(data)\n",
    "    embedding_dict = {}\n",
    "    for s_id, row in zip(movie_ids, movie_embeddings['predictions']):\n",
    "        embedding_dict[s_id] = np.array(row['embeddings'])\n",
    "    return embedding_dict\n",
    "\n",
    "\n",
    "def load_movie_id_name_map(item_file):\n",
    "    movieID_name_map = {}\n",
    "    with io.open(item_file, 'r', encoding=\"ISO-8859-1\") as f:\n",
    "        for row in f.readlines():\n",
    "            row = row.strip()\n",
    "            split = row.split('|')\n",
    "            movie_id = split[0]\n",
    "            movie_name = split[1]\n",
    "            sparse_tags = split[-19:]\n",
    "            movieID_name_map[int(movie_id)] = movie_name \n",
    "    return movieID_name_map\n",
    "\n",
    "            \n",
    "def get_nn_of_movie(movie_id, candidate_movie_ids, embedding_dict):\n",
    "    movie_emb = embedding_dict[movie_id]\n",
    "    min_dist = float('Inf')\n",
    "    best_id = candidate_movie_ids[0]\n",
    "    for idx, m_id in enumerate(candidate_movie_ids):\n",
    "        candidate_emb = embedding_dict[m_id]\n",
    "        curr_dist = np.linalg.norm(candidate_emb - movie_emb)\n",
    "        if curr_dist < min_dist:\n",
    "            best_id = m_id\n",
    "            min_dist = curr_dist\n",
    "    return best_id, min_dist\n",
    "\n",
    "\n",
    "def get_unique_movie_ids(data_list):\n",
    "    unique_movie_ids = set()\n",
    "    for row in data_list:\n",
    "        unique_movie_ids.add(row['in1'][0])\n",
    "    return list(unique_movie_ids)"
   ]
  },
  {
   "cell_type": "code",
   "execution_count": 87,
   "metadata": {},
   "outputs": [],
   "source": [
    "import copy\n",
    "train_data_list = load_csv_data(train_path, '\\t', verbose=False)\n",
    "unique_movie_ids = get_unique_movie_ids(train_data_list)\n",
    "embedding_dict = get_movie_embedding_dict(unique_movie_ids, predictor_2)\n",
    "\n",
    "candidate_movie_ids = copy.copy(unique_movie_ids)\n"
   ]
  },
  {
   "cell_type": "markdown",
   "metadata": {},
   "source": [
    "Using the script below, you can check out what is the closest movie to any movie in the data set. Last time we ran it, the closest movie to `Terminator, The (1984)` in the embedding space was `Die Hard (1988)`. Note that, the result will likely differ slightly across different runs of the algorithm, due to randomness in initialization of model parameters.\n",
    "\n",
    "- Just plug in the movie id you want to examine \n",
    "   - For example, the movie ID for Terminator is 195; you can find the movie name and ID pair in the `u.item` file\n",
    "- Note that, the result will likely differ across different runs of the algorithm, due to inherent randomness."
   ]
  },
  {
   "cell_type": "code",
   "execution_count": 90,
   "metadata": {},
   "outputs": [
    {
     "name": "stdout",
     "output_type": "stream",
     "text": [
      "The closest movie to Truth About Cats & Dogs, The (1996) in the embedding space is Birdcage, The (1996)\n"
     ]
    }
   ],
   "source": [
    "movie_id_to_examine = '111' # Customize the movie ID you want to examine\n",
    "candidate_movie_ids.remove(111)\n",
    "best_id, min_dist = get_nn_of_movie(111, candidate_movie_ids, embedding_dict)\n",
    "movieID_name_map = load_movie_id_name_map('ml-100k/u.item')\n",
    "print('The closest movie to {} in the embedding space is {}'.format(movieID_name_map[111],\n",
    "                                                                  movieID_name_map[best_id]))\n",
    "candidate_movie_ids.append(111)"
   ]
  },
  {
   "cell_type": "markdown",
   "metadata": {},
   "source": [
    "It is recommended to always delete the endpoints used for hosting the model"
   ]
  },
  {
   "cell_type": "code",
   "execution_count": null,
   "metadata": {},
   "outputs": [],
   "source": [
    "## clean up\n",
    "sess.delete_endpoint(predictor.endpoint)\n",
    "sess.delete_endpoint(predictor_2.endpoint)"
   ]
  }
 ],
 "metadata": {
  "kernelspec": {
   "display_name": "conda_amazonei_mxnet_p27",
   "language": "python",
   "name": "conda_amazonei_mxnet_p27"
  },
  "language_info": {
   "codemirror_mode": {
    "name": "ipython",
    "version": 2
   },
   "file_extension": ".py",
   "mimetype": "text/x-python",
   "name": "python",
   "nbconvert_exporter": "python",
   "pygments_lexer": "ipython2",
   "version": "2.7.15"
  }
 },
 "nbformat": 4,
 "nbformat_minor": 2
}
